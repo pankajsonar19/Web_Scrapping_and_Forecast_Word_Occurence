{
 "cells": [
  {
   "cell_type": "markdown",
   "metadata": {},
   "source": [
    "### Imports"
   ]
  },
  {
   "cell_type": "code",
   "execution_count": 1,
   "metadata": {
    "collapsed": true
   },
   "outputs": [],
   "source": [
    "# Import necessary packages\n",
    "import urllib\n",
    "from urllib.request import urlopen\n",
    "from bs4 import BeautifulSoup\n",
    "import bs4\n",
    "\n",
    "import pandas as pd\n",
    "import numpy as np\n",
    "\n",
    "import gensim\n",
    "\n",
    "\n",
    "from sklearn.feature_extraction.text import TfidfVectorizer\n",
    "from sklearn.model_selection import train_test_split\n",
    "from sklearn import tree\n",
    "from sklearn import linear_model\n",
    "\n",
    "import nltk.data\n",
    "\n",
    "# Load the punkt tokenizer\n",
    "tokenizer = nltk.data.load('tokenizers/punkt/english.pickle')\n",
    "import re\n",
    "from nltk.corpus import stopwords\n",
    "import wikipedia\n"
   ]
  },
  {
   "cell_type": "markdown",
   "metadata": {},
   "source": [
    "## My Approach\n",
    "\n",
    "\n",
    "I thought of following the below steps:\n",
    "\n",
    "    1. Scrape the webpages\n",
    "        1. Get the Dinosaur names and their links\n",
    "        2. Open each links to get the content of each dinosaur names\n",
    "        \n",
    "    2. Represent all the above scraping part into Dataframe\n",
    "    \n",
    "    3. Do Preprocessing on the contents that we have got ( remove stopwords, punctuations etc.)\n",
    "    \n",
    "    4. Use Word embeddings (Word2Vec model) - using CBOW approach - because it will give the the context of words which in respect to tagret words.\n",
    "    \n",
    "    5. Get the TFIDF matrix ( using this because - the top ranked terms will be used in combination with word embeddings of each of this words, and create seperate features of all these values)\n",
    "         1.Find the top ranked terms from TFIDF matrix\n",
    "    \n",
    "    6. Start Forecast \n",
    "        1. As I have to find the number of occurences of Dinosaur words. I will consider the target variable as count of dinosaur words that are already present in the content and then compare our predictions on it.\n",
    "        2. In order to get the predictions, I generated different features that are based on the Word embeddings that I created, and the TfIdf matrix top - ranked terms.\n",
    "        3. Use these features to Train-Test data and predict the outcome\n",
    "        \n",
    "        "
   ]
  },
  {
   "cell_type": "markdown",
   "metadata": {},
   "source": [
    "## Scrapping the Wikipedia pages"
   ]
  },
  {
   "cell_type": "markdown",
   "metadata": {},
   "source": [
    "#### Functions to save the files for checking purpose"
   ]
  },
  {
   "cell_type": "code",
   "execution_count": 2,
   "metadata": {
    "collapsed": true
   },
   "outputs": [],
   "source": [
    "# To open the link\n",
    "def open_link(baseurl,newurl):\n",
    "    rawtext = urllib.request.urlopen(baseurl+newurl)\n",
    "    soup = bs4.BeautifulSoup(rawtext,'lxml')\n",
    "    return soup\n",
    "\n",
    "# To open the file in 'w' mode\n",
    "def create_raw_file(file):\n",
    "    \n",
    "    # open file\n",
    "    with open(file, 'w', encoding='utf-8') as raw_category_file:\n",
    "        raw_category_file.close()\n",
    "    \n",
    "    \n",
    "# To open the file in 'a' mode\n",
    "def create_file(file,dino_list):\n",
    "    #category file include news-categories\n",
    "    with open(file,'a', encoding='utf-8') as file:\n",
    "        file.write(dino_list + '\\n')\n",
    "    file.close()"
   ]
  },
  {
   "cell_type": "markdown",
   "metadata": {},
   "source": [
    "#### Use this base url"
   ]
  },
  {
   "cell_type": "code",
   "execution_count": 3,
   "metadata": {
    "collapsed": true
   },
   "outputs": [],
   "source": [
    "baseurl='https://en.wikipedia.org'"
   ]
  },
  {
   "cell_type": "markdown",
   "metadata": {},
   "source": [
    "#### Scrapping more inside the links of each dinosaur pages to get context"
   ]
  },
  {
   "cell_type": "code",
   "execution_count": 4,
   "metadata": {},
   "outputs": [
    {
     "name": "stdout",
     "output_type": "stream",
     "text": [
      "[['Tyrannosaurus', 'https://en.wikipedia.org/wiki/Tyrannosaurus'], ['Apatosaurus', 'https://en.wikipedia.org/wiki/Apatosaurus'], ['Nomen dubium', 'https://en.wikipedia.org/wiki/Nomen_dubium'], ['Nomen nudum', 'https://en.wikipedia.org/wiki/Nomen_nudum'], ['Nomina dubia', 'https://en.wikipedia.org/wiki/Nomina_dubia'], ['Tyrannosaurus', 'https://en.wikipedia.org/wiki/Tyrannosaurus'], ['Nomen nudum', 'https://en.wikipedia.org/wiki/Nomen_nudum'], ['Nomen oblitum', 'https://en.wikipedia.org/wiki/Nomen_oblitum'], ['Nomen dubium', 'https://en.wikipedia.org/wiki/Nomen_dubium'], ['Hadrosaurus', 'https://en.wikipedia.org/wiki/Hadrosaurus'], ['Allosaurus', 'https://en.wikipedia.org/wiki/Allosaurus'], ['Aachenosaurus', 'https://en.wikipedia.org/wiki/Aachenosaurus'], ['Aardonyx', 'https://en.wikipedia.org/wiki/Aardonyx'], ['Abdallahsaurus', 'https://en.wikipedia.org/wiki/Abdallahsaurus'], ['Giraffatitan', 'https://en.wikipedia.org/wiki/Giraffatitan'], ['Abelisaurus', 'https://en.wikipedia.org/wiki/Abelisaurus'], ['Abrictosaurus', 'https://en.wikipedia.org/wiki/Abrictosaurus'], ['Abrosaurus', 'https://en.wikipedia.org/wiki/Abrosaurus'], ['Abydosaurus', 'https://en.wikipedia.org/wiki/Abydosaurus'], ['Acantholipan', 'https://en.wikipedia.org/wiki/Acantholipan'], ['Acanthopholis', 'https://en.wikipedia.org/wiki/Acanthopholis'], ['Achelousaurus', 'https://en.wikipedia.org/wiki/Achelousaurus'], ['Acheroraptor', 'https://en.wikipedia.org/wiki/Acheroraptor'], ['Achillesaurus', 'https://en.wikipedia.org/wiki/Achillesaurus'], ['Achillobator', 'https://en.wikipedia.org/wiki/Achillobator'], ['Acristavus', 'https://en.wikipedia.org/wiki/Acristavus'], ['Acrocanthosaurus', 'https://en.wikipedia.org/wiki/Acrocanthosaurus'], ['Acrotholus', 'https://en.wikipedia.org/wiki/Acrotholus'], ['Actiosaurus', 'https://en.wikipedia.org/wiki/Actiosaurus'], ['Adamantisaurus', 'https://en.wikipedia.org/wiki/Adamantisaurus'], ['Adasaurus', 'https://en.wikipedia.org/wiki/Adasaurus'], ['Adelolophus', 'https://en.wikipedia.org/wiki/Adelolophus'], ['Adeopapposaurus', 'https://en.wikipedia.org/wiki/Adeopapposaurus'], ['Adratiklit', 'https://en.wikipedia.org/wiki/Adratiklit'], ['Adynomosaurus', 'https://en.wikipedia.org/wiki/Adynomosaurus'], ['Aegyptosaurus', 'https://en.wikipedia.org/wiki/Aegyptosaurus'], ['Aeolosaurus', 'https://en.wikipedia.org/wiki/Aeolosaurus'], ['Aepisaurus', 'https://en.wikipedia.org/wiki/Aepisaurus'], ['Aepyornithomimus', 'https://en.wikipedia.org/wiki/Aepyornithomimus'], ['Aerosteon', 'https://en.wikipedia.org/wiki/Aerosteon'], ['Aetonyx', 'https://en.wikipedia.org/wiki/Aetonyx'], ['Massospondylus', 'https://en.wikipedia.org/wiki/Massospondylus'], ['Afromimus', 'https://en.wikipedia.org/wiki/Afromimus'], ['Afrovenator', 'https://en.wikipedia.org/wiki/Afrovenator'], ['Agathaumas', 'https://en.wikipedia.org/wiki/Agathaumas'], ['Triceratops', 'https://en.wikipedia.org/wiki/Triceratops'], ['Aggiosaurus', 'https://en.wikipedia.org/wiki/Aggiosaurus'], ['Agilisaurus', 'https://en.wikipedia.org/wiki/Agilisaurus'], ['Agnosphitys', 'https://en.wikipedia.org/wiki/Agnosphitys'], ['Agrosaurus', 'https://en.wikipedia.org/wiki/Agrosaurus'], ['Thecodontosaurus', 'https://en.wikipedia.org/wiki/Thecodontosaurus'], ['Agujaceratops', 'https://en.wikipedia.org/wiki/Agujaceratops'], ['Agustinia', 'https://en.wikipedia.org/wiki/Agustinia'], ['Ahshislepelta', 'https://en.wikipedia.org/wiki/Ahshislepelta'], ['Airakoraptor', 'https://en.wikipedia.org/wiki/Airakoraptor'], ['Ajancingenia', 'https://en.wikipedia.org/wiki/Ajancingenia'], ['Heyuannia', 'https://en.wikipedia.org/wiki/Heyuannia'], ['Ajkaceratops', 'https://en.wikipedia.org/wiki/Ajkaceratops'], ['Akainacephalus', 'https://en.wikipedia.org/wiki/Akainacephalus'], ['Alamosaurus', 'https://en.wikipedia.org/wiki/Alamosaurus'], ['Alaskacephale', 'https://en.wikipedia.org/wiki/Alaskacephale'], ['Albalophosaurus', 'https://en.wikipedia.org/wiki/Albalophosaurus'], ['Albertaceratops', 'https://en.wikipedia.org/wiki/Albertaceratops'], ['Albertadromeus', 'https://en.wikipedia.org/wiki/Albertadromeus'], ['Albertavenator', 'https://en.wikipedia.org/wiki/Albertavenator'], ['Albertonykus', 'https://en.wikipedia.org/wiki/Albertonykus'], ['Albertosaurus', 'https://en.wikipedia.org/wiki/Albertosaurus'], ['Albinykus', 'https://en.wikipedia.org/wiki/Albinykus'], ['Albisaurus', 'https://en.wikipedia.org/wiki/Albisaurus'], ['Alcovasaurus', 'https://en.wikipedia.org/wiki/Alcovasaurus'], ['Alectrosaurus', 'https://en.wikipedia.org/wiki/Alectrosaurus'], ['Aletopelta', 'https://en.wikipedia.org/wiki/Aletopelta'], ['Algoasaurus', 'https://en.wikipedia.org/wiki/Algoasaurus'], ['Alioramus', 'https://en.wikipedia.org/wiki/Alioramus'], ['Amargasaurus', 'https://en.wikipedia.org/wiki/Amargasaurus'], ['Aliwalia', 'https://en.wikipedia.org/wiki/Aliwalia'], ['Eucnemesaurus', 'https://en.wikipedia.org/wiki/Eucnemesaurus'], ['Allosaurus', 'https://en.wikipedia.org/wiki/Allosaurus'], ['Almas ukhaa', 'https://en.wikipedia.org/wiki/Almas_ukhaa'], ['Alnashetri', 'https://en.wikipedia.org/wiki/Alnashetri'], ['Alocodon', 'https://en.wikipedia.org/wiki/Alocodon'], ['Altirhinus', 'https://en.wikipedia.org/wiki/Altirhinus'], ['Altispinax', 'https://en.wikipedia.org/wiki/Altispinax'], ['Alvarezsaurus', 'https://en.wikipedia.org/wiki/Alvarezsaurus'], ['Alwalkeria', 'https://en.wikipedia.org/wiki/Alwalkeria'], ['Alxasaurus', 'https://en.wikipedia.org/wiki/Alxasaurus'], ['Amargasaurus', 'https://en.wikipedia.org/wiki/Amargasaurus'], ['Amargastegos', 'https://en.wikipedia.org/wiki/Amargastegos'], ['Amargatitanis', 'https://en.wikipedia.org/wiki/Amargatitanis'], ['Amazonsaurus', 'https://en.wikipedia.org/wiki/Amazonsaurus'], ['Ambopteryx', 'https://en.wikipedia.org/wiki/Ambopteryx'], ['Ammosaurus', 'https://en.wikipedia.org/wiki/Ammosaurus'], ['Anchisaurus', 'https://en.wikipedia.org/wiki/Anchisaurus'], ['Ampelosaurus', 'https://en.wikipedia.org/wiki/Ampelosaurus'], ['Amphicoelias', 'https://en.wikipedia.org/wiki/Amphicoelias'], ['Amphicoelicaudia', 'https://en.wikipedia.org/wiki/Amphicoelicaudia'], ['Huabeisaurus', 'https://en.wikipedia.org/wiki/Huabeisaurus'], ['Amphisaurus', 'https://en.wikipedia.org/wiki/Amphisaurus'], ['Anchisaurus', 'https://en.wikipedia.org/wiki/Anchisaurus'], ['Amtocephale', 'https://en.wikipedia.org/wiki/Amtocephale'], ['Amtosaurus', 'https://en.wikipedia.org/wiki/Amtosaurus'], ['Talarurus', 'https://en.wikipedia.org/wiki/Talarurus'], ['Amurosaurus', 'https://en.wikipedia.org/wiki/Amurosaurus'], ['Amygdalodon', 'https://en.wikipedia.org/wiki/Amygdalodon'], ['Anabisetia', 'https://en.wikipedia.org/wiki/Anabisetia'], ['Anasazisaurus', 'https://en.wikipedia.org/wiki/Anasazisaurus'], ['Anatosaurus', 'https://en.wikipedia.org/wiki/Anatosaurus'], ['Edmontosaurus', 'https://en.wikipedia.org/wiki/Edmontosaurus'], ['Anatotitan', 'https://en.wikipedia.org/wiki/Anatotitan'], ['Edmontosaurus', 'https://en.wikipedia.org/wiki/Edmontosaurus'], ['Anchiceratops', 'https://en.wikipedia.org/wiki/Anchiceratops'], ['Anchiornis', 'https://en.wikipedia.org/wiki/Anchiornis'], ['Anchisaurus', 'https://en.wikipedia.org/wiki/Anchisaurus'], ['Andesaurus', 'https://en.wikipedia.org/wiki/Andesaurus'], ['Andhrasaurus', 'https://en.wikipedia.org/wiki/Andhrasaurus'], ['Angaturama', 'https://en.wikipedia.org/wiki/Angaturama'], ['Irritator', 'https://en.wikipedia.org/wiki/Irritator'], ['Angloposeidon', 'https://en.wikipedia.org/wiki/Angloposeidon'], ['Angolatitan', 'https://en.wikipedia.org/wiki/Angolatitan'], ['Angulomastacator', 'https://en.wikipedia.org/wiki/Angulomastacator'], ['Anhuilong', 'https://en.wikipedia.org/wiki/Anhuilong'], ['Aniksosaurus', 'https://en.wikipedia.org/wiki/Aniksosaurus'], ['Animantarx', 'https://en.wikipedia.org/wiki/Animantarx'], ['Ankistrodon', 'https://en.wikipedia.org/wiki/Ankistrodon'], ['Ankylosaurus', 'https://en.wikipedia.org/wiki/Ankylosaurus'], ['Anodontosaurus', 'https://en.wikipedia.org/wiki/Anodontosaurus'], ['Anomalipes', 'https://en.wikipedia.org/wiki/Anomalipes'], ['Anoplosaurus', 'https://en.wikipedia.org/wiki/Anoplosaurus'], ['Anserimimus', 'https://en.wikipedia.org/wiki/Anserimimus'], ['Antarctopelta', 'https://en.wikipedia.org/wiki/Antarctopelta'], ['Antarctosaurus', 'https://en.wikipedia.org/wiki/Antarctosaurus'], ['Anzu', 'https://en.wikipedia.org/wiki/Anzu'], ['Antetonitrus', 'https://en.wikipedia.org/wiki/Antetonitrus'], ['Anthodon (reptile)', 'https://en.wikipedia.org/wiki/Anthodon_(reptile)'], ['Antrodemus', 'https://en.wikipedia.org/wiki/Antrodemus'], ['Allosaurus', 'https://en.wikipedia.org/wiki/Allosaurus'], ['Anzu wyliei', 'https://en.wikipedia.org/wiki/Anzu_wyliei'], ['Aoniraptor', 'https://en.wikipedia.org/wiki/Aoniraptor'], ['Aorun', 'https://en.wikipedia.org/wiki/Aorun'], ['Apatodon', 'https://en.wikipedia.org/wiki/Apatodon'], ['Allosaurus', 'https://en.wikipedia.org/wiki/Allosaurus'], ['Apatoraptor', 'https://en.wikipedia.org/wiki/Apatoraptor'], ['Apatosaurus', 'https://en.wikipedia.org/wiki/Apatosaurus'], ['Appalachiosaurus', 'https://en.wikipedia.org/wiki/Appalachiosaurus'], ['Aquilarhinus', 'https://en.wikipedia.org/wiki/Aquilarhinus'], ['Aquilops', 'https://en.wikipedia.org/wiki/Aquilops'], ['Aragosaurus', 'https://en.wikipedia.org/wiki/Aragosaurus'], ['Aralosaurus', 'https://en.wikipedia.org/wiki/Aralosaurus'], ['Araucanoraptor', 'https://en.wikipedia.org/wiki/Araucanoraptor'], ['Neuquenraptor', 'https://en.wikipedia.org/wiki/Neuquenraptor'], ['Archaeoceratops', 'https://en.wikipedia.org/wiki/Archaeoceratops'], ['Archaeodontosaurus', 'https://en.wikipedia.org/wiki/Archaeodontosaurus'], ['Archaeopteryx', 'https://en.wikipedia.org/wiki/Archaeopteryx'], ['Archaeoraptor', 'https://en.wikipedia.org/wiki/Archaeoraptor'], ['Yanornis', 'https://en.wikipedia.org/wiki/Yanornis'], ['Microraptor', 'https://en.wikipedia.org/wiki/Microraptor'], ['Archaeornis', 'https://en.wikipedia.org/wiki/Archaeornis'], ['Archaeopteryx', 'https://en.wikipedia.org/wiki/Archaeopteryx'], ['Archaeornithoides', 'https://en.wikipedia.org/wiki/Archaeornithoides'], ['Archaeornithomimus', 'https://en.wikipedia.org/wiki/Archaeornithomimus'], ['Arcovenator', 'https://en.wikipedia.org/wiki/Arcovenator'], ['Arctosaurus', 'https://en.wikipedia.org/wiki/Arctosaurus'], ['Arcusaurus', 'https://en.wikipedia.org/wiki/Arcusaurus'], ['Arenysaurus', 'https://en.wikipedia.org/wiki/Arenysaurus'], ['Argentinosaurus', 'https://en.wikipedia.org/wiki/Argentinosaurus'], ['Argyrosaurus', 'https://en.wikipedia.org/wiki/Argyrosaurus'], ['Aristosaurus', 'https://en.wikipedia.org/wiki/Aristosaurus'], ['Massospondylus', 'https://en.wikipedia.org/wiki/Massospondylus'], ['Aristosuchus', 'https://en.wikipedia.org/wiki/Aristosuchus'], ['Arizonasaurus', 'https://en.wikipedia.org/wiki/Arizonasaurus'], ['Arkansaurus', 'https://en.wikipedia.org/wiki/Arkansaurus'], ['Arkharavia', 'https://en.wikipedia.org/wiki/Arkharavia'], ['Arrhinoceratops', 'https://en.wikipedia.org/wiki/Arrhinoceratops'], ['Arstanosaurus', 'https://en.wikipedia.org/wiki/Arstanosaurus'], ['Asiaceratops', 'https://en.wikipedia.org/wiki/Asiaceratops'], ['Asiamericana', 'https://en.wikipedia.org/wiki/Asiamericana'], ['Asiatosaurus', 'https://en.wikipedia.org/wiki/Asiatosaurus'], ['Astrodon', 'https://en.wikipedia.org/wiki/Astrodon'], ['Astrodonius', 'https://en.wikipedia.org/wiki/Astrodonius'], ['Astrodon', 'https://en.wikipedia.org/wiki/Astrodon'], ['Astrodontaurus', 'https://en.wikipedia.org/wiki/Astrodontaurus'], ['Astrodon', 'https://en.wikipedia.org/wiki/Astrodon'], ['Astrophocaudia', 'https://en.wikipedia.org/wiki/Astrophocaudia'], ['Asylosaurus', 'https://en.wikipedia.org/wiki/Asylosaurus'], ['Atacamatitan', 'https://en.wikipedia.org/wiki/Atacamatitan'], ['Atlantosaurus', 'https://en.wikipedia.org/wiki/Atlantosaurus'], ['Atlasaurus', 'https://en.wikipedia.org/wiki/Atlasaurus'], ['Atlascopcosaurus', 'https://en.wikipedia.org/wiki/Atlascopcosaurus'], ['Atrociraptor', 'https://en.wikipedia.org/wiki/Atrociraptor'], ['Atsinganosaurus', 'https://en.wikipedia.org/wiki/Atsinganosaurus'], ['Aublysodon', 'https://en.wikipedia.org/wiki/Aublysodon'], ['Archaeoceratops', 'https://en.wikipedia.org/wiki/Archaeoceratops'], ['Aucasaurus', 'https://en.wikipedia.org/wiki/Aucasaurus'], ['Augustia', 'https://en.wikipedia.org/wiki/Augustia'], ['Agustinia', 'https://en.wikipedia.org/wiki/Agustinia'], ['Augustynolophus', 'https://en.wikipedia.org/wiki/Augustynolophus'], ['Auroraceratops', 'https://en.wikipedia.org/wiki/Auroraceratops'], ['Aurornis', 'https://en.wikipedia.org/wiki/Aurornis'], ['Australodocus', 'https://en.wikipedia.org/wiki/Australodocus'], ['Australovenator', 'https://en.wikipedia.org/wiki/Australovenator'], ['Austrocheirus', 'https://en.wikipedia.org/wiki/Austrocheirus'], ['Austroposeidon', 'https://en.wikipedia.org/wiki/Austroposeidon'], ['Austroraptor', 'https://en.wikipedia.org/wiki/Austroraptor'], ['Austrosaurus', 'https://en.wikipedia.org/wiki/Austrosaurus'], ['Avaceratops', 'https://en.wikipedia.org/wiki/Avaceratops'], ['Avalonia (dinosaur)', 'https://en.wikipedia.org/wiki/Avalonia_(dinosaur)'], ['Avalonianus', 'https://en.wikipedia.org/wiki/Avalonianus'], ['Avalonianus', 'https://en.wikipedia.org/wiki/Avalonianus'], ['Aviatyrannis', 'https://en.wikipedia.org/wiki/Aviatyrannis'], ['Avimimus', 'https://en.wikipedia.org/wiki/Avimimus'], ['Avipes', 'https://en.wikipedia.org/wiki/Avipes'], ['Avisaurus', 'https://en.wikipedia.org/wiki/Avisaurus'], ['Azendohsaurus', 'https://en.wikipedia.org/wiki/Azendohsaurus'], ['Baalsaurus', 'https://en.wikipedia.org/wiki/Baalsaurus'], ['Bactrosaurus', 'https://en.wikipedia.org/wiki/Bactrosaurus'], ['Bagaceratops', 'https://en.wikipedia.org/wiki/Bagaceratops'], ['Bagaraatan', 'https://en.wikipedia.org/wiki/Bagaraatan'], ['Bagualosaurus', 'https://en.wikipedia.org/wiki/Bagualosaurus'], ['Bahariasaurus', 'https://en.wikipedia.org/wiki/Bahariasaurus'], ['Bainoceratops', 'https://en.wikipedia.org/wiki/Bainoceratops'], ['Bajadasaurus', 'https://en.wikipedia.org/wiki/Bajadasaurus'], ['Bakesaurus', 'https://en.wikipedia.org/wiki/Bakesaurus'], ['Balaur bondoc', 'https://en.wikipedia.org/wiki/Balaur_bondoc'], ['Balochisaurus', 'https://en.wikipedia.org/wiki/Balochisaurus'], ['Bambiraptor', 'https://en.wikipedia.org/wiki/Bambiraptor'], ['Banji', 'https://en.wikipedia.org/wiki/Banji'], ['Bannykus', 'https://en.wikipedia.org/wiki/Bannykus'], ['Baotianmansaurus', 'https://en.wikipedia.org/wiki/Baotianmansaurus'], ['Barapasaurus', 'https://en.wikipedia.org/wiki/Barapasaurus'], ['Barilium', 'https://en.wikipedia.org/wiki/Barilium'], ['Barosaurus', 'https://en.wikipedia.org/wiki/Barosaurus'], ['Barosaurus', 'https://en.wikipedia.org/wiki/Barosaurus'], ['Barrosasaurus', 'https://en.wikipedia.org/wiki/Barrosasaurus'], ['Barsboldia', 'https://en.wikipedia.org/wiki/Barsboldia'], ['Baryonyx', 'https://en.wikipedia.org/wiki/Baryonyx'], ['Bashunosaurus', 'https://en.wikipedia.org/wiki/Bashunosaurus'], ['Basutodon', 'https://en.wikipedia.org/wiki/Basutodon'], ['Bathygnathus', 'https://en.wikipedia.org/wiki/Bathygnathus'], ['Dimetrodon', 'https://en.wikipedia.org/wiki/Dimetrodon'], ['Batyrosaurus', 'https://en.wikipedia.org/wiki/Batyrosaurus'], ['Baurutitan', 'https://en.wikipedia.org/wiki/Baurutitan'], ['Bayannurosaurus', 'https://en.wikipedia.org/wiki/Bayannurosaurus'], ['Bayosaurus', 'https://en.wikipedia.org/wiki/Bayosaurus'], ['Becklespinax', 'https://en.wikipedia.org/wiki/Becklespinax'], ['Altispinax', 'https://en.wikipedia.org/wiki/Altispinax'], ['Beelemodon', 'https://en.wikipedia.org/wiki/Beelemodon'], ['Beibeilong', 'https://en.wikipedia.org/wiki/Beibeilong'], ['Beipiaognathus', 'https://en.wikipedia.org/wiki/Beipiaognathus'], ['Beipiaosaurus', 'https://en.wikipedia.org/wiki/Beipiaosaurus'], ['Beishanlong', 'https://en.wikipedia.org/wiki/Beishanlong'], ['Bellusaurus', 'https://en.wikipedia.org/wiki/Bellusaurus'], ['Belodon', 'https://en.wikipedia.org/wiki/Belodon'], ['Berberosaurus', 'https://en.wikipedia.org/wiki/Berberosaurus'], ['Betasuchus', 'https://en.wikipedia.org/wiki/Betasuchus'], ['Bicentenaria', 'https://en.wikipedia.org/wiki/Bicentenaria'], ['Bienosaurus', 'https://en.wikipedia.org/wiki/Bienosaurus'], ['Bilbeyhallorum', 'https://en.wikipedia.org/wiki/Bilbeyhallorum'], ['Cedarpelta', 'https://en.wikipedia.org/wiki/Cedarpelta'], ['Bissektipelta', 'https://en.wikipedia.org/wiki/Bissektipelta'], ['Bistahieversor', 'https://en.wikipedia.org/wiki/Bistahieversor'], ['Blancocerosaurus', 'https://en.wikipedia.org/wiki/Blancocerosaurus'], ['Giraffatitan', 'https://en.wikipedia.org/wiki/Giraffatitan'], ['Blasisaurus', 'https://en.wikipedia.org/wiki/Blasisaurus'], ['Blikanasaurus', 'https://en.wikipedia.org/wiki/Blikanasaurus'], ['Bolong', 'https://en.wikipedia.org/wiki/Bolong'], ['Bonapartenykus', 'https://en.wikipedia.org/wiki/Bonapartenykus'], ['Bonapartesaurus', 'https://en.wikipedia.org/wiki/Bonapartesaurus'], ['Bonatitan', 'https://en.wikipedia.org/wiki/Bonatitan'], ['Bonitasaura', 'https://en.wikipedia.org/wiki/Bonitasaura'], ['Borealopelta', 'https://en.wikipedia.org/wiki/Borealopelta'], ['Borealosaurus', 'https://en.wikipedia.org/wiki/Borealosaurus'], ['Boreonykus', 'https://en.wikipedia.org/wiki/Boreonykus'], ['Borogovia', 'https://en.wikipedia.org/wiki/Borogovia'], ['Bothriospondylus', 'https://en.wikipedia.org/wiki/Bothriospondylus'], ['Brachiosaurus', 'https://en.wikipedia.org/wiki/Brachiosaurus'], ['Brachyceratops', 'https://en.wikipedia.org/wiki/Brachyceratops'], ['Brachylophosaurus', 'https://en.wikipedia.org/wiki/Brachylophosaurus'], ['Brachypodosaurus', 'https://en.wikipedia.org/wiki/Brachypodosaurus'], ['Brachyrophus', 'https://en.wikipedia.org/wiki/Brachyrophus'], ['Camptosaurus', 'https://en.wikipedia.org/wiki/Camptosaurus'], ['Brachytaenius', 'https://en.wikipedia.org/wiki/Brachytaenius'], ['Dakosaurus', 'https://en.wikipedia.org/wiki/Dakosaurus'], ['Brachytrachelopan', 'https://en.wikipedia.org/wiki/Brachytrachelopan'], ['Bradycneme', 'https://en.wikipedia.org/wiki/Bradycneme'], ['Brasileosaurus', 'https://en.wikipedia.org/wiki/Brasileosaurus'], ['Brasilotitan', 'https://en.wikipedia.org/wiki/Brasilotitan'], ['Bravoceratops', 'https://en.wikipedia.org/wiki/Bravoceratops'], ['Breviceratops', 'https://en.wikipedia.org/wiki/Breviceratops'], ['Brohisaurus', 'https://en.wikipedia.org/wiki/Brohisaurus'], ['Brontomerus', 'https://en.wikipedia.org/wiki/Brontomerus'], ['Brontoraptor', 'https://en.wikipedia.org/wiki/Brontoraptor'], ['Torvosaurus', 'https://en.wikipedia.org/wiki/Torvosaurus'], ['Brontosaurus', 'https://en.wikipedia.org/wiki/Brontosaurus'], ['Bruhathkayosaurus', 'https://en.wikipedia.org/wiki/Bruhathkayosaurus'], ['Bugenasaura', 'https://en.wikipedia.org/wiki/Bugenasaura'], ['Thescelosaurus', 'https://en.wikipedia.org/wiki/Thescelosaurus'], ['Buitreraptor', 'https://en.wikipedia.org/wiki/Buitreraptor'], ['Burianosaurus', 'https://en.wikipedia.org/wiki/Burianosaurus'], ['Buriolestes', 'https://en.wikipedia.org/wiki/Buriolestes'], ['Byranjaffia', 'https://en.wikipedia.org/wiki/Byranjaffia'], ['Byronosaurus', 'https://en.wikipedia.org/wiki/Byronosaurus'], ['Byronosaurus', 'https://en.wikipedia.org/wiki/Byronosaurus'], ['Centrosaurus', 'https://en.wikipedia.org/wiki/Centrosaurus'], ['Caenagnathasia', 'https://en.wikipedia.org/wiki/Caenagnathasia'], ['Caenagnathus', 'https://en.wikipedia.org/wiki/Caenagnathus'], ['Caihong', 'https://en.wikipedia.org/wiki/Caihong'], ['Calamosaurus', 'https://en.wikipedia.org/wiki/Calamosaurus'], ['Calamospondylus', 'https://en.wikipedia.org/wiki/Calamospondylus'], ['Calamosaurus', 'https://en.wikipedia.org/wiki/Calamosaurus'], ['Calamosaurus', 'https://en.wikipedia.org/wiki/Calamosaurus'], ['Callovosaurus', 'https://en.wikipedia.org/wiki/Callovosaurus'], ['Camarasaurus', 'https://en.wikipedia.org/wiki/Camarasaurus'], ['Camarillasaurus', 'https://en.wikipedia.org/wiki/Camarillasaurus'], ['Camelotia', 'https://en.wikipedia.org/wiki/Camelotia'], ['Camposaurus', 'https://en.wikipedia.org/wiki/Camposaurus'], ['Camptonotus (dinosaur)', 'https://en.wikipedia.org/wiki/Camptonotus_(dinosaur)'], ['Camptosaurus', 'https://en.wikipedia.org/wiki/Camptosaurus'], ['Campylodon', 'https://en.wikipedia.org/wiki/Campylodon'], ['Campylodoniscus', 'https://en.wikipedia.org/wiki/Campylodoniscus'], ['Campylodoniscus', 'https://en.wikipedia.org/wiki/Campylodoniscus'], ['Canardia', 'https://en.wikipedia.org/wiki/Canardia'], ['Carcharodontosaurus', 'https://en.wikipedia.org/wiki/Carcharodontosaurus'], ['Cardiodon', 'https://en.wikipedia.org/wiki/Cardiodon'], ['Carnotaurus', 'https://en.wikipedia.org/wiki/Carnotaurus'], ['Caseosaurus', 'https://en.wikipedia.org/wiki/Caseosaurus'], ['Cathartesaura', 'https://en.wikipedia.org/wiki/Cathartesaura'], ['Cathetosaurus', 'https://en.wikipedia.org/wiki/Cathetosaurus'], ['Caudipteryx', 'https://en.wikipedia.org/wiki/Caudipteryx'], ['Caudocoelus', 'https://en.wikipedia.org/wiki/Caudocoelus'], ['Teinurosaurus', 'https://en.wikipedia.org/wiki/Teinurosaurus'], ['Caulodon', 'https://en.wikipedia.org/wiki/Caulodon'], ['Camarasaurus', 'https://en.wikipedia.org/wiki/Camarasaurus'], ['Cedarosaurus', 'https://en.wikipedia.org/wiki/Cedarosaurus'], ['Cedarpelta', 'https://en.wikipedia.org/wiki/Cedarpelta'], ['Cedrorestes', 'https://en.wikipedia.org/wiki/Cedrorestes'], ['Centemodon', 'https://en.wikipedia.org/wiki/Centemodon'], ['Centrosaurus', 'https://en.wikipedia.org/wiki/Centrosaurus'], ['Cerasinops', 'https://en.wikipedia.org/wiki/Cerasinops'], ['Ceratonykus', 'https://en.wikipedia.org/wiki/Ceratonykus'], ['Ceratops', 'https://en.wikipedia.org/wiki/Ceratops'], ['Ceratosaurus', 'https://en.wikipedia.org/wiki/Ceratosaurus'], ['Cetiosauriscus', 'https://en.wikipedia.org/wiki/Cetiosauriscus'], ['Cetiosaurus', 'https://en.wikipedia.org/wiki/Cetiosaurus'], ['Changchunsaurus', 'https://en.wikipedia.org/wiki/Changchunsaurus'], ['Changyuraptor', 'https://en.wikipedia.org/wiki/Changyuraptor'], ['Chaoyangsaurus', 'https://en.wikipedia.org/wiki/Chaoyangsaurus'], ['Charonosaurus', 'https://en.wikipedia.org/wiki/Charonosaurus'], ['Chasmosaurus', 'https://en.wikipedia.org/wiki/Chasmosaurus'], ['Chassternbergia', 'https://en.wikipedia.org/wiki/Chassternbergia'], ['Edmontonia', 'https://en.wikipedia.org/wiki/Edmontonia'], ['Chebsaurus', 'https://en.wikipedia.org/wiki/Chebsaurus'], ['Chenanisaurus', 'https://en.wikipedia.org/wiki/Chenanisaurus'], ['Cheneosaurus', 'https://en.wikipedia.org/wiki/Cheneosaurus'], ['Hypacrosaurus', 'https://en.wikipedia.org/wiki/Hypacrosaurus'], ['Chialingosaurus', 'https://en.wikipedia.org/wiki/Chialingosaurus'], ['Chiayusaurus', 'https://en.wikipedia.org/wiki/Chiayusaurus'], ['Chienkosaurus', 'https://en.wikipedia.org/wiki/Chienkosaurus'], ['Szechuanosaurus', 'https://en.wikipedia.org/wiki/Szechuanosaurus'], ['Chihuahuasaurus', 'https://en.wikipedia.org/wiki/Chihuahuasaurus'], ['Sonorasaurus', 'https://en.wikipedia.org/wiki/Sonorasaurus'], ['Chilantaisaurus', 'https://en.wikipedia.org/wiki/Chilantaisaurus'], ['Chilesaurus', 'https://en.wikipedia.org/wiki/Chilesaurus'], ['Chindesaurus', 'https://en.wikipedia.org/wiki/Chindesaurus'], ['Chingkankousaurus', 'https://en.wikipedia.org/wiki/Chingkankousaurus'], ['Ceratosaurus', 'https://en.wikipedia.org/wiki/Ceratosaurus'], ['Chinshakiangosaurus', 'https://en.wikipedia.org/wiki/Chinshakiangosaurus'], ['Chirostenotes', 'https://en.wikipedia.org/wiki/Chirostenotes'], ['Choconsaurus', 'https://en.wikipedia.org/wiki/Choconsaurus'], ['Chondrosteosaurus', 'https://en.wikipedia.org/wiki/Chondrosteosaurus'], ['Choyrodon', 'https://en.wikipedia.org/wiki/Choyrodon'], ['Chromogisaurus', 'https://en.wikipedia.org/wiki/Chromogisaurus'], ['Chuandongocoelurus', 'https://en.wikipedia.org/wiki/Chuandongocoelurus'], ['Chuanjiesaurus', 'https://en.wikipedia.org/wiki/Chuanjiesaurus'], ['Chuanqilong', 'https://en.wikipedia.org/wiki/Chuanqilong'], ['Chubutisaurus', 'https://en.wikipedia.org/wiki/Chubutisaurus'], ['Chungkingosaurus', 'https://en.wikipedia.org/wiki/Chungkingosaurus'], ['Chuxiongosaurus', 'https://en.wikipedia.org/wiki/Chuxiongosaurus'], ['Cionodon', 'https://en.wikipedia.org/wiki/Cionodon'], ['Citipati', 'https://en.wikipedia.org/wiki/Citipati'], ['Cladeiodon', 'https://en.wikipedia.org/wiki/Cladeiodon'], ['Teratosaurus', 'https://en.wikipedia.org/wiki/Teratosaurus'], ['Claorhynchus', 'https://en.wikipedia.org/wiki/Claorhynchus'], ['Triceratops', 'https://en.wikipedia.org/wiki/Triceratops'], ['Claosaurus', 'https://en.wikipedia.org/wiki/Claosaurus'], ['Clarencea', 'https://en.wikipedia.org/wiki/Clarencea'], ['Sphenosuchus', 'https://en.wikipedia.org/wiki/Sphenosuchus'], ['Clasmodosaurus', 'https://en.wikipedia.org/wiki/Clasmodosaurus'], ['Clepsysaurus', 'https://en.wikipedia.org/wiki/Clepsysaurus'], ['Palaeosaurus', 'https://en.wikipedia.org/wiki/Palaeosaurus'], ['Coahuilaceratops', 'https://en.wikipedia.org/wiki/Coahuilaceratops'], ['Coelophysis', 'https://en.wikipedia.org/wiki/Coelophysis'], ['Coelosaurus', 'https://en.wikipedia.org/wiki/Coelosaurus'], ['Coeluroides', 'https://en.wikipedia.org/wiki/Coeluroides'], ['Coelurosauravus', 'https://en.wikipedia.org/wiki/Coelurosauravus'], ['Coelurus', 'https://en.wikipedia.org/wiki/Coelurus'], ['Colepiocephale', 'https://en.wikipedia.org/wiki/Colepiocephale'], ['Coloradia (dinosaur)', 'https://en.wikipedia.org/wiki/Coloradia_(dinosaur)'], ['Coloradisaurus', 'https://en.wikipedia.org/wiki/Coloradisaurus'], ['Coloradisaurus', 'https://en.wikipedia.org/wiki/Coloradisaurus'], ['Pelorosaurus', 'https://en.wikipedia.org/wiki/Pelorosaurus'], ['Comahuesaurus', 'https://en.wikipedia.org/wiki/Comahuesaurus'], ['Compsognathus', 'https://en.wikipedia.org/wiki/Compsognathus'], ['Compsosuchus', 'https://en.wikipedia.org/wiki/Compsosuchus'], ['Concavenator', 'https://en.wikipedia.org/wiki/Concavenator'], ['Conchoraptor', 'https://en.wikipedia.org/wiki/Conchoraptor'], ['Condorraptor', 'https://en.wikipedia.org/wiki/Condorraptor'], ['Convolosaurus', 'https://en.wikipedia.org/wiki/Convolosaurus'], ['Coronosaurus', 'https://en.wikipedia.org/wiki/Coronosaurus'], ['Corythoraptor', 'https://en.wikipedia.org/wiki/Corythoraptor'], ['Corythosaurus', 'https://en.wikipedia.org/wiki/Corythosaurus'], ['Craspedodon', 'https://en.wikipedia.org/wiki/Craspedodon'], ['Crataeomus', 'https://en.wikipedia.org/wiki/Crataeomus'], ['Struthiosaurus', 'https://en.wikipedia.org/wiki/Struthiosaurus'], ['Craterosaurus', 'https://en.wikipedia.org/wiki/Craterosaurus'], ['Creosaurus', 'https://en.wikipedia.org/wiki/Creosaurus'], ['Allosaurus', 'https://en.wikipedia.org/wiki/Allosaurus'], ['Crichtonpelta', 'https://en.wikipedia.org/wiki/Crichtonpelta'], ['Crichtonsaurus', 'https://en.wikipedia.org/wiki/Crichtonsaurus'], ['Cristatusaurus', 'https://en.wikipedia.org/wiki/Cristatusaurus'], ['Crittendenceratops', 'https://en.wikipedia.org/wiki/Crittendenceratops'], ['Crosbysaurus', 'https://en.wikipedia.org/wiki/Crosbysaurus'], ['Cruxicheiros', 'https://en.wikipedia.org/wiki/Cruxicheiros'], ['Cryolophosaurus', 'https://en.wikipedia.org/wiki/Cryolophosaurus'], ['Cryptodraco', 'https://en.wikipedia.org/wiki/Cryptodraco'], ['Cryptosaurus', 'https://en.wikipedia.org/wiki/Cryptosaurus'], ['Cryptosaurus', 'https://en.wikipedia.org/wiki/Cryptosaurus'], ['Cryptovolans', 'https://en.wikipedia.org/wiki/Cryptovolans'], ['Microraptor', 'https://en.wikipedia.org/wiki/Microraptor'], ['Cumnoria', 'https://en.wikipedia.org/wiki/Cumnoria'], ['Deinocheirus', 'https://en.wikipedia.org/wiki/Deinocheirus'], ['Daanosaurus', 'https://en.wikipedia.org/wiki/Daanosaurus'], ['Dacentrurus', 'https://en.wikipedia.org/wiki/Dacentrurus'], ['Daemonosaurus', 'https://en.wikipedia.org/wiki/Daemonosaurus'], ['Dahalokely', 'https://en.wikipedia.org/wiki/Dahalokely'], ['Dakosaurus', 'https://en.wikipedia.org/wiki/Dakosaurus'], ['Dakotadon', 'https://en.wikipedia.org/wiki/Dakotadon'], ['Dakotaraptor', 'https://en.wikipedia.org/wiki/Dakotaraptor'], ['Daliansaurus', 'https://en.wikipedia.org/wiki/Daliansaurus'], ['Dandakosaurus', 'https://en.wikipedia.org/wiki/Dandakosaurus'], ['Danubiosaurus', 'https://en.wikipedia.org/wiki/Danubiosaurus'], ['Struthiosaurus', 'https://en.wikipedia.org/wiki/Struthiosaurus'], ['Deinonychus', 'https://en.wikipedia.org/wiki/Deinonychus'], ['Darwinsaurus', 'https://en.wikipedia.org/wiki/Darwinsaurus'], ['Dashanpusaurus', 'https://en.wikipedia.org/wiki/Dashanpusaurus'], ['Daspletosaurus', 'https://en.wikipedia.org/wiki/Daspletosaurus'], ['Dasygnathoides', 'https://en.wikipedia.org/wiki/Dasygnathoides'], ['Ornithosuchus', 'https://en.wikipedia.org/wiki/Ornithosuchus'], ['Dasygnathoides', 'https://en.wikipedia.org/wiki/Dasygnathoides'], ['Ornithosuchus', 'https://en.wikipedia.org/wiki/Ornithosuchus'], ['Datanglong', 'https://en.wikipedia.org/wiki/Datanglong'], ['Datonglong', 'https://en.wikipedia.org/wiki/Datonglong'], ['Datousaurus', 'https://en.wikipedia.org/wiki/Datousaurus'], ['Daurosaurus', 'https://en.wikipedia.org/wiki/Daurosaurus'], ['Kulindadromeus', 'https://en.wikipedia.org/wiki/Kulindadromeus'], ['Daxiatitan', 'https://en.wikipedia.org/wiki/Daxiatitan'], ['Deinocheirus', 'https://en.wikipedia.org/wiki/Deinocheirus'], ['Deinodon', 'https://en.wikipedia.org/wiki/Deinodon'], ['Gorgosaurus', 'https://en.wikipedia.org/wiki/Gorgosaurus'], ['Deinonychus', 'https://en.wikipedia.org/wiki/Deinonychus'], ['Delapparentia', 'https://en.wikipedia.org/wiki/Delapparentia'], ['Iguanodon', 'https://en.wikipedia.org/wiki/Iguanodon'], ['Deltadromeus', 'https://en.wikipedia.org/wiki/Deltadromeus'], ['Demandasaurus', 'https://en.wikipedia.org/wiki/Demandasaurus'], ['Denversaurus', 'https://en.wikipedia.org/wiki/Denversaurus'], ['Deuterosaurus', 'https://en.wikipedia.org/wiki/Deuterosaurus'], ['Diabloceratops', 'https://en.wikipedia.org/wiki/Diabloceratops'], ['Diamantinasaurus', 'https://en.wikipedia.org/wiki/Diamantinasaurus'], ['Dianchungosaurus', 'https://en.wikipedia.org/wiki/Dianchungosaurus'], ['Nedoceratops', 'https://en.wikipedia.org/wiki/Nedoceratops'], ['Nedoceratops', 'https://en.wikipedia.org/wiki/Nedoceratops'], ['Diceratus', 'https://en.wikipedia.org/wiki/Diceratus'], ['Nedoceratops', 'https://en.wikipedia.org/wiki/Nedoceratops'], ['Diclonius', 'https://en.wikipedia.org/wiki/Diclonius'], ['Dicraeosaurus', 'https://en.wikipedia.org/wiki/Dicraeosaurus'], ['Didanodon', 'https://en.wikipedia.org/wiki/Didanodon'], ['Lambeosaurus', 'https://en.wikipedia.org/wiki/Lambeosaurus'], ['Dilong paradoxus', 'https://en.wikipedia.org/wiki/Dilong_paradoxus'], ['Dilophosaurus', 'https://en.wikipedia.org/wiki/Dilophosaurus'], ['Diluvicursor', 'https://en.wikipedia.org/wiki/Diluvicursor'], ['Dimodosaurus', 'https://en.wikipedia.org/wiki/Dimodosaurus'], ['Plateosaurus', 'https://en.wikipedia.org/wiki/Plateosaurus'], ['Dinheirosaurus', 'https://en.wikipedia.org/wiki/Dinheirosaurus'], ['Supersaurus', 'https://en.wikipedia.org/wiki/Supersaurus'], ['Dinodocus', 'https://en.wikipedia.org/wiki/Dinodocus'], ['Dinosaurus', 'https://en.wikipedia.org/wiki/Dinosaurus'], ['Plateosaurus', 'https://en.wikipedia.org/wiki/Plateosaurus'], ['Dinotyrannus', 'https://en.wikipedia.org/wiki/Dinotyrannus'], ['Tyrannosaurus', 'https://en.wikipedia.org/wiki/Tyrannosaurus'], ['Diplodocus', 'https://en.wikipedia.org/wiki/Diplodocus'], ['Diplotomodon', 'https://en.wikipedia.org/wiki/Diplotomodon'], ['Diracodon', 'https://en.wikipedia.org/wiki/Diracodon'], ['Stegosaurus', 'https://en.wikipedia.org/wiki/Stegosaurus'], ['Dolichosuchus', 'https://en.wikipedia.org/wiki/Dolichosuchus'], ['Dollodon', 'https://en.wikipedia.org/wiki/Dollodon'], ['Mantellisaurus', 'https://en.wikipedia.org/wiki/Mantellisaurus'], ['Atacamatitan', 'https://en.wikipedia.org/wiki/Atacamatitan'], ['Dongbeititan', 'https://en.wikipedia.org/wiki/Dongbeititan'], ['Dongyangopelta', 'https://en.wikipedia.org/wiki/Dongyangopelta'], ['Dongyangosaurus', 'https://en.wikipedia.org/wiki/Dongyangosaurus'], ['Doratodon', 'https://en.wikipedia.org/wiki/Doratodon'], ['Doryphorosaurus', 'https://en.wikipedia.org/wiki/Doryphorosaurus'], ['Kentrosaurus', 'https://en.wikipedia.org/wiki/Kentrosaurus'], ['Draconyx', 'https://en.wikipedia.org/wiki/Draconyx'], ['Deinonychus', 'https://en.wikipedia.org/wiki/Deinonychus'], ['Dracopelta', 'https://en.wikipedia.org/wiki/Dracopelta'], ['Dracoraptor', 'https://en.wikipedia.org/wiki/Dracoraptor'], ['Dracorex', 'https://en.wikipedia.org/wiki/Dracorex'], ['Pachycephalosaurus', 'https://en.wikipedia.org/wiki/Pachycephalosaurus'], ['Dracovenator', 'https://en.wikipedia.org/wiki/Dracovenator'], ['Dravidosaurus', 'https://en.wikipedia.org/wiki/Dravidosaurus'], ['Dreadnoughtus', 'https://en.wikipedia.org/wiki/Dreadnoughtus'], ['Drinker (dinosaur)', 'https://en.wikipedia.org/wiki/Drinker_(dinosaur)'], ['Dromaeosauroides', 'https://en.wikipedia.org/wiki/Dromaeosauroides'], ['Dromaeosaurus', 'https://en.wikipedia.org/wiki/Dromaeosaurus'], ['Dromiceiomimus', 'https://en.wikipedia.org/wiki/Dromiceiomimus'], ['Dromicosaurus', 'https://en.wikipedia.org/wiki/Dromicosaurus'], ['Massospondylus', 'https://en.wikipedia.org/wiki/Massospondylus'], ['Drusilasaura', 'https://en.wikipedia.org/wiki/Drusilasaura'], ['Dryosaurus', 'https://en.wikipedia.org/wiki/Dryosaurus'], ['Dryptosauroides', 'https://en.wikipedia.org/wiki/Dryptosauroides'], ['Dryptosaurus', 'https://en.wikipedia.org/wiki/Dryptosaurus'], ['Dubreuillosaurus', 'https://en.wikipedia.org/wiki/Dubreuillosaurus'], ['Duriatitan', 'https://en.wikipedia.org/wiki/Duriatitan'], ['Duriavenator', 'https://en.wikipedia.org/wiki/Duriavenator'], ['Dynamosaurus', 'https://en.wikipedia.org/wiki/Dynamosaurus'], ['Tyrannosaurus', 'https://en.wikipedia.org/wiki/Tyrannosaurus'], ['Dynamoterror', 'https://en.wikipedia.org/wiki/Dynamoterror'], ['Dyoplosaurus', 'https://en.wikipedia.org/wiki/Dyoplosaurus'], ['Dysalotosaurus', 'https://en.wikipedia.org/wiki/Dysalotosaurus'], ['Dysganus', 'https://en.wikipedia.org/wiki/Dysganus'], ['Dyslocosaurus', 'https://en.wikipedia.org/wiki/Dyslocosaurus'], ['Dystrophaeus', 'https://en.wikipedia.org/wiki/Dystrophaeus'], ['Dystylosaurus', 'https://en.wikipedia.org/wiki/Dystylosaurus'], ['Supersaurus', 'https://en.wikipedia.org/wiki/Supersaurus'], ['Echinodon', 'https://en.wikipedia.org/wiki/Echinodon'], ['Edmarka', 'https://en.wikipedia.org/wiki/Edmarka'], ['Torvosaurus', 'https://en.wikipedia.org/wiki/Torvosaurus'], ['Edmontonia', 'https://en.wikipedia.org/wiki/Edmontonia'], ['Edmontosaurus', 'https://en.wikipedia.org/wiki/Edmontosaurus'], ['Efraasia', 'https://en.wikipedia.org/wiki/Efraasia'], ['Einiosaurus', 'https://en.wikipedia.org/wiki/Einiosaurus'], ['Ekrixinatosaurus', 'https://en.wikipedia.org/wiki/Ekrixinatosaurus'], ['Elachistosuchus', 'https://en.wikipedia.org/wiki/Elachistosuchus'], ['Elaltitan', 'https://en.wikipedia.org/wiki/Elaltitan'], ['Elaphrosaurus', 'https://en.wikipedia.org/wiki/Elaphrosaurus'], ['Elmisaurus', 'https://en.wikipedia.org/wiki/Elmisaurus'], ['Elopteryx', 'https://en.wikipedia.org/wiki/Elopteryx'], ['Elosaurus', 'https://en.wikipedia.org/wiki/Elosaurus'], ['Brontosaurus', 'https://en.wikipedia.org/wiki/Brontosaurus'], ['Elrhazosaurus', 'https://en.wikipedia.org/wiki/Elrhazosaurus'], ['Cryolophosaurus', 'https://en.wikipedia.org/wiki/Cryolophosaurus'], ['Emausaurus', 'https://en.wikipedia.org/wiki/Emausaurus'], ['Embasaurus', 'https://en.wikipedia.org/wiki/Embasaurus'], ['Enigmosaurus', 'https://en.wikipedia.org/wiki/Enigmosaurus'], ['Eoabelisaurus', 'https://en.wikipedia.org/wiki/Eoabelisaurus'], ['Eobrontosaurus', 'https://en.wikipedia.org/wiki/Eobrontosaurus'], ['Brontosaurus', 'https://en.wikipedia.org/wiki/Brontosaurus'], ['Eocarcharia', 'https://en.wikipedia.org/wiki/Eocarcharia'], ['Eoceratops', 'https://en.wikipedia.org/wiki/Eoceratops'], ['Chasmosaurus', 'https://en.wikipedia.org/wiki/Chasmosaurus'], ['Eocursor', 'https://en.wikipedia.org/wiki/Eocursor'], ['Eodromaeus', 'https://en.wikipedia.org/wiki/Eodromaeus'], ['Eolambia', 'https://en.wikipedia.org/wiki/Eolambia'], ['Eolambia', 'https://en.wikipedia.org/wiki/Eolambia'], ['Eomamenchisaurus', 'https://en.wikipedia.org/wiki/Eomamenchisaurus'], ['Eoplophysis', 'https://en.wikipedia.org/wiki/Eoplophysis'], ['Eoraptor', 'https://en.wikipedia.org/wiki/Eoraptor'], ['Eosinopteryx', 'https://en.wikipedia.org/wiki/Eosinopteryx'], ['Eotrachodon', 'https://en.wikipedia.org/wiki/Eotrachodon'], ['Eotriceratops', 'https://en.wikipedia.org/wiki/Eotriceratops'], ['Eotyrannus', 'https://en.wikipedia.org/wiki/Eotyrannus'], ['Eousdryosaurus', 'https://en.wikipedia.org/wiki/Eousdryosaurus'], ['Euoplocephalus', 'https://en.wikipedia.org/wiki/Euoplocephalus'], ['Epachthosaurus', 'https://en.wikipedia.org/wiki/Epachthosaurus'], ['Epanterias', 'https://en.wikipedia.org/wiki/Epanterias'], ['Allosaurus', 'https://en.wikipedia.org/wiki/Allosaurus'], ['Machimosaurus', 'https://en.wikipedia.org/wiki/Machimosaurus'], ['Ankistrodon', 'https://en.wikipedia.org/wiki/Ankistrodon'], ['Ankistrodon', 'https://en.wikipedia.org/wiki/Ankistrodon'], ['Epichirostenotes', 'https://en.wikipedia.org/wiki/Epichirostenotes'], ['Epidendrosaurus', 'https://en.wikipedia.org/wiki/Epidendrosaurus'], ['Scansoriopteryx', 'https://en.wikipedia.org/wiki/Scansoriopteryx'], ['Epidexipteryx', 'https://en.wikipedia.org/wiki/Epidexipteryx'], ['Equijubus', 'https://en.wikipedia.org/wiki/Equijubus'], ['Erectopus', 'https://en.wikipedia.org/wiki/Erectopus'], ['Erketu', 'https://en.wikipedia.org/wiki/Erketu'], ['Erliansaurus', 'https://en.wikipedia.org/wiki/Erliansaurus'], ['Erlikosaurus', 'https://en.wikipedia.org/wiki/Erlikosaurus'], ['Eshanosaurus', 'https://en.wikipedia.org/wiki/Eshanosaurus'], ['Polacanthus', 'https://en.wikipedia.org/wiki/Polacanthus'], ['Eucamerotus', 'https://en.wikipedia.org/wiki/Eucamerotus'], ['Eucentrosaurus', 'https://en.wikipedia.org/wiki/Eucentrosaurus'], ['Centrosaurus', 'https://en.wikipedia.org/wiki/Centrosaurus'], ['Eucercosaurus', 'https://en.wikipedia.org/wiki/Eucercosaurus'], ['Eucnemesaurus', 'https://en.wikipedia.org/wiki/Eucnemesaurus'], ['Eucoelophysis', 'https://en.wikipedia.org/wiki/Eucoelophysis'], ['Euhelopus', 'https://en.wikipedia.org/wiki/Euhelopus'], ['Euoplocephalus', 'https://en.wikipedia.org/wiki/Euoplocephalus'], ['Eupodosaurus', 'https://en.wikipedia.org/wiki/Eupodosaurus'], ['Lariosaurus', 'https://en.wikipedia.org/wiki/Lariosaurus'], ['Tenontosaurus', 'https://en.wikipedia.org/wiki/Tenontosaurus'], ['Eurolimnornis', 'https://en.wikipedia.org/wiki/Eurolimnornis'], ['Euronychodon', 'https://en.wikipedia.org/wiki/Euronychodon'], ['Europasaurus', 'https://en.wikipedia.org/wiki/Europasaurus'], ['Europatitan', 'https://en.wikipedia.org/wiki/Europatitan'], ['Europelta', 'https://en.wikipedia.org/wiki/Europelta'], ['Euskelosaurus', 'https://en.wikipedia.org/wiki/Euskelosaurus'], ['Eustreptospondylus', 'https://en.wikipedia.org/wiki/Eustreptospondylus'], ['Fabrosaurus', 'https://en.wikipedia.org/wiki/Fabrosaurus'], ['Lesothosaurus', 'https://en.wikipedia.org/wiki/Lesothosaurus'], ['Falcarius', 'https://en.wikipedia.org/wiki/Falcarius'], ['Fendusaurus', 'https://en.wikipedia.org/wiki/Fendusaurus'], ['Oviraptor', 'https://en.wikipedia.org/wiki/Oviraptor'], ['Ferganasaurus', 'https://en.wikipedia.org/wiki/Ferganasaurus'], ['Ferganastegos', 'https://en.wikipedia.org/wiki/Ferganastegos'], ['Ferganocephale', 'https://en.wikipedia.org/wiki/Ferganocephale'], ['Foraminacephale', 'https://en.wikipedia.org/wiki/Foraminacephale'], ['Fosterovenator', 'https://en.wikipedia.org/wiki/Fosterovenator'], ['Fostoria dhimbangunmal', 'https://en.wikipedia.org/wiki/Fostoria_dhimbangunmal'], ['Frenguellisaurus', 'https://en.wikipedia.org/wiki/Frenguellisaurus'], ['Herrerasaurus', 'https://en.wikipedia.org/wiki/Herrerasaurus'], ['Fruitadens', 'https://en.wikipedia.org/wiki/Fruitadens'], ['Fruitadens', 'https://en.wikipedia.org/wiki/Fruitadens'], ['Fukuiraptor', 'https://en.wikipedia.org/wiki/Fukuiraptor'], ['Fukuisaurus', 'https://en.wikipedia.org/wiki/Fukuisaurus'], ['Fukuititan', 'https://en.wikipedia.org/wiki/Fukuititan'], ['Fukuivenator', 'https://en.wikipedia.org/wiki/Fukuivenator'], ['Fulengia', 'https://en.wikipedia.org/wiki/Fulengia'], ['Fulgurotherium', 'https://en.wikipedia.org/wiki/Fulgurotherium'], ['Eotyrannus', 'https://en.wikipedia.org/wiki/Eotyrannus'], ['Fusuisaurus', 'https://en.wikipedia.org/wiki/Fusuisaurus'], ['Futabasaurus', 'https://en.wikipedia.org/wiki/Futabasaurus'], ['Futalognkosaurus', 'https://en.wikipedia.org/wiki/Futalognkosaurus'], ['Galeamopus', 'https://en.wikipedia.org/wiki/Galeamopus'], ['Galesaurus', 'https://en.wikipedia.org/wiki/Galesaurus'], ['Galleonosaurus', 'https://en.wikipedia.org/wiki/Galleonosaurus'], ['Gallimimus', 'https://en.wikipedia.org/wiki/Gallimimus'], ['Galtonia (archosaur)', 'https://en.wikipedia.org/wiki/Galtonia_(archosaur)'], ['Revueltosaurus', 'https://en.wikipedia.org/wiki/Revueltosaurus'], ['Galveosaurus', 'https://en.wikipedia.org/wiki/Galveosaurus'], ['Galvesaurus', 'https://en.wikipedia.org/wiki/Galvesaurus'], ['Galvesaurus', 'https://en.wikipedia.org/wiki/Galvesaurus'], ['Gannansaurus', 'https://en.wikipedia.org/wiki/Gannansaurus'], ['Daxiatitan', 'https://en.wikipedia.org/wiki/Daxiatitan'], ['Ganzhousaurus', 'https://en.wikipedia.org/wiki/Ganzhousaurus'], ['Gargoyleosaurus', 'https://en.wikipedia.org/wiki/Gargoyleosaurus'], ['Garudimimus', 'https://en.wikipedia.org/wiki/Garudimimus'], ['Gasosaurus', 'https://en.wikipedia.org/wiki/Gasosaurus'], ['Gasparinisaura', 'https://en.wikipedia.org/wiki/Gasparinisaura'], ['Gastonia (dinosaur)', 'https://en.wikipedia.org/wiki/Gastonia_(dinosaur)'], ['Eotyrannus', 'https://en.wikipedia.org/wiki/Eotyrannus'], ['Geminiraptor', 'https://en.wikipedia.org/wiki/Geminiraptor'], ['Genusaurus', 'https://en.wikipedia.org/wiki/Genusaurus'], ['Genyodectes', 'https://en.wikipedia.org/wiki/Genyodectes'], ['Geranosaurus', 'https://en.wikipedia.org/wiki/Geranosaurus'], ['Gideonmantellia', 'https://en.wikipedia.org/wiki/Gideonmantellia'], ['Giganotosaurus', 'https://en.wikipedia.org/wiki/Giganotosaurus'], ['Gigantoraptor', 'https://en.wikipedia.org/wiki/Gigantoraptor'], ['Gigantosaurus', 'https://en.wikipedia.org/wiki/Gigantosaurus'], ['Tornieria', 'https://en.wikipedia.org/wiki/Tornieria'], ['Tornieria', 'https://en.wikipedia.org/wiki/Tornieria'], ['Gigantoscelus', 'https://en.wikipedia.org/wiki/Gigantoscelus'], ['Euskelosaurus', 'https://en.wikipedia.org/wiki/Euskelosaurus'], ['Gigantspinosaurus', 'https://en.wikipedia.org/wiki/Gigantspinosaurus'], ['Gilmoreosaurus', 'https://en.wikipedia.org/wiki/Gilmoreosaurus'], ['Kinnareemimus', 'https://en.wikipedia.org/wiki/Kinnareemimus'], ['Giraffatitan', 'https://en.wikipedia.org/wiki/Giraffatitan'], ['Glacialisaurus', 'https://en.wikipedia.org/wiki/Glacialisaurus'], ['Glishades', 'https://en.wikipedia.org/wiki/Glishades'], ['Glyptodontopelta', 'https://en.wikipedia.org/wiki/Glyptodontopelta'], ['Giraffatitan', 'https://en.wikipedia.org/wiki/Giraffatitan'], ['Gobiceratops', 'https://en.wikipedia.org/wiki/Gobiceratops'], ['Gobihadros', 'https://en.wikipedia.org/wiki/Gobihadros'], ['Gobiraptor', 'https://en.wikipedia.org/wiki/Gobiraptor'], ['Gobisaurus', 'https://en.wikipedia.org/wiki/Gobisaurus'], ['Gobititan', 'https://en.wikipedia.org/wiki/Gobititan'], ['Gobivenator', 'https://en.wikipedia.org/wiki/Gobivenator'], ['Gojirasaurus', 'https://en.wikipedia.org/wiki/Gojirasaurus'], ['Gojirasaurus', 'https://en.wikipedia.org/wiki/Gojirasaurus'], ['Gondwanatitan', 'https://en.wikipedia.org/wiki/Gondwanatitan'], ['Gongbusaurus', 'https://en.wikipedia.org/wiki/Gongbusaurus'], ['Gongpoquansaurus', 'https://en.wikipedia.org/wiki/Gongpoquansaurus'], ['Gongxianosaurus', 'https://en.wikipedia.org/wiki/Gongxianosaurus'], ['Gorgosaurus', 'https://en.wikipedia.org/wiki/Gorgosaurus'], ['Goyocephale', 'https://en.wikipedia.org/wiki/Goyocephale'], ['Graciliceratops', 'https://en.wikipedia.org/wiki/Graciliceratops'], ['Graciliraptor', 'https://en.wikipedia.org/wiki/Graciliraptor'], ['Gracilisuchus', 'https://en.wikipedia.org/wiki/Gracilisuchus'], ['Gravitholus', 'https://en.wikipedia.org/wiki/Gravitholus'], ['Gresslyosaurus', 'https://en.wikipedia.org/wiki/Gresslyosaurus'], ['Plateosaurus', 'https://en.wikipedia.org/wiki/Plateosaurus'], ['Griphornis', 'https://en.wikipedia.org/wiki/Griphornis'], ['Archaeopteryx', 'https://en.wikipedia.org/wiki/Archaeopteryx'], ['Griphosaurus', 'https://en.wikipedia.org/wiki/Griphosaurus'], ['Archaeopteryx', 'https://en.wikipedia.org/wiki/Archaeopteryx'], ['Gryphoceratops', 'https://en.wikipedia.org/wiki/Gryphoceratops'], ['Gryponyx', 'https://en.wikipedia.org/wiki/Gryponyx'], ['Gryposaurus', 'https://en.wikipedia.org/wiki/Gryposaurus'], ['Gspsaurus', 'https://en.wikipedia.org/wiki/Gspsaurus'], ['Guaibasaurus', 'https://en.wikipedia.org/wiki/Guaibasaurus'], ['Gualicho', 'https://en.wikipedia.org/wiki/Gualicho'], ['Guanlong', 'https://en.wikipedia.org/wiki/Guanlong'], ['Gwyneddosaurus', 'https://en.wikipedia.org/wiki/Gwyneddosaurus'], ['Gyposaurus', 'https://en.wikipedia.org/wiki/Gyposaurus'], ['Massospondylus', 'https://en.wikipedia.org/wiki/Massospondylus'], ['Gryposaurus', 'https://en.wikipedia.org/wiki/Gryposaurus'], ['Hadrosaurus', 'https://en.wikipedia.org/wiki/Hadrosaurus'], ['Haestasaurus', 'https://en.wikipedia.org/wiki/Haestasaurus'], ['Hagryphus', 'https://en.wikipedia.org/wiki/Hagryphus'], ['Hallopus', 'https://en.wikipedia.org/wiki/Hallopus'], ['Halszkaraptor', 'https://en.wikipedia.org/wiki/Halszkaraptor'], ['Halticosaurus', 'https://en.wikipedia.org/wiki/Halticosaurus'], ['Hanssuesia', 'https://en.wikipedia.org/wiki/Hanssuesia'], ['Haplocanthosaurus', 'https://en.wikipedia.org/wiki/Haplocanthosaurus'], ['Haplocanthus', 'https://en.wikipedia.org/wiki/Haplocanthus'], ['Haplocanthosaurus', 'https://en.wikipedia.org/wiki/Haplocanthosaurus'], ['Haplocheirus', 'https://en.wikipedia.org/wiki/Haplocheirus'], ['Harpymimus', 'https://en.wikipedia.org/wiki/Harpymimus'], ['Haya griva', 'https://en.wikipedia.org/wiki/Haya_griva'], ['Hecatasaurus', 'https://en.wikipedia.org/wiki/Hecatasaurus'], ['Telmatosaurus', 'https://en.wikipedia.org/wiki/Telmatosaurus'], ['Heishansaurus', 'https://en.wikipedia.org/wiki/Heishansaurus'], ['Helioceratops', 'https://en.wikipedia.org/wiki/Helioceratops'], ['Euhelopus', 'https://en.wikipedia.org/wiki/Euhelopus'], ['Heptasteornis', 'https://en.wikipedia.org/wiki/Heptasteornis'], ['Herbstosaurus', 'https://en.wikipedia.org/wiki/Herbstosaurus'], ['Herrerasaurus', 'https://en.wikipedia.org/wiki/Herrerasaurus'], ['Hesperonychus', 'https://en.wikipedia.org/wiki/Hesperonychus'], ['Hesperornithoides', 'https://en.wikipedia.org/wiki/Hesperornithoides'], ['Hesperosaurus', 'https://en.wikipedia.org/wiki/Hesperosaurus'], ['Heterodontosaurus', 'https://en.wikipedia.org/wiki/Heterodontosaurus'], ['Heterosaurus', 'https://en.wikipedia.org/wiki/Heterosaurus'], ['Mantellisaurus', 'https://en.wikipedia.org/wiki/Mantellisaurus'], ['Hexing', 'https://en.wikipedia.org/wiki/Hexing'], ['Hexinlusaurus', 'https://en.wikipedia.org/wiki/Hexinlusaurus'], ['Heyuannia', 'https://en.wikipedia.org/wiki/Heyuannia'], ['Hypsilophodon', 'https://en.wikipedia.org/wiki/Hypsilophodon'], ['Hierosaurus', 'https://en.wikipedia.org/wiki/Hierosaurus'], ['Hikanodon', 'https://en.wikipedia.org/wiki/Hikanodon'], ['Hippodraco', 'https://en.wikipedia.org/wiki/Hippodraco'], ['Histriasaurus', 'https://en.wikipedia.org/wiki/Histriasaurus'], ['Homalocephale', 'https://en.wikipedia.org/wiki/Homalocephale'], ['Yandusaurus', 'https://en.wikipedia.org/wiki/Yandusaurus'], ['Hongshanosaurus', 'https://en.wikipedia.org/wiki/Hongshanosaurus'], ['Psittacosaurus', 'https://en.wikipedia.org/wiki/Psittacosaurus'], ['Hoplitosaurus', 'https://en.wikipedia.org/wiki/Hoplitosaurus'], ['Hoplosaurus', 'https://en.wikipedia.org/wiki/Hoplosaurus'], ['Struthiosaurus', 'https://en.wikipedia.org/wiki/Struthiosaurus'], ['Horshamosaurus', 'https://en.wikipedia.org/wiki/Horshamosaurus'], ['Hortalotarsus', 'https://en.wikipedia.org/wiki/Hortalotarsus'], ['Massospondylus', 'https://en.wikipedia.org/wiki/Massospondylus'], ['Huabeisaurus', 'https://en.wikipedia.org/wiki/Huabeisaurus'], ['Hualianceratops', 'https://en.wikipedia.org/wiki/Hualianceratops'], ['Huanansaurus', 'https://en.wikipedia.org/wiki/Huanansaurus'], ['Huanghetitan', 'https://en.wikipedia.org/wiki/Huanghetitan'], ['Huangshanlong', 'https://en.wikipedia.org/wiki/Huangshanlong'], ['Huaxiagnathus', 'https://en.wikipedia.org/wiki/Huaxiagnathus'], ['Huaxiaosaurus', 'https://en.wikipedia.org/wiki/Huaxiaosaurus'], ['Shantungosaurus', 'https://en.wikipedia.org/wiki/Shantungosaurus'], ['Huaxiagnathus', 'https://en.wikipedia.org/wiki/Huaxiagnathus'], ['Huayangosaurus', 'https://en.wikipedia.org/wiki/Huayangosaurus'], ['Hudiesaurus', 'https://en.wikipedia.org/wiki/Hudiesaurus'], ['Huehuecanauhtlus', 'https://en.wikipedia.org/wiki/Huehuecanauhtlus'], ['Hulsanpes', 'https://en.wikipedia.org/wiki/Hulsanpes'], ['Hungarosaurus', 'https://en.wikipedia.org/wiki/Hungarosaurus'], ['Huxleysaurus', 'https://en.wikipedia.org/wiki/Huxleysaurus'], ['Hylaeosaurus', 'https://en.wikipedia.org/wiki/Hylaeosaurus'], ['Hylosaurus', 'https://en.wikipedia.org/wiki/Hylosaurus'], ['Hylaeosaurus', 'https://en.wikipedia.org/wiki/Hylaeosaurus'], ['Hypacrosaurus', 'https://en.wikipedia.org/wiki/Hypacrosaurus'], ['Hypselorhachis', 'https://en.wikipedia.org/wiki/Hypselorhachis'], ['Hypselosaurus', 'https://en.wikipedia.org/wiki/Hypselosaurus'], ['Hypselospinus', 'https://en.wikipedia.org/wiki/Hypselospinus'], ['Hypsibema', 'https://en.wikipedia.org/wiki/Hypsibema'], ['Hypsilophodon', 'https://en.wikipedia.org/wiki/Hypsilophodon'], ['Hypsirhophus', 'https://en.wikipedia.org/wiki/Hypsirhophus'], ['Velociraptor', 'https://en.wikipedia.org/wiki/Velociraptor'], ['Ichthyovenator', 'https://en.wikipedia.org/wiki/Ichthyovenator'], ['Ignavusaurus', 'https://en.wikipedia.org/wiki/Ignavusaurus'], ['Iguanacolossus', 'https://en.wikipedia.org/wiki/Iguanacolossus'], ['Iguanodon', 'https://en.wikipedia.org/wiki/Iguanodon'], ['Iguanodon', 'https://en.wikipedia.org/wiki/Iguanodon'], ['Iguanodon', 'https://en.wikipedia.org/wiki/Iguanodon'], ['Iguanodon', 'https://en.wikipedia.org/wiki/Iguanodon'], ['Iliosuchus', 'https://en.wikipedia.org/wiki/Iliosuchus'], ['Ilokelesia', 'https://en.wikipedia.org/wiki/Ilokelesia'], ['Imperobator', 'https://en.wikipedia.org/wiki/Imperobator'], ['Incisivosaurus', 'https://en.wikipedia.org/wiki/Incisivosaurus'], ['Indosaurus', 'https://en.wikipedia.org/wiki/Indosaurus'], ['Indosuchus', 'https://en.wikipedia.org/wiki/Indosuchus'], ['Heyuannia', 'https://en.wikipedia.org/wiki/Heyuannia'], ['Heyuannia', 'https://en.wikipedia.org/wiki/Heyuannia'], ['Ingentia', 'https://en.wikipedia.org/wiki/Ingentia'], ['Inosaurus', 'https://en.wikipedia.org/wiki/Inosaurus'], ['Invictarx', 'https://en.wikipedia.org/wiki/Invictarx'], ['Irritator', 'https://en.wikipedia.org/wiki/Irritator'], ['Isaberrysaura', 'https://en.wikipedia.org/wiki/Isaberrysaura'], ['Isanosaurus', 'https://en.wikipedia.org/wiki/Isanosaurus'], ['Ischioceratops', 'https://en.wikipedia.org/wiki/Ischioceratops'], ['Ischisaurus', 'https://en.wikipedia.org/wiki/Ischisaurus'], ['Herrerasaurus', 'https://en.wikipedia.org/wiki/Herrerasaurus'], ['Ischyrosaurus', 'https://en.wikipedia.org/wiki/Ischyrosaurus'], ['Isisaurus', 'https://en.wikipedia.org/wiki/Isisaurus'], ['Dicraeosaurus', 'https://en.wikipedia.org/wiki/Dicraeosaurus'], ['Itapeuasaurus', 'https://en.wikipedia.org/wiki/Itapeuasaurus'], ['Itemirus', 'https://en.wikipedia.org/wiki/Itemirus'], ['Iuticosaurus', 'https://en.wikipedia.org/wiki/Iuticosaurus'], ['Jainosaurus', 'https://en.wikipedia.org/wiki/Jainosaurus'], ['Jaklapallisaurus', 'https://en.wikipedia.org/wiki/Jaklapallisaurus'], ['Janenschia', 'https://en.wikipedia.org/wiki/Janenschia'], ['Jaxartosaurus', 'https://en.wikipedia.org/wiki/Jaxartosaurus'], ['Jeholosaurus', 'https://en.wikipedia.org/wiki/Jeholosaurus'], ['Jenghizkhan', 'https://en.wikipedia.org/wiki/Jenghizkhan'], ['Tarbosaurus', 'https://en.wikipedia.org/wiki/Tarbosaurus'], ['Supersaurus', 'https://en.wikipedia.org/wiki/Supersaurus'], ['Jeyawati', 'https://en.wikipedia.org/wiki/Jeyawati'], ['Jianchangosaurus', 'https://en.wikipedia.org/wiki/Jianchangosaurus'], ['Monolophosaurus', 'https://en.wikipedia.org/wiki/Monolophosaurus'], ['Jiangjunosaurus', 'https://en.wikipedia.org/wiki/Jiangjunosaurus'], ['Jiangshanosaurus', 'https://en.wikipedia.org/wiki/Jiangshanosaurus'], ['Jinfengopteryx', 'https://en.wikipedia.org/wiki/Jinfengopteryx'], ['Jiangxisaurus', 'https://en.wikipedia.org/wiki/Jiangxisaurus'], ['Jianianhualong', 'https://en.wikipedia.org/wiki/Jianianhualong'], ['Jinfengopteryx', 'https://en.wikipedia.org/wiki/Jinfengopteryx'], ['Jingshanosaurus', 'https://en.wikipedia.org/wiki/Jingshanosaurus'], ['Jintasaurus', 'https://en.wikipedia.org/wiki/Jintasaurus'], ['Jinyunpelta', 'https://en.wikipedia.org/wiki/Jinyunpelta'], ['Jinzhousaurus', 'https://en.wikipedia.org/wiki/Jinzhousaurus'], ['Jiutaisaurus', 'https://en.wikipedia.org/wiki/Jiutaisaurus'], ['Jobaria', 'https://en.wikipedia.org/wiki/Jobaria'], ['Jubbulpuria', 'https://en.wikipedia.org/wiki/Jubbulpuria'], ['Judiceratops', 'https://en.wikipedia.org/wiki/Judiceratops'], ['Jurapteryx', 'https://en.wikipedia.org/wiki/Jurapteryx'], ['Archaeopteryx', 'https://en.wikipedia.org/wiki/Archaeopteryx'], ['Tianchisaurus', 'https://en.wikipedia.org/wiki/Tianchisaurus'], ['Juratyrant', 'https://en.wikipedia.org/wiki/Juratyrant'], ['Juravenator', 'https://en.wikipedia.org/wiki/Juravenator'], ['Kaatedocus', 'https://en.wikipedia.org/wiki/Kaatedocus'], ['Kaijiangosaurus', 'https://en.wikipedia.org/wiki/Kaijiangosaurus'], ['Kaijutitan', 'https://en.wikipedia.org/wiki/Kaijutitan'], ['Kakuru', 'https://en.wikipedia.org/wiki/Kakuru'], ['Kangnasaurus', 'https://en.wikipedia.org/wiki/Kangnasaurus'], ['Karongasaurus', 'https://en.wikipedia.org/wiki/Karongasaurus'], ['Katepensaurus', 'https://en.wikipedia.org/wiki/Katepensaurus'], ['Fukuiraptor', 'https://en.wikipedia.org/wiki/Fukuiraptor'], ['Kayentavenator', 'https://en.wikipedia.org/wiki/Kayentavenator'], ['Kazaklambia', 'https://en.wikipedia.org/wiki/Kazaklambia'], ['Kelmayisaurus', 'https://en.wikipedia.org/wiki/Kelmayisaurus'], ['Kemkemia', 'https://en.wikipedia.org/wiki/Kemkemia'], ['Kentrosaurus', 'https://en.wikipedia.org/wiki/Kentrosaurus'], ['Kentrurosaurus', 'https://en.wikipedia.org/wiki/Kentrurosaurus'], ['Kentrosaurus', 'https://en.wikipedia.org/wiki/Kentrosaurus'], ['Kerberosaurus', 'https://en.wikipedia.org/wiki/Kerberosaurus'], ['Kentrosaurus', 'https://en.wikipedia.org/wiki/Kentrosaurus'], ['Khaan', 'https://en.wikipedia.org/wiki/Khaan'], ['Khetranisaurus', 'https://en.wikipedia.org/wiki/Khetranisaurus'], ['Kileskus', 'https://en.wikipedia.org/wiki/Kileskus'], ['Kinnareemimus', 'https://en.wikipedia.org/wiki/Kinnareemimus'], ['Fukuiraptor', 'https://en.wikipedia.org/wiki/Fukuiraptor'], ['Eotyrannus', 'https://en.wikipedia.org/wiki/Eotyrannus'], ['Klamelisaurus', 'https://en.wikipedia.org/wiki/Klamelisaurus'], ['Bellusaurus', 'https://en.wikipedia.org/wiki/Bellusaurus'], ['Kol ghuva', 'https://en.wikipedia.org/wiki/Kol_ghuva'], ['Koparion', 'https://en.wikipedia.org/wiki/Koparion'], ['Koreaceratops', 'https://en.wikipedia.org/wiki/Koreaceratops'], ['Koreanosaurus', 'https://en.wikipedia.org/wiki/Koreanosaurus'], ['Koshisaurus', 'https://en.wikipedia.org/wiki/Koshisaurus'], ['Kosmoceratops', 'https://en.wikipedia.org/wiki/Kosmoceratops'], ['Kotasaurus', 'https://en.wikipedia.org/wiki/Kotasaurus'], ['Koutalisaurus', 'https://en.wikipedia.org/wiki/Koutalisaurus'], ['Pararhabdodon', 'https://en.wikipedia.org/wiki/Pararhabdodon'], ['Kritosaurus', 'https://en.wikipedia.org/wiki/Kritosaurus'], ['Kryptops', 'https://en.wikipedia.org/wiki/Kryptops'], ['Krzyzanowskisaurus', 'https://en.wikipedia.org/wiki/Krzyzanowskisaurus'], ['Revueltosaurus', 'https://en.wikipedia.org/wiki/Revueltosaurus'], ['Kukufeldia', 'https://en.wikipedia.org/wiki/Kukufeldia'], ['Kulceratops', 'https://en.wikipedia.org/wiki/Kulceratops'], ['Kulindadromeus', 'https://en.wikipedia.org/wiki/Kulindadromeus'], ['Kulindapteryx', 'https://en.wikipedia.org/wiki/Kulindapteryx'], ['Kulindadromeus', 'https://en.wikipedia.org/wiki/Kulindadromeus'], ['Kunbarrasaurus', 'https://en.wikipedia.org/wiki/Kunbarrasaurus'], ['Kundurosaurus', 'https://en.wikipedia.org/wiki/Kundurosaurus'], ['Kuszholia', 'https://en.wikipedia.org/wiki/Kuszholia'], ['Labocania', 'https://en.wikipedia.org/wiki/Labocania'], ['Labrosaurus', 'https://en.wikipedia.org/wiki/Labrosaurus'], ['Allosaurus', 'https://en.wikipedia.org/wiki/Allosaurus'], ['Laelaps (dinosaur)', 'https://en.wikipedia.org/wiki/Laelaps_(dinosaur)'], ['Dryptosaurus', 'https://en.wikipedia.org/wiki/Dryptosaurus'], ['Laevisuchus', 'https://en.wikipedia.org/wiki/Laevisuchus'], ['Lagerpeton', 'https://en.wikipedia.org/wiki/Lagerpeton'], ['Lagosuchus', 'https://en.wikipedia.org/wiki/Lagosuchus'], ['Laiyangosaurus', 'https://en.wikipedia.org/wiki/Laiyangosaurus'], ['Lamaceratops', 'https://en.wikipedia.org/wiki/Lamaceratops'], ['Bagaceratops', 'https://en.wikipedia.org/wiki/Bagaceratops'], ['Lambeosaurus', 'https://en.wikipedia.org/wiki/Lambeosaurus'], ['Lametasaurus', 'https://en.wikipedia.org/wiki/Lametasaurus'], ['Lamplughsaura', 'https://en.wikipedia.org/wiki/Lamplughsaura'], ['Lanasaurus', 'https://en.wikipedia.org/wiki/Lanasaurus'], ['Lycorhinus', 'https://en.wikipedia.org/wiki/Lycorhinus'], ['Lanzhousaurus', 'https://en.wikipedia.org/wiki/Lanzhousaurus'], ['Laosaurus', 'https://en.wikipedia.org/wiki/Laosaurus'], ['Lapampasaurus', 'https://en.wikipedia.org/wiki/Lapampasaurus'], ['Laplatasaurus', 'https://en.wikipedia.org/wiki/Laplatasaurus'], ['Lapparentosaurus', 'https://en.wikipedia.org/wiki/Lapparentosaurus'], ['Laquintasaura', 'https://en.wikipedia.org/wiki/Laquintasaura'], ['Latenivenatrix', 'https://en.wikipedia.org/wiki/Latenivenatrix'], ['Latirhinus', 'https://en.wikipedia.org/wiki/Latirhinus'], ['Lavocatisaurus', 'https://en.wikipedia.org/wiki/Lavocatisaurus'], ['Leaellynasaura', 'https://en.wikipedia.org/wiki/Leaellynasaura'], ['Ledumahadi', 'https://en.wikipedia.org/wiki/Ledumahadi'], ['Leinkupal', 'https://en.wikipedia.org/wiki/Leinkupal'], ['Leipsanosaurus', 'https://en.wikipedia.org/wiki/Leipsanosaurus'], ['Struthiosaurus', 'https://en.wikipedia.org/wiki/Struthiosaurus'], ['Eotyrannus', 'https://en.wikipedia.org/wiki/Eotyrannus'], ['Leonerasaurus', 'https://en.wikipedia.org/wiki/Leonerasaurus'], ['Lepidocheirosaurus', 'https://en.wikipedia.org/wiki/Lepidocheirosaurus'], ['Kulindadromeus', 'https://en.wikipedia.org/wiki/Kulindadromeus'], ['Lepidus praecisio', 'https://en.wikipedia.org/wiki/Lepidus_praecisio'], ['Leptoceratops', 'https://en.wikipedia.org/wiki/Leptoceratops'], ['Leptorhynchos (dinosaur)', 'https://en.wikipedia.org/wiki/Leptorhynchos_(dinosaur)'], ['Leptospondylus', 'https://en.wikipedia.org/wiki/Leptospondylus'], ['Massospondylus', 'https://en.wikipedia.org/wiki/Massospondylus'], ['Leshansaurus', 'https://en.wikipedia.org/wiki/Leshansaurus'], ['Lesothosaurus', 'https://en.wikipedia.org/wiki/Lesothosaurus'], ['Linhenykus', 'https://en.wikipedia.org/wiki/Linhenykus'], ['Lessemsaurus', 'https://en.wikipedia.org/wiki/Lessemsaurus'], ['Levnesovia', 'https://en.wikipedia.org/wiki/Levnesovia'], ['Lewisuchus', 'https://en.wikipedia.org/wiki/Lewisuchus'], ['Lexovisaurus', 'https://en.wikipedia.org/wiki/Lexovisaurus'], ['Leyesaurus', 'https://en.wikipedia.org/wiki/Leyesaurus'], ['Liaoceratops', 'https://en.wikipedia.org/wiki/Liaoceratops'], ['Liaoningosaurus', 'https://en.wikipedia.org/wiki/Liaoningosaurus'], ['Liaoningotitan', 'https://en.wikipedia.org/wiki/Liaoningotitan'], ['Liaoningvenator', 'https://en.wikipedia.org/wiki/Liaoningvenator'], ['Liassaurus', 'https://en.wikipedia.org/wiki/Liassaurus'], ['Sarcosaurus', 'https://en.wikipedia.org/wiki/Sarcosaurus'], ['Libycosaurus', 'https://en.wikipedia.org/wiki/Libycosaurus'], ['Ligabueino', 'https://en.wikipedia.org/wiki/Ligabueino'], ['Ligabuesaurus', 'https://en.wikipedia.org/wiki/Ligabuesaurus'], ['Giraffatitan', 'https://en.wikipedia.org/wiki/Giraffatitan'], ['Liliensternus', 'https://en.wikipedia.org/wiki/Liliensternus'], ['Limaysaurus', 'https://en.wikipedia.org/wiki/Limaysaurus'], ['Palaeocursornis', 'https://en.wikipedia.org/wiki/Palaeocursornis'], ['Palaeocursornis', 'https://en.wikipedia.org/wiki/Palaeocursornis'], ['Telmatosaurus', 'https://en.wikipedia.org/wiki/Telmatosaurus'], ['Telmatosaurus', 'https://en.wikipedia.org/wiki/Telmatosaurus'], ['Limusaurus', 'https://en.wikipedia.org/wiki/Limusaurus'], ['Lingwulong', 'https://en.wikipedia.org/wiki/Lingwulong'], ['Lingyuanosaurus', 'https://en.wikipedia.org/wiki/Lingyuanosaurus'], ['Linhenykus', 'https://en.wikipedia.org/wiki/Linhenykus'], ['Linheraptor', 'https://en.wikipedia.org/wiki/Linheraptor'], ['Linhevenator', 'https://en.wikipedia.org/wiki/Linhevenator'], ['Lirainosaurus', 'https://en.wikipedia.org/wiki/Lirainosaurus'], ['Lisboasaurus', 'https://en.wikipedia.org/wiki/Lisboasaurus'], ['Liubangosaurus', 'https://en.wikipedia.org/wiki/Liubangosaurus'], ['Lohuecotitan', 'https://en.wikipedia.org/wiki/Lohuecotitan'], ['Loncosaurus', 'https://en.wikipedia.org/wiki/Loncosaurus'], ['Longisquama', 'https://en.wikipedia.org/wiki/Longisquama'], ['Longosaurus', 'https://en.wikipedia.org/wiki/Longosaurus'], ['Coelophysis', 'https://en.wikipedia.org/wiki/Coelophysis'], ['Lophorhothon', 'https://en.wikipedia.org/wiki/Lophorhothon'], ['Lophostropheus', 'https://en.wikipedia.org/wiki/Lophostropheus'], ['Loricatosaurus', 'https://en.wikipedia.org/wiki/Loricatosaurus'], ['Loricosaurus', 'https://en.wikipedia.org/wiki/Loricosaurus'], ['Losillasaurus', 'https://en.wikipedia.org/wiki/Losillasaurus'], ['Lourinhanosaurus', 'https://en.wikipedia.org/wiki/Lourinhanosaurus'], ['Lourinhasaurus', 'https://en.wikipedia.org/wiki/Lourinhasaurus'], ['Luanchuanraptor', 'https://en.wikipedia.org/wiki/Luanchuanraptor'], ['Psittacosaurus', 'https://en.wikipedia.org/wiki/Psittacosaurus'], ['Lucianosaurus', 'https://en.wikipedia.org/wiki/Lucianosaurus'], ['Lucianovenator', 'https://en.wikipedia.org/wiki/Lucianovenator'], ['Lufengosaurus', 'https://en.wikipedia.org/wiki/Lufengosaurus'], ['Lukousaurus', 'https://en.wikipedia.org/wiki/Lukousaurus'], ['Luoyanggia', 'https://en.wikipedia.org/wiki/Luoyanggia'], ['Lurdusaurus', 'https://en.wikipedia.org/wiki/Lurdusaurus'], ['Lusitanosaurus', 'https://en.wikipedia.org/wiki/Lusitanosaurus'], ['Lusotitan', 'https://en.wikipedia.org/wiki/Lusotitan'], ['Lycorhinus', 'https://en.wikipedia.org/wiki/Lycorhinus'], ['Lythronax', 'https://en.wikipedia.org/wiki/Lythronax'], ['Macelognathus', 'https://en.wikipedia.org/wiki/Macelognathus'], ['Machairasaurus', 'https://en.wikipedia.org/wiki/Machairasaurus'], ['Machairoceratops', 'https://en.wikipedia.org/wiki/Machairoceratops'], ['Macrocollum', 'https://en.wikipedia.org/wiki/Macrocollum'], ['Macrodontophion', 'https://en.wikipedia.org/wiki/Macrodontophion'], ['Macrogryphosaurus', 'https://en.wikipedia.org/wiki/Macrogryphosaurus'], ['Macrophalangia', 'https://en.wikipedia.org/wiki/Macrophalangia'], ['Chirostenotes', 'https://en.wikipedia.org/wiki/Chirostenotes'], ['Tanystropheus', 'https://en.wikipedia.org/wiki/Tanystropheus'], ['Macrurosaurus', 'https://en.wikipedia.org/wiki/Macrurosaurus'], ['Allosaurus', 'https://en.wikipedia.org/wiki/Allosaurus'], ['Magnamanus', 'https://en.wikipedia.org/wiki/Magnamanus'], ['Magnapaulia', 'https://en.wikipedia.org/wiki/Magnapaulia'], ['Magnirostris', 'https://en.wikipedia.org/wiki/Magnirostris'], ['Magnosaurus', 'https://en.wikipedia.org/wiki/Magnosaurus'], ['Magyarosaurus', 'https://en.wikipedia.org/wiki/Magyarosaurus'], ['Mahakala omnogovae', 'https://en.wikipedia.org/wiki/Mahakala_omnogovae'], ['Mahuidacursor', 'https://en.wikipedia.org/wiki/Mahuidacursor'], ['Maiasaura', 'https://en.wikipedia.org/wiki/Maiasaura'], ['Majungasaurus', 'https://en.wikipedia.org/wiki/Majungasaurus'], ['Majungatholus', 'https://en.wikipedia.org/wiki/Majungatholus'], ['Majungasaurus', 'https://en.wikipedia.org/wiki/Majungasaurus'], ['Malarguesaurus', 'https://en.wikipedia.org/wiki/Malarguesaurus'], ['Malawisaurus', 'https://en.wikipedia.org/wiki/Malawisaurus'], ['Massospondylus', 'https://en.wikipedia.org/wiki/Massospondylus'], ['Maleevosaurus', 'https://en.wikipedia.org/wiki/Maleevosaurus'], ['Tarbosaurus', 'https://en.wikipedia.org/wiki/Tarbosaurus'], ['Maleevus', 'https://en.wikipedia.org/wiki/Maleevus'], ['Mamenchisaurus', 'https://en.wikipedia.org/wiki/Mamenchisaurus'], ['Mandschurosaurus', 'https://en.wikipedia.org/wiki/Mandschurosaurus'], ['Manidens', 'https://en.wikipedia.org/wiki/Manidens'], ['Manospondylus', 'https://en.wikipedia.org/wiki/Manospondylus'], ['Tyrannosaurus', 'https://en.wikipedia.org/wiki/Tyrannosaurus'], ['Mansourasaurus', 'https://en.wikipedia.org/wiki/Mansourasaurus'], ['Mantellisaurus', 'https://en.wikipedia.org/wiki/Mantellisaurus'], ['Mantellodon', 'https://en.wikipedia.org/wiki/Mantellodon'], ['Mantellisaurus', 'https://en.wikipedia.org/wiki/Mantellisaurus'], ['Mapusaurus', 'https://en.wikipedia.org/wiki/Mapusaurus'], ['Maraapunisaurus', 'https://en.wikipedia.org/wiki/Maraapunisaurus'], ['Marasuchus', 'https://en.wikipedia.org/wiki/Marasuchus'], ['Marisaurus', 'https://en.wikipedia.org/wiki/Marisaurus'], ['Marmarospondylus', 'https://en.wikipedia.org/wiki/Marmarospondylus'], ['Marshosaurus', 'https://en.wikipedia.org/wiki/Marshosaurus'], ['Martharaptor', 'https://en.wikipedia.org/wiki/Martharaptor'], ['Masiakasaurus', 'https://en.wikipedia.org/wiki/Masiakasaurus'], ['Massospondylus', 'https://en.wikipedia.org/wiki/Massospondylus'], ['Matheronodon', 'https://en.wikipedia.org/wiki/Matheronodon'], ['Maxakalisaurus', 'https://en.wikipedia.org/wiki/Maxakalisaurus'], ['Medusaceratops', 'https://en.wikipedia.org/wiki/Medusaceratops'], ['Megadactylus', 'https://en.wikipedia.org/wiki/Megadactylus'], ['Anchisaurus', 'https://en.wikipedia.org/wiki/Anchisaurus'], ['Microvenator', 'https://en.wikipedia.org/wiki/Microvenator'], ['Megalosaurus', 'https://en.wikipedia.org/wiki/Megalosaurus'], ['Megapnosaurus', 'https://en.wikipedia.org/wiki/Megapnosaurus'], ['Coelophysis', 'https://en.wikipedia.org/wiki/Coelophysis'], ['Megaraptor', 'https://en.wikipedia.org/wiki/Megaraptor'], ['Mei (dinosaur)', 'https://en.wikipedia.org/wiki/Mei_(dinosaur)'], ['Melanorosaurus', 'https://en.wikipedia.org/wiki/Melanorosaurus'], ['Mendozasaurus', 'https://en.wikipedia.org/wiki/Mendozasaurus'], ['Mercuriceratops', 'https://en.wikipedia.org/wiki/Mercuriceratops'], ['Meroktenos', 'https://en.wikipedia.org/wiki/Meroktenos'], ['Metriacanthosaurus', 'https://en.wikipedia.org/wiki/Metriacanthosaurus'], ['Microceratops gobiensis', 'https://en.wikipedia.org/wiki/Microceratops_gobiensis'], ['Microceratus', 'https://en.wikipedia.org/wiki/Microceratus'], ['Microceratus', 'https://en.wikipedia.org/wiki/Microceratus'], ['Microcoelus', 'https://en.wikipedia.org/wiki/Microcoelus'], ['Microhadrosaurus', 'https://en.wikipedia.org/wiki/Microhadrosaurus'], ['Micropachycephalosaurus', 'https://en.wikipedia.org/wiki/Micropachycephalosaurus'], ['Microraptor', 'https://en.wikipedia.org/wiki/Microraptor'], ['Microvenator', 'https://en.wikipedia.org/wiki/Microvenator'], ['Mierasaurus', 'https://en.wikipedia.org/wiki/Mierasaurus'], ['Minmi paravertebra', 'https://en.wikipedia.org/wiki/Minmi_paravertebra'], ['Minotaurasaurus', 'https://en.wikipedia.org/wiki/Minotaurasaurus'], ['Miragaia longicollum', 'https://en.wikipedia.org/wiki/Miragaia_longicollum'], ['Mirischia', 'https://en.wikipedia.org/wiki/Mirischia'], ['Mnyamawamtuka', 'https://en.wikipedia.org/wiki/Mnyamawamtuka'], ['Moabosaurus', 'https://en.wikipedia.org/wiki/Moabosaurus'], ['Mochlodon', 'https://en.wikipedia.org/wiki/Mochlodon'], ['Tornieria', 'https://en.wikipedia.org/wiki/Tornieria'], ['Muttaburrasaurus', 'https://en.wikipedia.org/wiki/Muttaburrasaurus'], ['Mojoceratops', 'https://en.wikipedia.org/wiki/Mojoceratops'], ['Chasmosaurus', 'https://en.wikipedia.org/wiki/Chasmosaurus'], ['Mongolosaurus', 'https://en.wikipedia.org/wiki/Mongolosaurus'], ['Mongolostegus', 'https://en.wikipedia.org/wiki/Mongolostegus'], ['Monkonosaurus', 'https://en.wikipedia.org/wiki/Monkonosaurus'], ['Monoclonius', 'https://en.wikipedia.org/wiki/Monoclonius'], ['Monolophosaurus', 'https://en.wikipedia.org/wiki/Monolophosaurus'], ['Mononychus olecranus', 'https://en.wikipedia.org/wiki/Mononychus_olecranus'], ['Mononykus', 'https://en.wikipedia.org/wiki/Mononykus'], ['Mononykus', 'https://en.wikipedia.org/wiki/Mononykus'], ['Montanoceratops', 'https://en.wikipedia.org/wiki/Montanoceratops'], ['Morelladon', 'https://en.wikipedia.org/wiki/Morelladon'], ['Morinosaurus', 'https://en.wikipedia.org/wiki/Morinosaurus'], ['Moros intrepidus', 'https://en.wikipedia.org/wiki/Moros_intrepidus'], ['Morosaurus', 'https://en.wikipedia.org/wiki/Morosaurus'], ['Camarasaurus', 'https://en.wikipedia.org/wiki/Camarasaurus'], ['Morrosaurus', 'https://en.wikipedia.org/wiki/Morrosaurus'], ['Mosaiceratops', 'https://en.wikipedia.org/wiki/Mosaiceratops'], ['Mamenchisaurus', 'https://en.wikipedia.org/wiki/Mamenchisaurus'], ['Giraffatitan', 'https://en.wikipedia.org/wiki/Giraffatitan'], ['Dicraeosaurus', 'https://en.wikipedia.org/wiki/Dicraeosaurus'], ['Murusraptor', 'https://en.wikipedia.org/wiki/Murusraptor'], ['Mussaurus', 'https://en.wikipedia.org/wiki/Mussaurus'], ['Muttaburrasaurus', 'https://en.wikipedia.org/wiki/Muttaburrasaurus'], ['Muyelensaurus', 'https://en.wikipedia.org/wiki/Muyelensaurus'], ['Mymoorapelta', 'https://en.wikipedia.org/wiki/Mymoorapelta'], ['Naashoibitosaurus', 'https://en.wikipedia.org/wiki/Naashoibitosaurus'], ['Nambalia', 'https://en.wikipedia.org/wiki/Nambalia'], ['Nankangia', 'https://en.wikipedia.org/wiki/Nankangia'], ['Nanningosaurus', 'https://en.wikipedia.org/wiki/Nanningosaurus'], ['Nanosaurus', 'https://en.wikipedia.org/wiki/Nanosaurus'], ['Nanotyrannus', 'https://en.wikipedia.org/wiki/Nanotyrannus'], ['Tyrannosaurus', 'https://en.wikipedia.org/wiki/Tyrannosaurus'], ['Nanshiungosaurus', 'https://en.wikipedia.org/wiki/Nanshiungosaurus'], ['Nanuqsaurus', 'https://en.wikipedia.org/wiki/Nanuqsaurus'], ['Nanyangosaurus', 'https://en.wikipedia.org/wiki/Nanyangosaurus'], ['Narambuenatitan', 'https://en.wikipedia.org/wiki/Narambuenatitan'], ['Nasutoceratops', 'https://en.wikipedia.org/wiki/Nasutoceratops'], ['Natronasaurus', 'https://en.wikipedia.org/wiki/Natronasaurus'], ['Alcovasaurus', 'https://en.wikipedia.org/wiki/Alcovasaurus'], ['Nebulasaurus', 'https://en.wikipedia.org/wiki/Nebulasaurus'], ['Nectosaurus navajovius', 'https://en.wikipedia.org/wiki/Nectosaurus_navajovius'], ['Kritosaurus', 'https://en.wikipedia.org/wiki/Kritosaurus'], ['Nedcolbertia', 'https://en.wikipedia.org/wiki/Nedcolbertia'], ['Nedoceratops', 'https://en.wikipedia.org/wiki/Nedoceratops'], ['Triceratops', 'https://en.wikipedia.org/wiki/Triceratops'], ['Neimongosaurus', 'https://en.wikipedia.org/wiki/Neimongosaurus'], ['Nemegtia', 'https://en.wikipedia.org/wiki/Nemegtia'], ['Nemegtomaia', 'https://en.wikipedia.org/wiki/Nemegtomaia'], ['Nemegtomaia', 'https://en.wikipedia.org/wiki/Nemegtomaia'], ['Nemegtosaurus', 'https://en.wikipedia.org/wiki/Nemegtosaurus'], ['Neosaurus missouriensis', 'https://en.wikipedia.org/wiki/Neosaurus_missouriensis'], ['Parrosaurus', 'https://en.wikipedia.org/wiki/Parrosaurus'], ['Hypsibema', 'https://en.wikipedia.org/wiki/Hypsibema'], ['Neosodon', 'https://en.wikipedia.org/wiki/Neosodon'], ['Neovenator', 'https://en.wikipedia.org/wiki/Neovenator'], ['Neuquenraptor', 'https://en.wikipedia.org/wiki/Neuquenraptor'], ['Neuquensaurus', 'https://en.wikipedia.org/wiki/Neuquensaurus'], ['Zanclodon cambrensis', 'https://en.wikipedia.org/wiki/Zanclodon_cambrensis'], ['Ngwevu', 'https://en.wikipedia.org/wiki/Ngwevu'], ['Nhandumirim', 'https://en.wikipedia.org/wiki/Nhandumirim'], ['Nicksaurus', 'https://en.wikipedia.org/wiki/Nicksaurus'], ['Nigersaurus', 'https://en.wikipedia.org/wiki/Nigersaurus'], ['Ningyuansaurus', 'https://en.wikipedia.org/wiki/Ningyuansaurus'], ['Niobrarasaurus', 'https://en.wikipedia.org/wiki/Niobrarasaurus'], ['Nipponosaurus', 'https://en.wikipedia.org/wiki/Nipponosaurus'], ['Noasaurus', 'https://en.wikipedia.org/wiki/Noasaurus'], ['Nodocephalosaurus', 'https://en.wikipedia.org/wiki/Nodocephalosaurus'], ['Nodosaurus', 'https://en.wikipedia.org/wiki/Nodosaurus'], ['Nomingia', 'https://en.wikipedia.org/wiki/Nomingia'], ['Neimongosaurus', 'https://en.wikipedia.org/wiki/Neimongosaurus'], ['Nopcsaspondylus', 'https://en.wikipedia.org/wiki/Nopcsaspondylus'], ['Normanniasaurus', 'https://en.wikipedia.org/wiki/Normanniasaurus'], ['Notatesseraeraptor', 'https://en.wikipedia.org/wiki/Notatesseraeraptor'], ['Nothronychus', 'https://en.wikipedia.org/wiki/Nothronychus'], ['Notoceratops', 'https://en.wikipedia.org/wiki/Notoceratops'], ['Notocolossus', 'https://en.wikipedia.org/wiki/Notocolossus'], ['Notohypsilophodon', 'https://en.wikipedia.org/wiki/Notohypsilophodon'], ['Nqwebasaurus', 'https://en.wikipedia.org/wiki/Nqwebasaurus'], ['Janenschia', 'https://en.wikipedia.org/wiki/Janenschia'], ['Nuthetes', 'https://en.wikipedia.org/wiki/Nuthetes'], ['Nyasasaurus', 'https://en.wikipedia.org/wiki/Nyasasaurus'], ['Dicraeosaurus', 'https://en.wikipedia.org/wiki/Dicraeosaurus'], ['Oceanotitan', 'https://en.wikipedia.org/wiki/Oceanotitan'], ['Ohmdenosaurus', 'https://en.wikipedia.org/wiki/Ohmdenosaurus'], ['Ojoceratops', 'https://en.wikipedia.org/wiki/Ojoceratops'], ['Ojoraptorsaurus', 'https://en.wikipedia.org/wiki/Ojoraptorsaurus'], ['Oligosaurus', 'https://en.wikipedia.org/wiki/Oligosaurus'], ['Olorotitan', 'https://en.wikipedia.org/wiki/Olorotitan'], ['Omeisaurus', 'https://en.wikipedia.org/wiki/Omeisaurus'], ['Omosaurus armatus', 'https://en.wikipedia.org/wiki/Omosaurus_armatus'], ['Dacentrurus', 'https://en.wikipedia.org/wiki/Dacentrurus'], ['Onychosaurus', 'https://en.wikipedia.org/wiki/Onychosaurus'], ['Rhabdodon', 'https://en.wikipedia.org/wiki/Rhabdodon'], ['Oohkotokia', 'https://en.wikipedia.org/wiki/Oohkotokia'], ['Opisthocoelicaudia', 'https://en.wikipedia.org/wiki/Opisthocoelicaudia'], ['Nemegtosaurus', 'https://en.wikipedia.org/wiki/Nemegtosaurus'], ['Oplosaurus', 'https://en.wikipedia.org/wiki/Oplosaurus'], ['Orinosaurus', 'https://en.wikipedia.org/wiki/Orinosaurus'], ['Orosaurus', 'https://en.wikipedia.org/wiki/Orosaurus'], ['Orkoraptor', 'https://en.wikipedia.org/wiki/Orkoraptor'], ['Ornatotholus', 'https://en.wikipedia.org/wiki/Ornatotholus'], ['Stegoceras', 'https://en.wikipedia.org/wiki/Stegoceras'], ['Ornithodesmus', 'https://en.wikipedia.org/wiki/Ornithodesmus'], ['Saurornithoides', 'https://en.wikipedia.org/wiki/Saurornithoides'], ['Ornitholestes', 'https://en.wikipedia.org/wiki/Ornitholestes'], ['Omeisaurus', 'https://en.wikipedia.org/wiki/Omeisaurus'], ['Ornithomerus', 'https://en.wikipedia.org/wiki/Ornithomerus'], ['Ornithomimoides', 'https://en.wikipedia.org/wiki/Ornithomimoides'], ['Ornithomimus', 'https://en.wikipedia.org/wiki/Ornithomimus'], ['Ornithopsis', 'https://en.wikipedia.org/wiki/Ornithopsis'], ['Ornithosuchus', 'https://en.wikipedia.org/wiki/Ornithosuchus'], ['Ornithotarsus', 'https://en.wikipedia.org/wiki/Ornithotarsus'], ['Hadrosaurus', 'https://en.wikipedia.org/wiki/Hadrosaurus'], ['Orodromeus', 'https://en.wikipedia.org/wiki/Orodromeus'], ['Orosaurus', 'https://en.wikipedia.org/wiki/Orosaurus'], ['Orthogoniosaurus', 'https://en.wikipedia.org/wiki/Orthogoniosaurus'], ['Orthomerus', 'https://en.wikipedia.org/wiki/Orthomerus'], ['Oryctodromeus', 'https://en.wikipedia.org/wiki/Oryctodromeus'], ['Osmakasaurus', 'https://en.wikipedia.org/wiki/Osmakasaurus'], ['Ostafrikasaurus', 'https://en.wikipedia.org/wiki/Ostafrikasaurus'], ['Ostromia', 'https://en.wikipedia.org/wiki/Ostromia'], ['Othnielia', 'https://en.wikipedia.org/wiki/Othnielia'], ['Othnielosaurus', 'https://en.wikipedia.org/wiki/Othnielosaurus'], ['Otogosaurus', 'https://en.wikipedia.org/wiki/Otogosaurus'], ['Ouranosaurus', 'https://en.wikipedia.org/wiki/Ouranosaurus'], ['Overosaurus', 'https://en.wikipedia.org/wiki/Overosaurus'], ['Oviraptor', 'https://en.wikipedia.org/wiki/Oviraptor'], ['Velociraptor', 'https://en.wikipedia.org/wiki/Velociraptor'], ['Owenodon', 'https://en.wikipedia.org/wiki/Owenodon'], ['Oxalaia', 'https://en.wikipedia.org/wiki/Oxalaia'], ['Ozraptor', 'https://en.wikipedia.org/wiki/Ozraptor'], ['Pachycephalosaurus', 'https://en.wikipedia.org/wiki/Pachycephalosaurus'], ['Pachyrhinosaurus', 'https://en.wikipedia.org/wiki/Pachyrhinosaurus'], ['Pachysauriscus', 'https://en.wikipedia.org/wiki/Pachysauriscus'], ['Plateosaurus', 'https://en.wikipedia.org/wiki/Plateosaurus'], ['Pachysaurops', 'https://en.wikipedia.org/wiki/Pachysaurops'], ['Plateosaurus', 'https://en.wikipedia.org/wiki/Plateosaurus'], ['Pachysaurus', 'https://en.wikipedia.org/wiki/Pachysaurus'], ['Pachysauriscus', 'https://en.wikipedia.org/wiki/Pachysauriscus'], ['Plateosaurus', 'https://en.wikipedia.org/wiki/Plateosaurus'], ['Pachyspondylus', 'https://en.wikipedia.org/wiki/Pachyspondylus'], ['Massospondylus', 'https://en.wikipedia.org/wiki/Massospondylus'], ['Pachysuchus', 'https://en.wikipedia.org/wiki/Pachysuchus'], ['Padillasaurus', 'https://en.wikipedia.org/wiki/Padillasaurus'], ['Pakisaurus', 'https://en.wikipedia.org/wiki/Pakisaurus'], ['Palaeoctonus', 'https://en.wikipedia.org/wiki/Palaeoctonus'], ['Palaeocursornis', 'https://en.wikipedia.org/wiki/Palaeocursornis'], ['Palaeocursornis', 'https://en.wikipedia.org/wiki/Palaeocursornis'], ['Palaeopteryx', 'https://en.wikipedia.org/wiki/Palaeopteryx'], ['Palaeosauriscus', 'https://en.wikipedia.org/wiki/Palaeosauriscus'], ['Paleosaurus', 'https://en.wikipedia.org/wiki/Paleosaurus'], ['Palaeosaurus', 'https://en.wikipedia.org/wiki/Palaeosaurus'], ['Paleosaurus', 'https://en.wikipedia.org/wiki/Paleosaurus'], ['Palaeosaurus sternbergii', 'https://en.wikipedia.org/wiki/Palaeosaurus_sternbergii'], ['Sphenosaurus', 'https://en.wikipedia.org/wiki/Sphenosaurus'], ['Palaeoscincus', 'https://en.wikipedia.org/wiki/Palaeoscincus'], ['Paleosaurus', 'https://en.wikipedia.org/wiki/Paleosaurus'], ['Paludititan', 'https://en.wikipedia.org/wiki/Paludititan'], ['Paluxysaurus', 'https://en.wikipedia.org/wiki/Paluxysaurus'], ['Sauroposeidon', 'https://en.wikipedia.org/wiki/Sauroposeidon'], ['Pampadromaeus', 'https://en.wikipedia.org/wiki/Pampadromaeus'], ['Pamparaptor', 'https://en.wikipedia.org/wiki/Pamparaptor'], ['Panamericansaurus', 'https://en.wikipedia.org/wiki/Panamericansaurus'], ['Pandoravenator', 'https://en.wikipedia.org/wiki/Pandoravenator'], ['Panguraptor', 'https://en.wikipedia.org/wiki/Panguraptor'], ['Panoplosaurus', 'https://en.wikipedia.org/wiki/Panoplosaurus'], ['Panphagia', 'https://en.wikipedia.org/wiki/Panphagia'], ['Pantydraco', 'https://en.wikipedia.org/wiki/Pantydraco'], ['Pachycephalosaurus', 'https://en.wikipedia.org/wiki/Pachycephalosaurus'], ['Bactrosaurus', 'https://en.wikipedia.org/wiki/Bactrosaurus'], ['Paralititan', 'https://en.wikipedia.org/wiki/Paralititan'], ['Paranthodon', 'https://en.wikipedia.org/wiki/Paranthodon'], ['Pararhabdodon', 'https://en.wikipedia.org/wiki/Pararhabdodon'], ['Parasaurolophus', 'https://en.wikipedia.org/wiki/Parasaurolophus'], ['Pareiasaurus', 'https://en.wikipedia.org/wiki/Pareiasaurus'], ['Pareisactus', 'https://en.wikipedia.org/wiki/Pareisactus'], ['Parksosaurus', 'https://en.wikipedia.org/wiki/Parksosaurus'], ['Paronychodon', 'https://en.wikipedia.org/wiki/Paronychodon'], ['Parrosaurus', 'https://en.wikipedia.org/wiki/Parrosaurus'], ['Hypsibema missouriensis', 'https://en.wikipedia.org/wiki/Hypsibema_missouriensis'], ['Parvicursor', 'https://en.wikipedia.org/wiki/Parvicursor'], ['Patagonykus', 'https://en.wikipedia.org/wiki/Patagonykus'], ['Patagosaurus', 'https://en.wikipedia.org/wiki/Patagosaurus'], ['Patagotitan', 'https://en.wikipedia.org/wiki/Patagotitan'], ['Pawpawsaurus', 'https://en.wikipedia.org/wiki/Pawpawsaurus'], ['Pectinodon', 'https://en.wikipedia.org/wiki/Pectinodon'], ['Pedopenna', 'https://en.wikipedia.org/wiki/Pedopenna'], ['Pegomastax', 'https://en.wikipedia.org/wiki/Pegomastax'], ['Peishansaurus', 'https://en.wikipedia.org/wiki/Peishansaurus'], ['Pekinosaurus', 'https://en.wikipedia.org/wiki/Pekinosaurus'], ['Revueltosaurus', 'https://en.wikipedia.org/wiki/Revueltosaurus'], ['Pelecanimimus', 'https://en.wikipedia.org/wiki/Pelecanimimus'], ['Pellegrinisaurus', 'https://en.wikipedia.org/wiki/Pellegrinisaurus'], ['Peloroplites', 'https://en.wikipedia.org/wiki/Peloroplites'], ['Pelorosaurus', 'https://en.wikipedia.org/wiki/Pelorosaurus'], ['Peltosaurus (dinosaur)', 'https://en.wikipedia.org/wiki/Peltosaurus_(dinosaur)'], ['Sauropelta', 'https://en.wikipedia.org/wiki/Sauropelta'], ['Penelopognathus', 'https://en.wikipedia.org/wiki/Penelopognathus'], ['Pentaceratops', 'https://en.wikipedia.org/wiki/Pentaceratops'], ['Petrobrasaurus', 'https://en.wikipedia.org/wiki/Petrobrasaurus'], ['Phaedrolosaurus', 'https://en.wikipedia.org/wiki/Phaedrolosaurus'], ['Philovenator', 'https://en.wikipedia.org/wiki/Philovenator'], ['Phuwiangosaurus', 'https://en.wikipedia.org/wiki/Phuwiangosaurus'], ['Phuwiangvenator', 'https://en.wikipedia.org/wiki/Phuwiangvenator'], ['Phyllodon', 'https://en.wikipedia.org/wiki/Phyllodon'], ['Piatnitzkysaurus', 'https://en.wikipedia.org/wiki/Piatnitzkysaurus'], ['Picrodon', 'https://en.wikipedia.org/wiki/Picrodon'], ['Avalonianus', 'https://en.wikipedia.org/wiki/Avalonianus'], ['Pilmatueia', 'https://en.wikipedia.org/wiki/Pilmatueia'], ['Pinacosaurus', 'https://en.wikipedia.org/wiki/Pinacosaurus'], ['Pisanosaurus', 'https://en.wikipedia.org/wiki/Pisanosaurus'], ['Pitekunsaurus', 'https://en.wikipedia.org/wiki/Pitekunsaurus'], ['Piveteausaurus', 'https://en.wikipedia.org/wiki/Piveteausaurus'], ['Planicoxa', 'https://en.wikipedia.org/wiki/Planicoxa'], ['Plateosauravus', 'https://en.wikipedia.org/wiki/Plateosauravus'], ['Plateosaurus', 'https://en.wikipedia.org/wiki/Plateosaurus'], ['Platyceratops', 'https://en.wikipedia.org/wiki/Platyceratops'], ['Platypelta', 'https://en.wikipedia.org/wiki/Platypelta'], ['Plesiohadros', 'https://en.wikipedia.org/wiki/Plesiohadros'], ['Pleurocoelus', 'https://en.wikipedia.org/wiki/Pleurocoelus'], ['Astrodon', 'https://en.wikipedia.org/wiki/Astrodon'], ['Pleuropeltus', 'https://en.wikipedia.org/wiki/Pleuropeltus'], ['Struthiosaurus', 'https://en.wikipedia.org/wiki/Struthiosaurus'], ['Pneumatoarthrus', 'https://en.wikipedia.org/wiki/Pneumatoarthrus'], ['Pneumatoraptor', 'https://en.wikipedia.org/wiki/Pneumatoraptor'], ['Podokesaurus', 'https://en.wikipedia.org/wiki/Podokesaurus'], ['Poekilopleuron', 'https://en.wikipedia.org/wiki/Poekilopleuron'], ['Polacanthoides', 'https://en.wikipedia.org/wiki/Polacanthoides'], ['Hylaeosaurus', 'https://en.wikipedia.org/wiki/Hylaeosaurus'], ['Polacanthus', 'https://en.wikipedia.org/wiki/Polacanthus'], ['Polyodontosaurus', 'https://en.wikipedia.org/wiki/Polyodontosaurus'], ['Polyonax', 'https://en.wikipedia.org/wiki/Polyonax'], ['Ponerosteus', 'https://en.wikipedia.org/wiki/Ponerosteus'], ['Poposaurus', 'https://en.wikipedia.org/wiki/Poposaurus'], ['Parasaurolophus', 'https://en.wikipedia.org/wiki/Parasaurolophus'], ['Postosuchus', 'https://en.wikipedia.org/wiki/Postosuchus'], ['Powellvenator', 'https://en.wikipedia.org/wiki/Powellvenator'], ['Pradhania', 'https://en.wikipedia.org/wiki/Pradhania'], ['Prenocephale', 'https://en.wikipedia.org/wiki/Prenocephale'], ['Prenoceratops', 'https://en.wikipedia.org/wiki/Prenoceratops'], ['Priconodon', 'https://en.wikipedia.org/wiki/Priconodon'], ['Priodontognathus', 'https://en.wikipedia.org/wiki/Priodontognathus'], ['Proa valdearinnoensis', 'https://en.wikipedia.org/wiki/Proa_valdearinnoensis'], ['Probactrosaurus', 'https://en.wikipedia.org/wiki/Probactrosaurus'], ['Probrachylophosaurus', 'https://en.wikipedia.org/wiki/Probrachylophosaurus'], ['Proceratops', 'https://en.wikipedia.org/wiki/Proceratops'], ['Ceratops', 'https://en.wikipedia.org/wiki/Ceratops'], ['Proceratosaurus', 'https://en.wikipedia.org/wiki/Proceratosaurus'], ['Procerosaurus', 'https://en.wikipedia.org/wiki/Procerosaurus'], ['Tanystropheus', 'https://en.wikipedia.org/wiki/Tanystropheus'], ['Procerosaurus exogirarum', 'https://en.wikipedia.org/wiki/Procerosaurus_exogirarum'], ['Ponerosteus', 'https://en.wikipedia.org/wiki/Ponerosteus'], ['Procheneosaurus', 'https://en.wikipedia.org/wiki/Procheneosaurus'], ['Lambeosaurus', 'https://en.wikipedia.org/wiki/Lambeosaurus'], ['Procompsognathus', 'https://en.wikipedia.org/wiki/Procompsognathus'], ['Prodeinodon', 'https://en.wikipedia.org/wiki/Prodeinodon'], ['Iguanodon', 'https://en.wikipedia.org/wiki/Iguanodon'], ['Propanoplosaurus', 'https://en.wikipedia.org/wiki/Propanoplosaurus'], ['Proplanicoxa', 'https://en.wikipedia.org/wiki/Proplanicoxa'], ['Mantellisaurus', 'https://en.wikipedia.org/wiki/Mantellisaurus'], ['Prosaurolophus', 'https://en.wikipedia.org/wiki/Prosaurolophus'], ['Protarchaeopteryx', 'https://en.wikipedia.org/wiki/Protarchaeopteryx'], ['Protecovasaurus', 'https://en.wikipedia.org/wiki/Protecovasaurus'], ['Protiguanodon', 'https://en.wikipedia.org/wiki/Protiguanodon'], ['Psittacosaurus', 'https://en.wikipedia.org/wiki/Psittacosaurus'], ['Protoavis', 'https://en.wikipedia.org/wiki/Protoavis'], ['Protoceratops', 'https://en.wikipedia.org/wiki/Protoceratops'], ['Protognathosaurus', 'https://en.wikipedia.org/wiki/Protognathosaurus'], ['Protognathus oxyodon', 'https://en.wikipedia.org/wiki/Protognathus_oxyodon'], ['Protognathosaurus', 'https://en.wikipedia.org/wiki/Protognathosaurus'], ['Protohadros', 'https://en.wikipedia.org/wiki/Protohadros'], ['Protorosaurus', 'https://en.wikipedia.org/wiki/Protorosaurus'], ['Protorosaurus belli', 'https://en.wikipedia.org/wiki/Protorosaurus_belli'], ['Chasmosaurus', 'https://en.wikipedia.org/wiki/Chasmosaurus'], ['Orthomerus', 'https://en.wikipedia.org/wiki/Orthomerus'], ['Hexinlusaurus', 'https://en.wikipedia.org/wiki/Hexinlusaurus'], ['Pseudolagosuchus', 'https://en.wikipedia.org/wiki/Pseudolagosuchus'], ['Psittacosaurus', 'https://en.wikipedia.org/wiki/Psittacosaurus'], ['Pteropelyx', 'https://en.wikipedia.org/wiki/Pteropelyx'], ['Pterospondylus', 'https://en.wikipedia.org/wiki/Pterospondylus'], ['Puertasaurus', 'https://en.wikipedia.org/wiki/Puertasaurus'], ['Pukyongosaurus', 'https://en.wikipedia.org/wiki/Pukyongosaurus'], ['Pulanesaura', 'https://en.wikipedia.org/wiki/Pulanesaura'], ['Pycnonemosaurus', 'https://en.wikipedia.org/wiki/Pycnonemosaurus'], ['Pyroraptor', 'https://en.wikipedia.org/wiki/Pyroraptor'], ['Qantassaurus', 'https://en.wikipedia.org/wiki/Qantassaurus'], ['Qianzhousaurus', 'https://en.wikipedia.org/wiki/Qianzhousaurus'], ['Qianzhousaurus', 'https://en.wikipedia.org/wiki/Qianzhousaurus'], ['Qiaowanlong', 'https://en.wikipedia.org/wiki/Qiaowanlong'], ['Qijianglong', 'https://en.wikipedia.org/wiki/Qijianglong'], ['Qingxiusaurus', 'https://en.wikipedia.org/wiki/Qingxiusaurus'], ['Qinlingosaurus', 'https://en.wikipedia.org/wiki/Qinlingosaurus'], ['Qiupalong', 'https://en.wikipedia.org/wiki/Qiupalong'], ['Qiupanykus', 'https://en.wikipedia.org/wiki/Qiupanykus'], ['Quaesitosaurus', 'https://en.wikipedia.org/wiki/Quaesitosaurus'], ['Quetecsaurus', 'https://en.wikipedia.org/wiki/Quetecsaurus'], ['Quilmesaurus', 'https://en.wikipedia.org/wiki/Quilmesaurus'], ['Rachitrema', 'https://en.wikipedia.org/wiki/Rachitrema'], ['Rahiolisaurus', 'https://en.wikipedia.org/wiki/Rahiolisaurus'], ['Rahona ostromi', 'https://en.wikipedia.org/wiki/Rahona_ostromi'], ['Rahonavis', 'https://en.wikipedia.org/wiki/Rahonavis'], ['Rahonavis', 'https://en.wikipedia.org/wiki/Rahonavis'], ['Rajasaurus', 'https://en.wikipedia.org/wiki/Rajasaurus'], ['Rapator', 'https://en.wikipedia.org/wiki/Rapator'], ['Rapetosaurus', 'https://en.wikipedia.org/wiki/Rapetosaurus'], ['Raptorex', 'https://en.wikipedia.org/wiki/Raptorex'], ['Ratchasimasaurus', 'https://en.wikipedia.org/wiki/Ratchasimasaurus'], ['Rativates', 'https://en.wikipedia.org/wiki/Rativates'], ['Rayososaurus', 'https://en.wikipedia.org/wiki/Rayososaurus'], ['Razanandrongobe', 'https://en.wikipedia.org/wiki/Razanandrongobe'], ['Rebbachisaurus', 'https://en.wikipedia.org/wiki/Rebbachisaurus'], ['Regaliceratops', 'https://en.wikipedia.org/wiki/Regaliceratops'], ['Regnosaurus', 'https://en.wikipedia.org/wiki/Regnosaurus'], ['Revueltosaurus', 'https://en.wikipedia.org/wiki/Revueltosaurus'], ['Rhabdodon', 'https://en.wikipedia.org/wiki/Rhabdodon'], ['Rhadinosaurus', 'https://en.wikipedia.org/wiki/Rhadinosaurus'], ['Rhinorex', 'https://en.wikipedia.org/wiki/Rhinorex'], ['Gryposaurus', 'https://en.wikipedia.org/wiki/Gryposaurus'], ['Rhodanosaurus', 'https://en.wikipedia.org/wiki/Rhodanosaurus'], ['Struthiosaurus', 'https://en.wikipedia.org/wiki/Struthiosaurus'], ['Rhoetosaurus', 'https://en.wikipedia.org/wiki/Rhoetosaurus'], ['Rhopalodon', 'https://en.wikipedia.org/wiki/Rhopalodon'], ['Riabininohadros', 'https://en.wikipedia.org/wiki/Riabininohadros'], ['Richardoestesia', 'https://en.wikipedia.org/wiki/Richardoestesia'], ['Rapetosaurus', 'https://en.wikipedia.org/wiki/Rapetosaurus'], ['Rileya bristolensis', 'https://en.wikipedia.org/wiki/Rileya_bristolensis'], ['Rileyasuchus', 'https://en.wikipedia.org/wiki/Rileyasuchus'], ['Rileyasuchus', 'https://en.wikipedia.org/wiki/Rileyasuchus'], ['Rinchenia', 'https://en.wikipedia.org/wiki/Rinchenia'], ['Rinconsaurus', 'https://en.wikipedia.org/wiki/Rinconsaurus'], ['Rioarribasaurus', 'https://en.wikipedia.org/wiki/Rioarribasaurus'], ['Coelophysis', 'https://en.wikipedia.org/wiki/Coelophysis'], ['Turiasaurus', 'https://en.wikipedia.org/wiki/Turiasaurus'], ['Riojasaurus', 'https://en.wikipedia.org/wiki/Riojasaurus'], ['Riojasuchus', 'https://en.wikipedia.org/wiki/Riojasuchus'], ['Rocasaurus', 'https://en.wikipedia.org/wiki/Rocasaurus'], ['Melanorosaurus', 'https://en.wikipedia.org/wiki/Melanorosaurus'], ['Rubeosaurus', 'https://en.wikipedia.org/wiki/Rubeosaurus'], ['Ruehleia', 'https://en.wikipedia.org/wiki/Ruehleia'], ['Rugocaudia', 'https://en.wikipedia.org/wiki/Rugocaudia'], ['Rugops', 'https://en.wikipedia.org/wiki/Rugops'], ['Rukwatitan', 'https://en.wikipedia.org/wiki/Rukwatitan'], ['Ruyangosaurus', 'https://en.wikipedia.org/wiki/Ruyangosaurus'], ['Sacisaurus', 'https://en.wikipedia.org/wiki/Sacisaurus'], ['Sahaliyania', 'https://en.wikipedia.org/wiki/Sahaliyania'], ['Saichania', 'https://en.wikipedia.org/wiki/Saichania'], ['Saldamosaurus', 'https://en.wikipedia.org/wiki/Saldamosaurus'], ['Giraffatitan', 'https://en.wikipedia.org/wiki/Giraffatitan'], ['Saltasaurus', 'https://en.wikipedia.org/wiki/Saltasaurus'], ['Saltopus', 'https://en.wikipedia.org/wiki/Saltopus'], ['Saltriovenator', 'https://en.wikipedia.org/wiki/Saltriovenator'], ['Gallimimus', 'https://en.wikipedia.org/wiki/Gallimimus'], ['Tianchisaurus', 'https://en.wikipedia.org/wiki/Tianchisaurus'], ['Sanjuansaurus', 'https://en.wikipedia.org/wiki/Sanjuansaurus'], ['Sanpasaurus', 'https://en.wikipedia.org/wiki/Sanpasaurus'], ['Santanaraptor', 'https://en.wikipedia.org/wiki/Santanaraptor'], ['Sarahsaurus', 'https://en.wikipedia.org/wiki/Sarahsaurus'], ['Saraikimasoom', 'https://en.wikipedia.org/wiki/Saraikimasoom'], ['Sarcolestes', 'https://en.wikipedia.org/wiki/Sarcolestes'], ['Sarcosaurus', 'https://en.wikipedia.org/wiki/Sarcosaurus'], ['Sarmientosaurus', 'https://en.wikipedia.org/wiki/Sarmientosaurus'], ['Saturnalia (dinosaur)', 'https://en.wikipedia.org/wiki/Saturnalia_(dinosaur)'], ['Echinodon', 'https://en.wikipedia.org/wiki/Echinodon'], ['Echinodon', 'https://en.wikipedia.org/wiki/Echinodon'], ['Echinodon', 'https://en.wikipedia.org/wiki/Echinodon'], ['Saurolophus', 'https://en.wikipedia.org/wiki/Saurolophus'], ['Sauroniops', 'https://en.wikipedia.org/wiki/Sauroniops'], ['Sauropelta', 'https://en.wikipedia.org/wiki/Sauropelta'], ['Saurophaganax', 'https://en.wikipedia.org/wiki/Saurophaganax'], ['Allosaurus', 'https://en.wikipedia.org/wiki/Allosaurus'], ['Saurophagus maximus', 'https://en.wikipedia.org/wiki/Saurophagus_maximus'], ['Saurophaganax', 'https://en.wikipedia.org/wiki/Saurophaganax'], ['Sauroplites', 'https://en.wikipedia.org/wiki/Sauroplites'], ['Sauroposeidon', 'https://en.wikipedia.org/wiki/Sauroposeidon'], ['Saurornithoides', 'https://en.wikipedia.org/wiki/Saurornithoides'], ['Saurornitholestes', 'https://en.wikipedia.org/wiki/Saurornitholestes'], ['Savannasaurus', 'https://en.wikipedia.org/wiki/Savannasaurus'], ['Scansoriopteryx', 'https://en.wikipedia.org/wiki/Scansoriopteryx'], ['Scaphonyx', 'https://en.wikipedia.org/wiki/Scaphonyx'], ['Hyperodapedon', 'https://en.wikipedia.org/wiki/Hyperodapedon'], ['Scelidosaurus', 'https://en.wikipedia.org/wiki/Scelidosaurus'], ['Scipionyx', 'https://en.wikipedia.org/wiki/Scipionyx'], ['Sciurumimus', 'https://en.wikipedia.org/wiki/Sciurumimus'], ['Scleromochlus', 'https://en.wikipedia.org/wiki/Scleromochlus'], ['Sauropelta', 'https://en.wikipedia.org/wiki/Sauropelta'], ['Scolosaurus', 'https://en.wikipedia.org/wiki/Scolosaurus'], ['Scutellosaurus', 'https://en.wikipedia.org/wiki/Scutellosaurus'], ['Secernosaurus', 'https://en.wikipedia.org/wiki/Secernosaurus'], ['Sefapanosaurus', 'https://en.wikipedia.org/wiki/Sefapanosaurus'], ['Segisaurus', 'https://en.wikipedia.org/wiki/Segisaurus'], ['Segnosaurus', 'https://en.wikipedia.org/wiki/Segnosaurus'], ['Seismosaurus', 'https://en.wikipedia.org/wiki/Seismosaurus'], ['Diplodocus', 'https://en.wikipedia.org/wiki/Diplodocus'], ['Seitaad', 'https://en.wikipedia.org/wiki/Seitaad'], ['Sektensaurus', 'https://en.wikipedia.org/wiki/Sektensaurus'], ['Dicraeosaurus', 'https://en.wikipedia.org/wiki/Dicraeosaurus'], ['Sellacoxa', 'https://en.wikipedia.org/wiki/Sellacoxa'], ['Sellosaurus', 'https://en.wikipedia.org/wiki/Sellosaurus'], ['Plateosaurus', 'https://en.wikipedia.org/wiki/Plateosaurus'], ['Serendipaceratops', 'https://en.wikipedia.org/wiki/Serendipaceratops'], ['Serikornis', 'https://en.wikipedia.org/wiki/Serikornis'], ['Shamosaurus', 'https://en.wikipedia.org/wiki/Shamosaurus'], ['Shanag', 'https://en.wikipedia.org/wiki/Shanag'], ['Shanshanosaurus', 'https://en.wikipedia.org/wiki/Shanshanosaurus'], ['Tarbosaurus', 'https://en.wikipedia.org/wiki/Tarbosaurus'], ['Shantungosaurus', 'https://en.wikipedia.org/wiki/Shantungosaurus'], ['Shanxia', 'https://en.wikipedia.org/wiki/Shanxia'], ['Saichania', 'https://en.wikipedia.org/wiki/Saichania'], ['Shanyangosaurus', 'https://en.wikipedia.org/wiki/Shanyangosaurus'], ['Shaochilong', 'https://en.wikipedia.org/wiki/Shaochilong'], ['Shenzhousaurus', 'https://en.wikipedia.org/wiki/Shenzhousaurus'], ['Shidaisaurus', 'https://en.wikipedia.org/wiki/Shidaisaurus'], ['Shingopana', 'https://en.wikipedia.org/wiki/Shingopana'], ['Shishugounykus', 'https://en.wikipedia.org/wiki/Shishugounykus'], ['Shixinggia', 'https://en.wikipedia.org/wiki/Shixinggia'], ['Shuangbaisaurus', 'https://en.wikipedia.org/wiki/Shuangbaisaurus'], ['Shuangmiaosaurus', 'https://en.wikipedia.org/wiki/Shuangmiaosaurus'], ['Shunosaurus', 'https://en.wikipedia.org/wiki/Shunosaurus'], ['Shuvosaurus', 'https://en.wikipedia.org/wiki/Shuvosaurus'], ['Shuvuuia', 'https://en.wikipedia.org/wiki/Shuvuuia'], ['Siamodon', 'https://en.wikipedia.org/wiki/Siamodon'], ['Siamosaurus', 'https://en.wikipedia.org/wiki/Siamosaurus'], ['Siamotyrannus', 'https://en.wikipedia.org/wiki/Siamotyrannus'], ['Siats (dinosaur)', 'https://en.wikipedia.org/wiki/Siats_(dinosaur)'], ['Sibirotitan', 'https://en.wikipedia.org/wiki/Sibirotitan'], ['Sibirotitan', 'https://en.wikipedia.org/wiki/Sibirotitan'], ['Sigilmassasaurus', 'https://en.wikipedia.org/wiki/Sigilmassasaurus'], ['Silesaurus', 'https://en.wikipedia.org/wiki/Silesaurus'], ['Siluosaurus', 'https://en.wikipedia.org/wiki/Siluosaurus'], ['Silvisaurus', 'https://en.wikipedia.org/wiki/Silvisaurus'], ['Similicaudipteryx', 'https://en.wikipedia.org/wiki/Similicaudipteryx'], ['Sinocalliopteryx', 'https://en.wikipedia.org/wiki/Sinocalliopteryx'], ['Sinoceratops', 'https://en.wikipedia.org/wiki/Sinoceratops'], ['Sinocoelurus', 'https://en.wikipedia.org/wiki/Sinocoelurus'], ['Sinopelta', 'https://en.wikipedia.org/wiki/Sinopelta'], ['Sinopeltosaurus', 'https://en.wikipedia.org/wiki/Sinopeltosaurus'], ['Sinopeltosaurus', 'https://en.wikipedia.org/wiki/Sinopeltosaurus'], ['Sinopliosaurus', 'https://en.wikipedia.org/wiki/Sinopliosaurus'], ['Sinopliosaurus fusuiensis', 'https://en.wikipedia.org/wiki/Sinopliosaurus_fusuiensis'], ['Sinornithoides', 'https://en.wikipedia.org/wiki/Sinornithoides'], ['Sinornithomimus', 'https://en.wikipedia.org/wiki/Sinornithomimus'], ['Sinornithosaurus', 'https://en.wikipedia.org/wiki/Sinornithosaurus'], ['Sinosauropteryx', 'https://en.wikipedia.org/wiki/Sinosauropteryx'], ['Sinosaurus', 'https://en.wikipedia.org/wiki/Sinosaurus'], ['Sinotyrannus', 'https://en.wikipedia.org/wiki/Sinotyrannus'], ['Sinovenator', 'https://en.wikipedia.org/wiki/Sinovenator'], ['Sinraptor', 'https://en.wikipedia.org/wiki/Sinraptor'], ['Stegosaurus', 'https://en.wikipedia.org/wiki/Stegosaurus'], ['Sinusonasus', 'https://en.wikipedia.org/wiki/Sinusonasus'], ['Sirindhorna', 'https://en.wikipedia.org/wiki/Sirindhorna'], ['Skorpiovenator', 'https://en.wikipedia.org/wiki/Skorpiovenator'], ['Zanclodon', 'https://en.wikipedia.org/wiki/Zanclodon'], ['Zanclodon', 'https://en.wikipedia.org/wiki/Zanclodon'], ['Sonidosaurus', 'https://en.wikipedia.org/wiki/Sonidosaurus'], ['Sonorasaurus', 'https://en.wikipedia.org/wiki/Sonorasaurus'], ['Soriatitan', 'https://en.wikipedia.org/wiki/Soriatitan'], ['Soumyasaurus', 'https://en.wikipedia.org/wiki/Soumyasaurus'], ['Sphaerotholus', 'https://en.wikipedia.org/wiki/Sphaerotholus'], ['Sphenosaurus', 'https://en.wikipedia.org/wiki/Sphenosaurus'], ['Sphenospondylus', 'https://en.wikipedia.org/wiki/Sphenospondylus'], ['Mantellisaurus', 'https://en.wikipedia.org/wiki/Mantellisaurus'], ['Spiclypeus', 'https://en.wikipedia.org/wiki/Spiclypeus'], ['Spinophorosaurus', 'https://en.wikipedia.org/wiki/Spinophorosaurus'], ['Spinops', 'https://en.wikipedia.org/wiki/Spinops'], ['Spinosaurus', 'https://en.wikipedia.org/wiki/Spinosaurus'], ['Spinostropheus', 'https://en.wikipedia.org/wiki/Spinostropheus'], ['Spinosuchus', 'https://en.wikipedia.org/wiki/Spinosuchus'], ['Spondylosoma', 'https://en.wikipedia.org/wiki/Spondylosoma'], ['Squalodon', 'https://en.wikipedia.org/wiki/Squalodon'], ['Staurikosaurus', 'https://en.wikipedia.org/wiki/Staurikosaurus'], ['Stegoceras', 'https://en.wikipedia.org/wiki/Stegoceras'], ['Stegopelta', 'https://en.wikipedia.org/wiki/Stegopelta'], ['Stegosaurides', 'https://en.wikipedia.org/wiki/Stegosaurides'], ['Stegosaurus', 'https://en.wikipedia.org/wiki/Stegosaurus'], ['Stenonychosaurus', 'https://en.wikipedia.org/wiki/Stenonychosaurus'], ['Stenopelix', 'https://en.wikipedia.org/wiki/Stenopelix'], ['Stenotholus', 'https://en.wikipedia.org/wiki/Stenotholus'], ['Stygimoloch', 'https://en.wikipedia.org/wiki/Stygimoloch'], ['Stephanosaurus', 'https://en.wikipedia.org/wiki/Stephanosaurus'], ['Stereocephalus tutus', 'https://en.wikipedia.org/wiki/Stereocephalus_tutus'], ['Euoplocephalus', 'https://en.wikipedia.org/wiki/Euoplocephalus'], ['Sterrholophus', 'https://en.wikipedia.org/wiki/Sterrholophus'], ['Triceratops', 'https://en.wikipedia.org/wiki/Triceratops'], ['Stokesosaurus', 'https://en.wikipedia.org/wiki/Stokesosaurus'], ['Stormbergia', 'https://en.wikipedia.org/wiki/Stormbergia'], ['Lesothosaurus', 'https://en.wikipedia.org/wiki/Lesothosaurus'], ['Strenusaurus', 'https://en.wikipedia.org/wiki/Strenusaurus'], ['Riojasaurus', 'https://en.wikipedia.org/wiki/Riojasaurus'], ['Streptospondylus', 'https://en.wikipedia.org/wiki/Streptospondylus'], ['Struthiomimus', 'https://en.wikipedia.org/wiki/Struthiomimus'], ['Struthiosaurus', 'https://en.wikipedia.org/wiki/Struthiosaurus'], ['Stygimoloch', 'https://en.wikipedia.org/wiki/Stygimoloch'], ['Pachycephalosaurus', 'https://en.wikipedia.org/wiki/Pachycephalosaurus'], ['Stygivenator', 'https://en.wikipedia.org/wiki/Stygivenator'], ['Tyrannosaurus', 'https://en.wikipedia.org/wiki/Tyrannosaurus'], ['Styracosaurus', 'https://en.wikipedia.org/wiki/Styracosaurus'], ['Succinodon', 'https://en.wikipedia.org/wiki/Succinodon'], ['Suchomimus', 'https://en.wikipedia.org/wiki/Suchomimus'], ['Suchoprion', 'https://en.wikipedia.org/wiki/Suchoprion'], ['Suchosaurus', 'https://en.wikipedia.org/wiki/Suchosaurus'], ['Suchomimus', 'https://en.wikipedia.org/wiki/Suchomimus'], ['Sulaimanisaurus', 'https://en.wikipedia.org/wiki/Sulaimanisaurus'], ['Supersaurus', 'https://en.wikipedia.org/wiki/Supersaurus'], ['Suskityrannus', 'https://en.wikipedia.org/wiki/Suskityrannus'], ['Suuwassea', 'https://en.wikipedia.org/wiki/Suuwassea'], ['Suzhousaurus', 'https://en.wikipedia.org/wiki/Suzhousaurus'], ['Symphyrophus', 'https://en.wikipedia.org/wiki/Symphyrophus'], ['Camptosaurus', 'https://en.wikipedia.org/wiki/Camptosaurus'], ['Syngonosaurus', 'https://en.wikipedia.org/wiki/Syngonosaurus'], ['Acanthopholis', 'https://en.wikipedia.org/wiki/Acanthopholis'], ['Syntarsus rhodesiensis', 'https://en.wikipedia.org/wiki/Syntarsus_rhodesiensis'], ['Coelophysis', 'https://en.wikipedia.org/wiki/Coelophysis'], ['Syrmosaurus', 'https://en.wikipedia.org/wiki/Syrmosaurus'], ['Pinacosaurus', 'https://en.wikipedia.org/wiki/Pinacosaurus'], ['Szechuanosaurus', 'https://en.wikipedia.org/wiki/Szechuanosaurus'], ['Tachiraptor', 'https://en.wikipedia.org/wiki/Tachiraptor'], ['Talarurus', 'https://en.wikipedia.org/wiki/Talarurus'], ['Talenkauen', 'https://en.wikipedia.org/wiki/Talenkauen'], ['Talos (dinosaur)', 'https://en.wikipedia.org/wiki/Talos_(dinosaur)'], ['Tambatitanis', 'https://en.wikipedia.org/wiki/Tambatitanis'], ['Tangvayosaurus', 'https://en.wikipedia.org/wiki/Tangvayosaurus'], ['Tanius', 'https://en.wikipedia.org/wiki/Tanius'], ['Tanycolagreus', 'https://en.wikipedia.org/wiki/Tanycolagreus'], ['Tanystropheus', 'https://en.wikipedia.org/wiki/Tanystropheus'], ['Tanystrosuchus', 'https://en.wikipedia.org/wiki/Tanystrosuchus'], ['Taohelong', 'https://en.wikipedia.org/wiki/Taohelong'], ['Tapinocephalus', 'https://en.wikipedia.org/wiki/Tapinocephalus'], ['Tapuiasaurus', 'https://en.wikipedia.org/wiki/Tapuiasaurus'], ['Tarascosaurus', 'https://en.wikipedia.org/wiki/Tarascosaurus'], ['Tarbosaurus', 'https://en.wikipedia.org/wiki/Tarbosaurus'], ['Tarchia', 'https://en.wikipedia.org/wiki/Tarchia'], ['Tastavinsaurus', 'https://en.wikipedia.org/wiki/Tastavinsaurus'], ['Tatankacephalus', 'https://en.wikipedia.org/wiki/Tatankacephalus'], ['Tatankaceratops', 'https://en.wikipedia.org/wiki/Tatankaceratops'], ['Triceratops', 'https://en.wikipedia.org/wiki/Triceratops'], ['Tataouinea', 'https://en.wikipedia.org/wiki/Tataouinea'], ['Tatisaurus', 'https://en.wikipedia.org/wiki/Tatisaurus'], ['Taurovenator', 'https://en.wikipedia.org/wiki/Taurovenator'], ['Taveirosaurus', 'https://en.wikipedia.org/wiki/Taveirosaurus'], ['Tawa (dinosaur)', 'https://en.wikipedia.org/wiki/Tawa_(dinosaur)'], ['Tawasaurus', 'https://en.wikipedia.org/wiki/Tawasaurus'], ['Lufengosaurus', 'https://en.wikipedia.org/wiki/Lufengosaurus'], ['Tazoudasaurus', 'https://en.wikipedia.org/wiki/Tazoudasaurus'], ['Technosaurus', 'https://en.wikipedia.org/wiki/Technosaurus'], ['Tecovasaurus', 'https://en.wikipedia.org/wiki/Tecovasaurus'], ['Tehuelchesaurus', 'https://en.wikipedia.org/wiki/Tehuelchesaurus'], ['Teihivenator', 'https://en.wikipedia.org/wiki/Teihivenator'], ['Teinurosaurus', 'https://en.wikipedia.org/wiki/Teinurosaurus'], ['Teleocrater', 'https://en.wikipedia.org/wiki/Teleocrater'], ['Telmatosaurus', 'https://en.wikipedia.org/wiki/Telmatosaurus'], ['Tenontosaurus', 'https://en.wikipedia.org/wiki/Tenontosaurus'], ['Tianchisaurus', 'https://en.wikipedia.org/wiki/Tianchisaurus'], ['Tendaguria', 'https://en.wikipedia.org/wiki/Tendaguria'], ['Tengrisaurus', 'https://en.wikipedia.org/wiki/Tengrisaurus'], ['Tenontosaurus', 'https://en.wikipedia.org/wiki/Tenontosaurus'], ['Teratophoneus', 'https://en.wikipedia.org/wiki/Teratophoneus'], ['Teratosaurus', 'https://en.wikipedia.org/wiki/Teratosaurus'], ['Termatosaurus', 'https://en.wikipedia.org/wiki/Termatosaurus'], ['Triceratops', 'https://en.wikipedia.org/wiki/Triceratops'], ['Tethyshadros', 'https://en.wikipedia.org/wiki/Tethyshadros'], ['Tetragonosaurus', 'https://en.wikipedia.org/wiki/Tetragonosaurus'], ['Lambeosaurus', 'https://en.wikipedia.org/wiki/Lambeosaurus'], ['Texacephale', 'https://en.wikipedia.org/wiki/Texacephale'], ['Texasetes', 'https://en.wikipedia.org/wiki/Texasetes'], ['Teyuwasu', 'https://en.wikipedia.org/wiki/Teyuwasu'], ['Thanos simonattoi', 'https://en.wikipedia.org/wiki/Thanos_simonattoi'], ['Thecocoelurus', 'https://en.wikipedia.org/wiki/Thecocoelurus'], ['Thecodontosaurus', 'https://en.wikipedia.org/wiki/Thecodontosaurus'], ['Thecospondylus', 'https://en.wikipedia.org/wiki/Thecospondylus'], ['Theiophytalia', 'https://en.wikipedia.org/wiki/Theiophytalia'], ['Therizinosaurus', 'https://en.wikipedia.org/wiki/Therizinosaurus'], ['Therosaurus', 'https://en.wikipedia.org/wiki/Therosaurus'], ['Iguanodon', 'https://en.wikipedia.org/wiki/Iguanodon'], ['Thescelosaurus', 'https://en.wikipedia.org/wiki/Thescelosaurus'], ['Thespesius', 'https://en.wikipedia.org/wiki/Thespesius'], ['Tianchisaurus', 'https://en.wikipedia.org/wiki/Tianchisaurus'], ['Dianchungosaurus', 'https://en.wikipedia.org/wiki/Dianchungosaurus'], ['Tianyulong', 'https://en.wikipedia.org/wiki/Tianyulong'], ['Tianyuraptor', 'https://en.wikipedia.org/wiki/Tianyuraptor'], ['Tianzhenosaurus', 'https://en.wikipedia.org/wiki/Tianzhenosaurus'], ['Saichania', 'https://en.wikipedia.org/wiki/Saichania'], ['Tichosteus', 'https://en.wikipedia.org/wiki/Tichosteus'], ['Tienshanosaurus', 'https://en.wikipedia.org/wiki/Tienshanosaurus'], ['Timimus', 'https://en.wikipedia.org/wiki/Timimus'], ['Timurlengia', 'https://en.wikipedia.org/wiki/Timurlengia'], ['Titanoceratops', 'https://en.wikipedia.org/wiki/Titanoceratops'], ['Titanosaurus', 'https://en.wikipedia.org/wiki/Titanosaurus'], ['Titanosaurus montanus', 'https://en.wikipedia.org/wiki/Titanosaurus_montanus'], ['Atlantosaurus', 'https://en.wikipedia.org/wiki/Atlantosaurus'], ['Tochisaurus', 'https://en.wikipedia.org/wiki/Tochisaurus'], ['Tomodon horrificus', 'https://en.wikipedia.org/wiki/Tomodon_horrificus'], ['Diplotomodon', 'https://en.wikipedia.org/wiki/Diplotomodon'], ['Tonganosaurus', 'https://en.wikipedia.org/wiki/Tonganosaurus'], ['Tongtianlong', 'https://en.wikipedia.org/wiki/Tongtianlong'], ['Torilion', 'https://en.wikipedia.org/wiki/Torilion'], ['Barilium', 'https://en.wikipedia.org/wiki/Barilium'], ['Tornieria', 'https://en.wikipedia.org/wiki/Tornieria'], ['Torosaurus', 'https://en.wikipedia.org/wiki/Torosaurus'], ['Torvosaurus', 'https://en.wikipedia.org/wiki/Torvosaurus'], ['Tototlmimus', 'https://en.wikipedia.org/wiki/Tototlmimus'], ['Trachodon', 'https://en.wikipedia.org/wiki/Trachodon'], ['Tratayenia', 'https://en.wikipedia.org/wiki/Tratayenia'], ['Traukutitan', 'https://en.wikipedia.org/wiki/Traukutitan'], ['Trialestes', 'https://en.wikipedia.org/wiki/Trialestes'], ['Triassolestes', 'https://en.wikipedia.org/wiki/Triassolestes'], ['Trialestes', 'https://en.wikipedia.org/wiki/Trialestes'], ['Tribelesodon', 'https://en.wikipedia.org/wiki/Tribelesodon'], ['Tanystropheus', 'https://en.wikipedia.org/wiki/Tanystropheus'], ['Triceratops', 'https://en.wikipedia.org/wiki/Triceratops'], ['Trigonosaurus', 'https://en.wikipedia.org/wiki/Trigonosaurus'], ['Trimucrodon', 'https://en.wikipedia.org/wiki/Trimucrodon'], ['Trinisaura', 'https://en.wikipedia.org/wiki/Trinisaura'], ['Triunfosaurus', 'https://en.wikipedia.org/wiki/Triunfosaurus'], ['Troodon', 'https://en.wikipedia.org/wiki/Troodon'], ['Tsaagan', 'https://en.wikipedia.org/wiki/Tsaagan'], ['Tsagantegia', 'https://en.wikipedia.org/wiki/Tsagantegia'], ['Tsintaosaurus', 'https://en.wikipedia.org/wiki/Tsintaosaurus'], ['Tugulusaurus', 'https://en.wikipedia.org/wiki/Tugulusaurus'], ['Tuojiangosaurus', 'https://en.wikipedia.org/wiki/Tuojiangosaurus'], ['Turanoceratops', 'https://en.wikipedia.org/wiki/Turanoceratops'], ['Turiasaurus', 'https://en.wikipedia.org/wiki/Turiasaurus'], ['Tylocephale', 'https://en.wikipedia.org/wiki/Tylocephale'], ['Tylosteus', 'https://en.wikipedia.org/wiki/Tylosteus'], ['Pachycephalosaurus', 'https://en.wikipedia.org/wiki/Pachycephalosaurus'], ['Tyrannosaurus', 'https://en.wikipedia.org/wiki/Tyrannosaurus'], ['Tyrannotitan', 'https://en.wikipedia.org/wiki/Tyrannotitan'], ['Udanoceratops', 'https://en.wikipedia.org/wiki/Udanoceratops'], ['Uberabatitan', 'https://en.wikipedia.org/wiki/Uberabatitan'], ['Udanoceratops', 'https://en.wikipedia.org/wiki/Udanoceratops'], ['Ugrosaurus', 'https://en.wikipedia.org/wiki/Ugrosaurus'], ['Triceratops', 'https://en.wikipedia.org/wiki/Triceratops'], ['Ugrunaaluk', 'https://en.wikipedia.org/wiki/Ugrunaaluk'], ['Edmontosaurus', 'https://en.wikipedia.org/wiki/Edmontosaurus'], ['Uintasaurus', 'https://en.wikipedia.org/wiki/Uintasaurus'], ['Camarasaurus', 'https://en.wikipedia.org/wiki/Camarasaurus'], ['Ultrasauros', 'https://en.wikipedia.org/wiki/Ultrasauros'], ['Supersaurus', 'https://en.wikipedia.org/wiki/Supersaurus'], ['Ultrasaurus', 'https://en.wikipedia.org/wiki/Ultrasaurus'], ['Ultrasauros', 'https://en.wikipedia.org/wiki/Ultrasauros'], ['Ultrasauros', 'https://en.wikipedia.org/wiki/Ultrasauros'], ['Supersaurus', 'https://en.wikipedia.org/wiki/Supersaurus'], ['Umarsaurus', 'https://en.wikipedia.org/wiki/Umarsaurus'], ['Barsboldia', 'https://en.wikipedia.org/wiki/Barsboldia'], ['Unaysaurus', 'https://en.wikipedia.org/wiki/Unaysaurus'], ['Unenlagia', 'https://en.wikipedia.org/wiki/Unenlagia'], ['Unescoceratops', 'https://en.wikipedia.org/wiki/Unescoceratops'], ['Unquillosaurus', 'https://en.wikipedia.org/wiki/Unquillosaurus'], ['Urbacodon', 'https://en.wikipedia.org/wiki/Urbacodon'], ['Utahceratops', 'https://en.wikipedia.org/wiki/Utahceratops'], ['Utahraptor', 'https://en.wikipedia.org/wiki/Utahraptor'], ['Uteodon', 'https://en.wikipedia.org/wiki/Uteodon'], ['Vagaceratops', 'https://en.wikipedia.org/wiki/Vagaceratops'], ['Vahiny', 'https://en.wikipedia.org/wiki/Vahiny'], ['Valdoraptor', 'https://en.wikipedia.org/wiki/Valdoraptor'], ['Valdosaurus', 'https://en.wikipedia.org/wiki/Valdosaurus'], ['Vallibonavenatrix', 'https://en.wikipedia.org/wiki/Vallibonavenatrix'], ['Variraptor', 'https://en.wikipedia.org/wiki/Variraptor'], ['Vayuraptor', 'https://en.wikipedia.org/wiki/Vayuraptor'], ['Velociraptor', 'https://en.wikipedia.org/wiki/Velociraptor'], ['Vectensia', 'https://en.wikipedia.org/wiki/Vectensia'], ['Polacanthus', 'https://en.wikipedia.org/wiki/Polacanthus'], ['Vectisaurus', 'https://en.wikipedia.org/wiki/Vectisaurus'], ['Mantellisaurus', 'https://en.wikipedia.org/wiki/Mantellisaurus'], ['Velafrons', 'https://en.wikipedia.org/wiki/Velafrons'], ['Velocipes', 'https://en.wikipedia.org/wiki/Velocipes'], ['Velociraptor', 'https://en.wikipedia.org/wiki/Velociraptor'], ['Velocisaurus', 'https://en.wikipedia.org/wiki/Velocisaurus'], ['Venaticosuchus', 'https://en.wikipedia.org/wiki/Venaticosuchus'], ['Venenosaurus', 'https://en.wikipedia.org/wiki/Venenosaurus'], ['Vespersaurus', 'https://en.wikipedia.org/wiki/Vespersaurus'], ['Veterupristisaurus', 'https://en.wikipedia.org/wiki/Veterupristisaurus'], ['Viavenator', 'https://en.wikipedia.org/wiki/Viavenator'], ['Vitakridrinda', 'https://en.wikipedia.org/wiki/Vitakridrinda'], ['Vitakrisaurus', 'https://en.wikipedia.org/wiki/Vitakrisaurus'], ['Volgatitan', 'https://en.wikipedia.org/wiki/Volgatitan'], ['Volkheimeria', 'https://en.wikipedia.org/wiki/Volkheimeria'], ['Vouivria', 'https://en.wikipedia.org/wiki/Vouivria'], ['Vulcanodon', 'https://en.wikipedia.org/wiki/Vulcanodon'], ['Wadhurstia', 'https://en.wikipedia.org/wiki/Wadhurstia'], ['Hypselospinus', 'https://en.wikipedia.org/wiki/Hypselospinus'], ['Wakinosaurus', 'https://en.wikipedia.org/wiki/Wakinosaurus'], ['Walgettosuchus', 'https://en.wikipedia.org/wiki/Walgettosuchus'], ['Walkeria maleriensis', 'https://en.wikipedia.org/wiki/Walkeria_maleriensis'], ['Alwalkeria', 'https://en.wikipedia.org/wiki/Alwalkeria'], ['Duriavenator', 'https://en.wikipedia.org/wiki/Duriavenator'], ['Wamweracaudia', 'https://en.wikipedia.org/wiki/Wamweracaudia'], ['Wiehenvenator', 'https://en.wikipedia.org/wiki/Wiehenvenator'], ['Giraffatitan', 'https://en.wikipedia.org/wiki/Giraffatitan'], ['Wannanosaurus', 'https://en.wikipedia.org/wiki/Wannanosaurus'], ['Weewarrasaurus', 'https://en.wikipedia.org/wiki/Weewarrasaurus'], ['Wellnhoferia', 'https://en.wikipedia.org/wiki/Wellnhoferia'], ['Archaeopteryx', 'https://en.wikipedia.org/wiki/Archaeopteryx'], ['Wendiceratops', 'https://en.wikipedia.org/wiki/Wendiceratops'], ['Wiehenvenator', 'https://en.wikipedia.org/wiki/Wiehenvenator'], ['Willinakaqe', 'https://en.wikipedia.org/wiki/Willinakaqe'], ['Wintonotitan', 'https://en.wikipedia.org/wiki/Wintonotitan'], ['Wuerhosaurus', 'https://en.wikipedia.org/wiki/Wuerhosaurus'], ['Wulagasaurus', 'https://en.wikipedia.org/wiki/Wulagasaurus'], ['Wulatelong', 'https://en.wikipedia.org/wiki/Wulatelong'], ['Wyleyia', 'https://en.wikipedia.org/wiki/Wyleyia'], ['Allosaurus', 'https://en.wikipedia.org/wiki/Allosaurus'], ['Xenoceratops', 'https://en.wikipedia.org/wiki/Xenoceratops'], ['Xenoposeidon', 'https://en.wikipedia.org/wiki/Xenoposeidon'], ['Xenotarsosaurus', 'https://en.wikipedia.org/wiki/Xenotarsosaurus'], ['Xianshanosaurus', 'https://en.wikipedia.org/wiki/Xianshanosaurus'], ['Xiaosaurus', 'https://en.wikipedia.org/wiki/Xiaosaurus'], ['Xuwulong', 'https://en.wikipedia.org/wiki/Xuwulong'], ['Xiaotingia', 'https://en.wikipedia.org/wiki/Xiaotingia'], ['Xingtianosaurus', 'https://en.wikipedia.org/wiki/Xingtianosaurus'], ['Xingxiulong', 'https://en.wikipedia.org/wiki/Xingxiulong'], ['Xinjiangovenator', 'https://en.wikipedia.org/wiki/Xinjiangovenator'], ['Xinjiangtitan', 'https://en.wikipedia.org/wiki/Xinjiangtitan'], ['Xiongguanlong', 'https://en.wikipedia.org/wiki/Xiongguanlong'], ['Xixianykus', 'https://en.wikipedia.org/wiki/Xixianykus'], ['Xixiasaurus', 'https://en.wikipedia.org/wiki/Xixiasaurus'], ['Xixiposaurus', 'https://en.wikipedia.org/wiki/Xixiposaurus'], ['Xiyunykus', 'https://en.wikipedia.org/wiki/Xiyunykus'], ['Xuanhanosaurus', 'https://en.wikipedia.org/wiki/Xuanhanosaurus'], ['Xuanhuaceratops', 'https://en.wikipedia.org/wiki/Xuanhuaceratops'], ['Xuanhuaceratops', 'https://en.wikipedia.org/wiki/Xuanhuaceratops'], ['Xuwulong', 'https://en.wikipedia.org/wiki/Xuwulong'], ['Yaleosaurus', 'https://en.wikipedia.org/wiki/Yaleosaurus'], ['Anchisaurus', 'https://en.wikipedia.org/wiki/Anchisaurus'], ['Yamaceratops', 'https://en.wikipedia.org/wiki/Yamaceratops'], ['Yandusaurus', 'https://en.wikipedia.org/wiki/Yandusaurus'], ['Yangchuanosaurus', 'https://en.wikipedia.org/wiki/Yangchuanosaurus'], ['Yi (dinosaur)', 'https://en.wikipedia.org/wiki/Yi_(dinosaur)'], ['Yaverlandia', 'https://en.wikipedia.org/wiki/Yaverlandia'], ['Yehuecauhceratops', 'https://en.wikipedia.org/wiki/Yehuecauhceratops'], ['Yi (dinosaur)', 'https://en.wikipedia.org/wiki/Yi_(dinosaur)'], ['Yimenosaurus', 'https://en.wikipedia.org/wiki/Yimenosaurus'], ['Yingshanosaurus', 'https://en.wikipedia.org/wiki/Yingshanosaurus'], ['Yinlong', 'https://en.wikipedia.org/wiki/Yinlong'], ['Yixianosaurus', 'https://en.wikipedia.org/wiki/Yixianosaurus'], ['Yizhousaurus', 'https://en.wikipedia.org/wiki/Yizhousaurus'], ['Yongjinglong', 'https://en.wikipedia.org/wiki/Yongjinglong'], ['Yuanmousaurus', 'https://en.wikipedia.org/wiki/Yuanmousaurus'], ['Yueosaurus', 'https://en.wikipedia.org/wiki/Yueosaurus'], ['Yulong mini', 'https://en.wikipedia.org/wiki/Yulong_mini'], ['Yunganglong', 'https://en.wikipedia.org/wiki/Yunganglong'], ['Yunmenglong', 'https://en.wikipedia.org/wiki/Yunmenglong'], ['Yunnanosaurus', 'https://en.wikipedia.org/wiki/Yunnanosaurus'], ['Yurgovuchia', 'https://en.wikipedia.org/wiki/Yurgovuchia'], ['Yutyrannus', 'https://en.wikipedia.org/wiki/Yutyrannus'], ['Zalmoxes', 'https://en.wikipedia.org/wiki/Zalmoxes'], ['Zanabazar (dinosaur)', 'https://en.wikipedia.org/wiki/Zanabazar_(dinosaur)'], ['Zanclodon', 'https://en.wikipedia.org/wiki/Zanclodon'], ['Zapalasaurus', 'https://en.wikipedia.org/wiki/Zapalasaurus'], ['Zapsalis', 'https://en.wikipedia.org/wiki/Zapsalis'], ['Zaraapelta', 'https://en.wikipedia.org/wiki/Zaraapelta'], ['Zatomus', 'https://en.wikipedia.org/wiki/Zatomus'], ['Zby', 'https://en.wikipedia.org/wiki/Zby'], ['Zephyrosaurus', 'https://en.wikipedia.org/wiki/Zephyrosaurus'], ['Zuniceratops', 'https://en.wikipedia.org/wiki/Zuniceratops'], ['Zhanghenglong', 'https://en.wikipedia.org/wiki/Zhanghenglong'], ['Zhejiangosaurus', 'https://en.wikipedia.org/wiki/Zhejiangosaurus'], ['Zhenyuanlong', 'https://en.wikipedia.org/wiki/Zhenyuanlong'], ['Zhongornis', 'https://en.wikipedia.org/wiki/Zhongornis'], ['Zhongjianosaurus', 'https://en.wikipedia.org/wiki/Zhongjianosaurus'], ['Zhongyuansaurus', 'https://en.wikipedia.org/wiki/Zhongyuansaurus'], ['Gobisaurus', 'https://en.wikipedia.org/wiki/Gobisaurus'], ['Zhuchengceratops', 'https://en.wikipedia.org/wiki/Zhuchengceratops'], ['Zhuchengosaurus', 'https://en.wikipedia.org/wiki/Zhuchengosaurus'], ['Shantungosaurus', 'https://en.wikipedia.org/wiki/Shantungosaurus'], ['Zhuchengtitan', 'https://en.wikipedia.org/wiki/Zhuchengtitan'], ['Zhuchengtyrannus', 'https://en.wikipedia.org/wiki/Zhuchengtyrannus'], ['Ziapelta', 'https://en.wikipedia.org/wiki/Ziapelta'], ['Zigongosaurus', 'https://en.wikipedia.org/wiki/Zigongosaurus'], ['Zizhongosaurus', 'https://en.wikipedia.org/wiki/Zizhongosaurus'], ['Zuniceratops', 'https://en.wikipedia.org/wiki/Zuniceratops'], ['Suskityrannus', 'https://en.wikipedia.org/wiki/Suskityrannus'], ['Zuolong', 'https://en.wikipedia.org/wiki/Zuolong'], ['Zuoyunlong', 'https://en.wikipedia.org/wiki/Zuoyunlong'], ['Zupaysaurus', 'https://en.wikipedia.org/wiki/Zupaysaurus'], ['Zuul', 'https://en.wikipedia.org/wiki/Zuul'], ['Dalianraptor', 'https://en.wikipedia.org/wiki/Dalianraptor']]\n"
     ]
    }
   ],
   "source": [
    "index_page=open_link(baseurl,'/wiki/List_of_dinosaur_genera')\n",
    "\n",
    "dinosours_data=index_page.find_all('i')\n",
    "\n",
    "#print(dinosours_data)\n",
    "dinosour_titles_urllink = []\n",
    "\n",
    "dinosour_final_list = []\n",
    "\n",
    "df = pd.DataFrame()\n",
    "\n",
    "file1 = 'dino_list.txt'\n",
    "file2 = 'dino_url.txt'\n",
    "\n",
    "create_raw_file(file1)\n",
    "create_raw_file(file2)\n",
    "\n",
    "for data in dinosours_data:\n",
    "    dinosour_titles = []\n",
    "    for subdata in data.findAll('a',href=True):\n",
    "        title = subdata['title']\n",
    "        dinosour_titles.append(title)\n",
    "        url_link = baseurl + subdata['href']\n",
    "        dinosour_titles.append(url_link)\n",
    "        dinosour_final_list.append(dinosour_titles)\n",
    "        create_file(file1,title)\n",
    "        create_file(file2,url_link)\n",
    "print(dinosour_final_list)"
   ]
  },
  {
   "cell_type": "markdown",
   "metadata": {},
   "source": [
    "#### Finding the unique values of dinosaur names\n"
   ]
  },
  {
   "cell_type": "code",
   "execution_count": 5,
   "metadata": {},
   "outputs": [
    {
     "name": "stdout",
     "output_type": "stream",
     "text": [
      "1511\n"
     ]
    }
   ],
   "source": [
    "## Finding the unique values of dinosaur names\n",
    "\n",
    "# set will give us unordered dino names... and so it will give random dino names to me...\n",
    "unique_dino_names = set()\n",
    "for d in dinosour_final_list:\n",
    "    unique_dino_names.add(d[0])\n",
    "\n",
    "#print(unique_dino_names)\n",
    "print(len(unique_dino_names))"
   ]
  },
  {
   "cell_type": "markdown",
   "metadata": {},
   "source": [
    "#### I am considering first 50 pages due to computer limitations i.e. to open first 50 dino names from the set() that I created above"
   ]
  },
  {
   "cell_type": "code",
   "execution_count": 6,
   "metadata": {
    "collapsed": true
   },
   "outputs": [],
   "source": [
    "num_pages=50"
   ]
  },
  {
   "cell_type": "markdown",
   "metadata": {},
   "source": [
    "#### Now scrape to get the contents of each dino link page"
   ]
  },
  {
   "cell_type": "code",
   "execution_count": 7,
   "metadata": {},
   "outputs": [
    {
     "name": "stdout",
     "output_type": "stream",
     "text": [
      "count : 1\n",
      "#####dinosour title ###### Jiutaisaurus\n",
      "count : 2\n",
      "#####dinosour title ###### Acrocanthosaurus\n",
      "count : 3\n",
      "#####dinosour title ###### Gannansaurus\n",
      "count : 4\n",
      "#####dinosour title ###### Pachysaurops\n",
      "count : 5\n",
      "#####dinosour title ###### Xiongguanlong\n",
      "count : 6\n",
      "#####dinosour title ###### Europasaurus\n",
      "count : 7\n",
      "#####dinosour title ###### Zhanghenglong\n",
      "count : 8\n",
      "#####dinosour title ###### Macrodontophion\n",
      "count : 9\n",
      "#####dinosour title ###### Propanoplosaurus\n",
      "count : 10\n",
      "#####dinosour title ###### Europelta\n",
      "count : 11\n",
      "#####dinosour title ###### Ambopteryx\n",
      "count : 12\n",
      "#####dinosour title ###### Oceanotitan\n",
      "count : 13\n",
      "#####dinosour title ###### Agujaceratops\n",
      "count : 14\n",
      "#####dinosour title ###### Liubangosaurus\n",
      "count : 15\n",
      "#####dinosour title ###### Luoyanggia\n",
      "count : 16\n",
      "#####dinosour title ###### Yixianosaurus\n",
      "count : 17\n",
      "#####dinosour title ###### Atlantosaurus\n",
      "count : 18\n",
      "#####dinosour title ###### Wannanosaurus\n",
      "count : 19\n",
      "#####dinosour title ###### Kinnareemimus\n",
      "count : 20\n",
      "#####dinosour title ###### Pradhania\n",
      "count : 21\n",
      "#####dinosour title ###### Bilbeyhallorum\n",
      "count : 22\n",
      "#####dinosour title ###### Gwyneddosaurus\n",
      "count : 23\n",
      "#####dinosour title ###### Mosaiceratops\n",
      "count : 24\n",
      "#####dinosour title ###### Tethyshadros\n",
      "count : 25\n",
      "#####dinosour title ###### Protoavis\n",
      "count : 26\n",
      "#####dinosour title ###### Dolichosuchus\n",
      "count : 27\n",
      "#####dinosour title ###### Futalognkosaurus\n",
      "count : 28\n",
      "#####dinosour title ###### Dakotaraptor\n",
      "count : 29\n",
      "#####dinosour title ###### Latirhinus\n",
      "count : 30\n",
      "#####dinosour title ###### Loricosaurus\n",
      "count : 31\n",
      "#####dinosour title ###### Stygivenator\n",
      "count : 32\n",
      "#####dinosour title ###### Beipiaosaurus\n",
      "count : 33\n",
      "#####dinosour title ###### Betasuchus\n",
      "count : 34\n",
      "#####dinosour title ###### Bicentenaria\n",
      "count : 35\n",
      "#####dinosour title ###### Dynamoterror\n",
      "count : 36\n",
      "#####dinosour title ###### Hyperodapedon\n",
      "count : 37\n",
      "#####dinosour title ###### Haplocanthus\n",
      "count : 38\n",
      "#####dinosour title ###### Brontosaurus\n",
      "count : 39\n",
      "#####dinosour title ###### Bonatitan\n",
      "count : 40\n",
      "#####dinosour title ###### Gracilisuchus\n",
      "count : 41\n",
      "#####dinosour title ###### Amphicoelicaudia\n",
      "count : 42\n",
      "#####dinosour title ###### Kukufeldia\n",
      "count : 43\n",
      "#####dinosour title ###### Nodosaurus\n",
      "count : 44\n",
      "#####dinosour title ###### Batyrosaurus\n",
      "count : 45\n",
      "#####dinosour title ###### Brachyceratops\n",
      "count : 46\n",
      "#####dinosour title ###### Cetiosaurus\n",
      "count : 47\n",
      "#####dinosour title ###### Suskityrannus\n",
      "count : 48\n",
      "#####dinosour title ###### Brontoraptor\n",
      "count : 49\n",
      "#####dinosour title ###### Yueosaurus\n",
      "count : 50\n",
      "#####dinosour title ###### Vespersaurus\n"
     ]
    }
   ],
   "source": [
    "allpgcontnt = []\n",
    "links = []\n",
    "i =0\n",
    "unique_dino_names_list = list(unique_dino_names)\n",
    "df = pd.DataFrame()\n",
    "\n",
    "file3 = 'content.txt'\n",
    "\n",
    "for eachnamelink in unique_dino_names_list[0:num_pages]:\n",
    "    links.append(eachnamelink)\n",
    "    i=i+1\n",
    "    print('count :',i)\n",
    "    try:\n",
    "        \n",
    "        pages = wikipedia.page(eachnamelink)\n",
    "        print('#####dinosour title ######',eachnamelink)\n",
    "        create_file(file3,pages.content)\n",
    "        allpgcontnt.append(pages.content)\n",
    "        \n",
    "    except (wikipedia.exceptions.PageError,wikipedia.exceptions.DisambiguationError) as e:\n",
    "        print('Something went wrong')\n",
    "\n",
    "        #create_file('content.txt',pages.content)\n"
   ]
  },
  {
   "cell_type": "markdown",
   "metadata": {},
   "source": [
    "### Representing everything in Dataframe"
   ]
  },
  {
   "cell_type": "code",
   "execution_count": 8,
   "metadata": {},
   "outputs": [
    {
     "data": {
      "text/html": [
       "<div>\n",
       "<style scoped>\n",
       "    .dataframe tbody tr th:only-of-type {\n",
       "        vertical-align: middle;\n",
       "    }\n",
       "\n",
       "    .dataframe tbody tr th {\n",
       "        vertical-align: top;\n",
       "    }\n",
       "\n",
       "    .dataframe thead th {\n",
       "        text-align: right;\n",
       "    }\n",
       "</style>\n",
       "<table border=\"1\" class=\"dataframe\">\n",
       "  <thead>\n",
       "    <tr style=\"text-align: right;\">\n",
       "      <th></th>\n",
       "      <th>Dinosour_Name</th>\n",
       "      <th>Content</th>\n",
       "    </tr>\n",
       "  </thead>\n",
       "  <tbody>\n",
       "    <tr>\n",
       "      <th>0</th>\n",
       "      <td>Jiutaisaurus</td>\n",
       "      <td>Jiutaisaurus is a genus of sauropod dinosaur f...</td>\n",
       "    </tr>\n",
       "    <tr>\n",
       "      <th>1</th>\n",
       "      <td>Acrocanthosaurus</td>\n",
       "      <td>Acrocanthosaurus ( ak-ro-KAN-thə-SAWR-əs; mean...</td>\n",
       "    </tr>\n",
       "    <tr>\n",
       "      <th>2</th>\n",
       "      <td>Gannansaurus</td>\n",
       "      <td>Gannansaurus is an extinct genus of somphospon...</td>\n",
       "    </tr>\n",
       "    <tr>\n",
       "      <th>3</th>\n",
       "      <td>Pachysaurops</td>\n",
       "      <td>Plateosaurus (probably meaning \"broad lizard\",...</td>\n",
       "    </tr>\n",
       "    <tr>\n",
       "      <th>4</th>\n",
       "      <td>Xiongguanlong</td>\n",
       "      <td>Xiongguanlong (\"Grand Pass dragon\") is a genus...</td>\n",
       "    </tr>\n",
       "  </tbody>\n",
       "</table>\n",
       "</div>"
      ],
      "text/plain": [
       "      Dinosour_Name                                            Content\n",
       "0      Jiutaisaurus  Jiutaisaurus is a genus of sauropod dinosaur f...\n",
       "1  Acrocanthosaurus  Acrocanthosaurus ( ak-ro-KAN-thə-SAWR-əs; mean...\n",
       "2      Gannansaurus  Gannansaurus is an extinct genus of somphospon...\n",
       "3      Pachysaurops  Plateosaurus (probably meaning \"broad lizard\",...\n",
       "4     Xiongguanlong  Xiongguanlong (\"Grand Pass dragon\") is a genus..."
      ]
     },
     "execution_count": 8,
     "metadata": {},
     "output_type": "execute_result"
    }
   ],
   "source": [
    "df['Dinosour_Name'] = links\n",
    "df['Content'] = allpgcontnt\n",
    "\n",
    "df.head()"
   ]
  },
  {
   "cell_type": "markdown",
   "metadata": {},
   "source": [
    "##### Word2Vec model requires list of lists to give as input to the model. Therefore, the below code cell creates list of list of words from the  declared function content_to_wordlist()\n",
    "\n",
    "\n",
    "The function content_to_wordlist() does necessary preprocessing by removing the stop words or non-letters etc and creates tokens of words from the content."
   ]
  },
  {
   "cell_type": "code",
   "execution_count": 9,
   "metadata": {
    "collapsed": true
   },
   "outputs": [],
   "source": [
    "cleaned_sentence = []\n",
    "\n",
    "def cleaned_data(x):\n",
    "    return \" \".join(x)\n",
    "\n",
    "def content_to_wordlist( content, remove_stopwords=False ):\n",
    "    # Function to convert a document to a sequence of words,\n",
    "    # removing stop words.  Returns a list of words.\n",
    "    # 1. Remove non-letters\n",
    "    content_text = re.sub(\"[^a-zA-Z]\",\" \", content)\n",
    "    \n",
    "    content_text = content_text.replace(\"  \", \" \")\n",
    "    cleaned_sentence.append(content_text.lower())\n",
    "    \n",
    "    words = content_text.lower().split()\n",
    "    #\n",
    "    if remove_stopwords:\n",
    "        stops = set(stopwords.words(\"english\"))\n",
    "        words = [w for w in words if not w in stops]\n",
    "    #\n",
    "    return(words)"
   ]
  },
  {
   "cell_type": "markdown",
   "metadata": {},
   "source": [
    "#### Considering a new dataframe to do further operations"
   ]
  },
  {
   "cell_type": "code",
   "execution_count": 10,
   "metadata": {
    "collapsed": true
   },
   "outputs": [],
   "source": [
    "dataframe = df.copy()"
   ]
  },
  {
   "cell_type": "code",
   "execution_count": 11,
   "metadata": {},
   "outputs": [
    {
     "data": {
      "text/html": [
       "<div>\n",
       "<style scoped>\n",
       "    .dataframe tbody tr th:only-of-type {\n",
       "        vertical-align: middle;\n",
       "    }\n",
       "\n",
       "    .dataframe tbody tr th {\n",
       "        vertical-align: top;\n",
       "    }\n",
       "\n",
       "    .dataframe thead th {\n",
       "        text-align: right;\n",
       "    }\n",
       "</style>\n",
       "<table border=\"1\" class=\"dataframe\">\n",
       "  <thead>\n",
       "    <tr style=\"text-align: right;\">\n",
       "      <th></th>\n",
       "      <th>Dinosour_Name</th>\n",
       "      <th>Content</th>\n",
       "      <th>cleaned</th>\n",
       "    </tr>\n",
       "  </thead>\n",
       "  <tbody>\n",
       "    <tr>\n",
       "      <th>0</th>\n",
       "      <td>Jiutaisaurus</td>\n",
       "      <td>Jiutaisaurus is a genus of sauropod dinosaur f...</td>\n",
       "      <td>jiutaisaurus is a genus of sauropod dinosaur f...</td>\n",
       "    </tr>\n",
       "    <tr>\n",
       "      <th>1</th>\n",
       "      <td>Acrocanthosaurus</td>\n",
       "      <td>Acrocanthosaurus ( ak-ro-KAN-thə-SAWR-əs; mean...</td>\n",
       "      <td>acrocanthosaurus ak ro kan th sawr s meaning h...</td>\n",
       "    </tr>\n",
       "    <tr>\n",
       "      <th>2</th>\n",
       "      <td>Gannansaurus</td>\n",
       "      <td>Gannansaurus is an extinct genus of somphospon...</td>\n",
       "      <td>gannansaurus is an extinct genus of somphospon...</td>\n",
       "    </tr>\n",
       "    <tr>\n",
       "      <th>3</th>\n",
       "      <td>Pachysaurops</td>\n",
       "      <td>Plateosaurus (probably meaning \"broad lizard\",...</td>\n",
       "      <td>plateosaurus probably meaning broad lizard oft...</td>\n",
       "    </tr>\n",
       "    <tr>\n",
       "      <th>4</th>\n",
       "      <td>Xiongguanlong</td>\n",
       "      <td>Xiongguanlong (\"Grand Pass dragon\") is a genus...</td>\n",
       "      <td>xiongguanlong grand pass dragon is a genus of ...</td>\n",
       "    </tr>\n",
       "  </tbody>\n",
       "</table>\n",
       "</div>"
      ],
      "text/plain": [
       "      Dinosour_Name                                            Content  \\\n",
       "0      Jiutaisaurus  Jiutaisaurus is a genus of sauropod dinosaur f...   \n",
       "1  Acrocanthosaurus  Acrocanthosaurus ( ak-ro-KAN-thə-SAWR-əs; mean...   \n",
       "2      Gannansaurus  Gannansaurus is an extinct genus of somphospon...   \n",
       "3      Pachysaurops  Plateosaurus (probably meaning \"broad lizard\",...   \n",
       "4     Xiongguanlong  Xiongguanlong (\"Grand Pass dragon\") is a genus...   \n",
       "\n",
       "                                             cleaned  \n",
       "0  jiutaisaurus is a genus of sauropod dinosaur f...  \n",
       "1  acrocanthosaurus ak ro kan th sawr s meaning h...  \n",
       "2  gannansaurus is an extinct genus of somphospon...  \n",
       "3  plateosaurus probably meaning broad lizard oft...  \n",
       "4  xiongguanlong grand pass dragon is a genus of ...  "
      ]
     },
     "execution_count": 11,
     "metadata": {},
     "output_type": "execute_result"
    }
   ],
   "source": [
    "\n",
    "dataframe[\"cleaned\"]=dataframe[\"Content\"].map(content_to_wordlist)\n",
    "dataframe[\"cleaned\"]=dataframe[\"cleaned\"].map(cleaned_data)\n",
    "dataframe.head()"
   ]
  },
  {
   "cell_type": "code",
   "execution_count": 12,
   "metadata": {},
   "outputs": [
    {
     "name": "stdout",
     "output_type": "stream",
     "text": [
      "jiutaisaurus is a genus of sauropod dinosaur from the quantou formation of china jiutaisaurus was a \n"
     ]
    }
   ],
   "source": [
    "## Preparing the input for Word2Vec model\n",
    "\n",
    "all_content = dataframe['cleaned']\n",
    "\n",
    "one_single_content =\"\"\n",
    "for each_content in all_content:\n",
    "    one_single_content += ' '.join(all_content)\n",
    "print(one_single_content[:100])"
   ]
  },
  {
   "cell_type": "markdown",
   "metadata": {},
   "source": [
    "##### Creates a list 'sentences' to give the input to Word2Vec model."
   ]
  },
  {
   "cell_type": "code",
   "execution_count": 13,
   "metadata": {},
   "outputs": [
    {
     "name": "stdout",
     "output_type": "stream",
     "text": [
      "1\n"
     ]
    }
   ],
   "source": [
    "raw_sentences = tokenizer.tokenize(one_single_content)\n",
    "\n",
    "sentences = []\n",
    "remove_stopwords = True\n",
    "for raw_sentence in raw_sentences:\n",
    "    # If a sentence is empty, skip it\n",
    "    if len(raw_sentence) > 0:\n",
    "        # Otherwise, call review_to_wordlist to get a list of words\n",
    "        sentences.append( content_to_wordlist( raw_sentence, \\\n",
    "          remove_stopwords ))\n",
    "print(len(sentences))"
   ]
  },
  {
   "cell_type": "code",
   "execution_count": 14,
   "metadata": {},
   "outputs": [
    {
     "name": "stderr",
     "output_type": "stream",
     "text": [
      "IOPub data rate exceeded.\n",
      "The notebook server will temporarily stop sending output\n",
      "to the client in order to avoid crashing it.\n",
      "To change this limit, set the config variable\n",
      "`--NotebookApp.iopub_data_rate_limit`.\n"
     ]
    }
   ],
   "source": [
    "print(sentences[:1])"
   ]
  },
  {
   "cell_type": "markdown",
   "metadata": {},
   "source": [
    "## Word2Vec\n",
    "\n",
    "CBOW is learning to predict the word by the context. A context may be single word or multiple word for a given target words.\n",
    "for example “The cat jumped over the puddle.”\n",
    "\n",
    "So one approach is to treat {“The”, “cat”, ’over”, “the’, “puddle”} as a context and from these words, be able to predict or generate the center word “jumped”. This type of model we call a Continuous Bag of Words (CBOW) Model.\n",
    "\n",
    "\n",
    "Here as I want to forecast occurence of a single word dinosaur, however I dont want to use the count of word dinosaur for forecasting. So I thought of using wrod embeddings (CBOW) because, it will help me to predict the word by the context by giving word vectors."
   ]
  },
  {
   "cell_type": "code",
   "execution_count": 15,
   "metadata": {},
   "outputs": [
    {
     "name": "stdout",
     "output_type": "stream",
     "text": [
      "Training model...\n"
     ]
    },
    {
     "name": "stderr",
     "output_type": "stream",
     "text": [
      "C:\\Users\\pnkjs\\Anaconda3\\lib\\site-packages\\ipykernel_launcher.py:13: DeprecationWarning: Call to deprecated `most_similar` (Method will be removed in 4.0.0, use self.wv.most_similar() instead).\n",
      "  del sys.path[0]\n"
     ]
    },
    {
     "data": {
      "text/plain": [
       "[('representing', 0.4905478358268738),\n",
       " ('la', 0.45430469512939453),\n",
       " ('abler', 0.42828869819641113),\n",
       " ('midsized', 0.4275635778903961),\n",
       " ('soft', 0.42627406120300293),\n",
       " ('jaws', 0.42160624265670776),\n",
       " ('transforms', 0.4066582918167114),\n",
       " ('lindsay', 0.4027180075645447),\n",
       " ('absence', 0.40259355306625366),\n",
       " ('knollenmergel', 0.4003618657588959)]"
      ]
     },
     "execution_count": 15,
     "metadata": {},
     "output_type": "execute_result"
    }
   ],
   "source": [
    "# Set values for various parameters\n",
    "num_features = 50    # Word vector dimensionality                      \n",
    "min_count = 1   # Minimum word count                        \n",
    "num_workers = 4       # Number of threads to run in parallel\n",
    "context_window_size = 2          # Context window size      \n",
    "sg = 0 # This states that I am using CBOW \n",
    "\n",
    "# Initialize and train the model (this will take some time)\n",
    "from gensim.models import word2vec\n",
    "print (\"Training model...\")\n",
    "model = word2vec.Word2Vec(sentences, workers=num_workers, \\\n",
    "            size=num_features, min_count = min_count, \\\n",
    "            window = context_window_size,sg=0)\n",
    "\n",
    "model.most_similar(\"dinosaur\")"
   ]
  },
  {
   "cell_type": "markdown",
   "metadata": {},
   "source": [
    "## TF-IDF Generation"
   ]
  },
  {
   "cell_type": "code",
   "execution_count": 16,
   "metadata": {},
   "outputs": [
    {
     "name": "stdout",
     "output_type": "stream",
     "text": [
      "(50, 1560)\n"
     ]
    },
    {
     "name": "stderr",
     "output_type": "stream",
     "text": [
      "C:\\Users\\pnkjs\\Anaconda3\\lib\\site-packages\\sklearn\\feature_extraction\\text.py:1089: FutureWarning: Conversion of the second argument of issubdtype from `float` to `np.floating` is deprecated. In future, it will be treated as `np.float64 == np.dtype(float).type`.\n",
      "  if hasattr(X, 'dtype') and np.issubdtype(X.dtype, np.float):\n"
     ]
    }
   ],
   "source": [
    "tfidf_vectorizer = TfidfVectorizer(stop_words=\"english\",min_df = 3)\n",
    "X_tfidf = tfidf_vectorizer.fit_transform(all_content)\n",
    "print(X_tfidf.shape)"
   ]
  },
  {
   "cell_type": "code",
   "execution_count": 17,
   "metadata": {
    "collapsed": true
   },
   "outputs": [],
   "source": [
    "terms= tfidf_vectorizer.get_feature_names()"
   ]
  },
  {
   "cell_type": "markdown",
   "metadata": {},
   "source": [
    "### Rank Terms based on TFIDF"
   ]
  },
  {
   "cell_type": "markdown",
   "metadata": {},
   "source": [
    "##### The below two cells are just the trial that I was doing to check top ranked words in all documents. I am not using this in my next code part. It's just I wanted to check it."
   ]
  },
  {
   "cell_type": "code",
   "execution_count": 18,
   "metadata": {
    "collapsed": true
   },
   "outputs": [],
   "source": [
    "import operator\n",
    "def rank_terms( X_tfidf, terms ):\n",
    "    # get the sums over each column\n",
    "    sums = X_tfidf.sum(axis=0)\n",
    "    #print(sums)\n",
    "    # map weights to the terms\n",
    "    weights = {}\n",
    "    for col, term in enumerate(terms):\n",
    "        weights[term] = sums[0,col]\n",
    "    #print(weights)\n",
    "    # rank the terms by their weight over all documents\n",
    "    return sorted(weights.items(), key=operator.itemgetter(1), reverse=True)"
   ]
  },
  {
   "cell_type": "markdown",
   "metadata": {},
   "source": [
    "To find out top 20 tfidf terms from all the documents"
   ]
  },
  {
   "cell_type": "code",
   "execution_count": 19,
   "metadata": {
    "scrolled": true
   },
   "outputs": [
    {
     "name": "stdout",
     "output_type": "stream",
     "text": [
      "01. species (3.03)\n",
      "02. genus (2.93)\n",
      "03. dinosaur (2.88)\n",
      "04. formation (2.70)\n",
      "05. known (2.63)\n",
      "06. cretaceous (2.51)\n",
      "07. type (2.36)\n",
      "08. skull (2.26)\n",
      "09. specimen (2.23)\n",
      "10. bones (2.18)\n",
      "11. vertebrae (2.07)\n",
      "12. bone (2.02)\n",
      "13. long (1.97)\n",
      "14. sauropod (1.95)\n",
      "15. china (1.85)\n",
      "16. described (1.81)\n",
      "17. holotype (1.74)\n",
      "18. late (1.74)\n",
      "19. references (1.73)\n",
      "20. partial (1.67)\n"
     ]
    }
   ],
   "source": [
    "ranking = rank_terms( X_tfidf, terms )\n",
    "#print(ranking)\n",
    "\n",
    "for i, pair in enumerate( ranking[0:20]):\n",
    "    print( \"%02d. %s (%.2f)\" % ( i+1, pair[0], pair[1] ) )"
   ]
  },
  {
   "cell_type": "markdown",
   "metadata": {},
   "source": [
    "#### Rank top terms from each documents\n",
    "\n",
    "But the below function calculates the top terms from each documents, which will be used to generate features for my prediction model. "
   ]
  },
  {
   "cell_type": "code",
   "execution_count": 20,
   "metadata": {
    "collapsed": true
   },
   "outputs": [],
   "source": [
    "def get_top_ranked_topics( terms, tfidf_array, term_index,top ):\n",
    "    # reverse sort the values to sort the indices\n",
    "    top_indices = np.argsort( tfidf_array[term_index,:] )[::-1]\n",
    "    # now get the terms corresponding to the top-ranked indices\n",
    "    top_terms = []\n",
    "    for i in top_indices[0:top]:\n",
    "        top_terms.append( terms[i] )\n",
    "    return top_terms\n",
    "\n"
   ]
  },
  {
   "cell_type": "code",
   "execution_count": 21,
   "metadata": {},
   "outputs": [
    {
     "data": {
      "text/plain": [
       "(50, 1560)"
      ]
     },
     "execution_count": 21,
     "metadata": {},
     "output_type": "execute_result"
    }
   ],
   "source": [
    "X_tfidf.shape"
   ]
  },
  {
   "cell_type": "code",
   "execution_count": 22,
   "metadata": {
    "collapsed": true
   },
   "outputs": [],
   "source": [
    "num_of_top_terms =10"
   ]
  },
  {
   "cell_type": "markdown",
   "metadata": {},
   "source": [
    "##### this below cell gives the top 10 terms of each document"
   ]
  },
  {
   "cell_type": "code",
   "execution_count": 23,
   "metadata": {},
   "outputs": [
    {
     "name": "stdout",
     "output_type": "stream",
     "text": [
      "Term 01: li, sauropod, china, entry, mailing, dinosaur, geology, eighteen, list, cretaceous\n",
      "Term 02: theropod, prey, bones, footprints, rose, texas, large, theropods, spines, formation\n",
      "Term 03: vertebra, euhelopus, mid, shares, southern, characters, late, known, basin, indicating\n",
      "Term 04: material, animals, von, limb, species, skeletons, germany, posture, growth, individuals\n",
      "Term 05: china, tyrannosauroids, tyrannosaur, tyrannosauroid, city, skull, right, cretaceous, fossil, rex\n",
      "Term 06: camarasaurus, bones, taxa, growth, fenestra, brachiosaurids, brachiosaurus, sauropod, vertebrae, process\n",
      "Term 07: hadrosauroid, plesiomorphic, henan, hadrosaurid, right, features, hadrosauroids, xing, non, characters\n",
      "Term 08: given, mailing, entry, dubious, list, nomen, dubium, tooth, genus, based\n",
      "Term 09: nodosaurid, natural, osteoderms, specimen, cast, impressions, right, centimetres, authors, nodosaurids\n",
      "Term 10: ankylosaur, nodosaurid, osteoderms, europe, partial, isolated, view, pubis, dorsal, teeth\n",
      "Term 11: wing, finger, meaning, like, slab, gastroliths, diet, bone, word, elongate\n",
      "Term 12: portugal, toes, caudals, pelvis, leg, scapula, jurassic, consists, contains, sauropod\n",
      "Term 13: ceratopsian, texas, material, bend, park, national, horned, big, new, collected\n",
      "Term 14: mo, xing, xu, buffetaut, southern, eric, articulated, collected, county, middle\n",
      "Term 15: basin, cenomanian, henan, assemblages, horizon, habitat, albian, existed, initially, extensive\n",
      "Term 16: feathers, yixian, hand, suggested, xu, arms, fossilized, long, large, length\n",
      "Term 17: morrison, yale, marsh, colorado, sauropod, dubious, states, united, history, ajax\n",
      "Term 18: roof, skull, femur, partial, centimeters, omnivorous, length, death, ground, plant\n",
      "Term 19: buffetaut, earliest, bird, incomplete, known, occurrence, depending, said, asian, forest\n",
      "Term 20: sauropodomorph, synapomorphies, galton, analysis, upchurch, regarded, performed, peter, suggests, fragmentary\n",
      "Term 21: carpenter, ankylosaurid, skull, utah, ankylosaur, plesiomorphic, mountain, hall, et, al\n",
      "Term 22: identified, type, possibly, animal, thigh, gastralia, mixed, younger, bones, aquatic\n",
      "Term 23: psittacosaurus, premaxilla, bone, anterior, maxilla, noted, ceratopsian, basal, nasal, analysis\n",
      "Term 24: island, european, hadrosauroid, exposed, hadrosauroids, metres, state, skeleton, paleontologist, quarry\n",
      "Term 25: bird, birds, avian, material, texas, fossils, braincase, non, presence, triassic\n",
      "Term 26: bone, tibia, lower, resembles, germany, single, reclassified, huene, triassic, leg\n",
      "Term 27: metres, giant, ft, estimated, dinosaur, extremely, argentina, far, means, clade\n",
      "Term 28: claw, dromaeosaurid, wing, feathers, second, centimetres, length, size, thighbone, large\n",
      "Term 29: mexico, southern, broad, laramidia, basis, occurrence, nostril, del, hadrosaurid, hadrosaur\n",
      "Term 30: armour, neuquensaurus, belong, considered, ankylosaur, huene, argentina, possibly, titanosaurs, osteoderms\n",
      "Term 31: tyrannosaurus, rex, study, tissue, evidence, tyrannosaur, tyrannosaurids, tons, like, growth\n",
      "Term 32: feathers, xu, according, specimen, feather, vertebrae, types, including, al, primitive\n",
      "Term 33: megalosaurus, von, huene, du, maastrichtian, femur, la, fossil, weishampel, dinosauria\n",
      "Term 34: argentina, estimates, news, august, describing, june, coelurosaurian, paper, reported, carnivorous\n",
      "Term 35: mcdonald, mexico, polytomy, expedition, utah, word, derived, new, campanian, fragmentary\n",
      "Term 36: triassic, rows, brazil, maxillary, teeth, argentina, formation, synapomorphy, dentary, sense\n",
      "Term 37: morrison, camarasaurus, caudals, lamina, specimens, primitive, specimen, meters, sauropods, feet\n",
      "Term 38: brontosaurus, apatosaurus, skull, morrison, camarasaurus, marsh, like, diplodocus, species, specimen\n",
      "Term 39: argentina, braincase, elements, bonaparte, jos, online, catalogued, del, titanosaurian, honours\n",
      "Term 40: like, unlike, group, crocodile, osteoderms, noted, socket, fenestra, articulation, skull\n",
      "Term 41: vertebrae, sacrum, caudal, dorsal, sauropods, asian, anterior, cervical, left, ribs\n",
      "Term 42: refers, identified, originally, andrew, bmnh, barrett, mcdonald, england, forest, consider\n",
      "Term 43: plates, arranged, marsh, ankylosaur, wider, bony, america, narrow, north, short\n",
      "Term 44: hadrosauroid, hadrosaurid, campanian, surface, authors, material, derived, basal, partial, thumb\n",
      "Term 45: juvenile, gilmore, specimens, montana, specimen, form, known, frill, subadult, greek\n",
      "Term 46: cetiosaurus, species, nomen, sauropod, named, based, upchurch, dubium, martin, material\n",
      "Term 47: tyrannosauroid, fossils, area, tyrannosaur, record, mexico, specimens, fauna, feathers, believed\n",
      "Term 48: torvosaurus, portugal, allosaurus, eggs, theropod, dry, colorado, quarry, specimen, fossils\n",
      "Term 49: partial, china, basal, differs, cenomanian, combination, han, plausible, latest, etymology\n",
      "Term 50: brazil, notable, giant, digit, anatomy, basin, distinct, foot, weight, theropod\n"
     ]
    }
   ],
   "source": [
    "tfidf_rank =[]\n",
    "for i in range(num_pages):\n",
    "    tfidf_rank.append( get_top_ranked_topics( terms, X_tfidf.toarray(), i, num_of_top_terms ) )\n",
    "    str_descriptor = \", \".join( tfidf_rank[i] )\n",
    "    print(\"Term %02d: %s\" % ( i+1, str_descriptor ) )"
   ]
  },
  {
   "cell_type": "code",
   "execution_count": 24,
   "metadata": {
    "collapsed": true
   },
   "outputs": [],
   "source": [
    "def tfidf_rank_method(x):\n",
    "    return tfidf_rank[x.name]"
   ]
  },
  {
   "cell_type": "code",
   "execution_count": 25,
   "metadata": {},
   "outputs": [
    {
     "data": {
      "text/plain": [
       "50"
      ]
     },
     "execution_count": 25,
     "metadata": {},
     "output_type": "execute_result"
    }
   ],
   "source": [
    "len(tfidf_rank)"
   ]
  },
  {
   "cell_type": "code",
   "execution_count": 26,
   "metadata": {},
   "outputs": [
    {
     "data": {
      "text/plain": [
       "(50, 3)"
      ]
     },
     "execution_count": 26,
     "metadata": {},
     "output_type": "execute_result"
    }
   ],
   "source": [
    "dataframe.shape"
   ]
  },
  {
   "cell_type": "markdown",
   "metadata": {},
   "source": [
    "##### This dataframe column tfidf_rank shows the list of each top ranked words which will be used with combination of Word2Vec model\n",
    "\n",
    "- So the idea behind this is that for each word for eg. vertebra,animals ( from below df) a wordvector will be calculated i.e Word2Vec.wv['vertebra'].\n",
    "\n",
    "- First -  my top ranked list has 10 terms and 50 documents so it will create 50 x 10 matrix ( I am showing that in df3 dataframe)\n",
    "\n",
    "- Second - now as I have got seperate terms in each column , I will find the word vectors of each word i.e the Word2Vec.wv[<each word>] \n",
    "\n",
    "- Third - so it will create a new matrix 10 (documents) x 500 (terms) ( I am showing that in cols_df)\n",
    "\n",
    "- Create a final_df by concatenating the cols_df and temp_df ( it contain only dinosaur name and target feature)"
   ]
  },
  {
   "cell_type": "code",
   "execution_count": 27,
   "metadata": {},
   "outputs": [
    {
     "data": {
      "text/html": [
       "<div>\n",
       "<style scoped>\n",
       "    .dataframe tbody tr th:only-of-type {\n",
       "        vertical-align: middle;\n",
       "    }\n",
       "\n",
       "    .dataframe tbody tr th {\n",
       "        vertical-align: top;\n",
       "    }\n",
       "\n",
       "    .dataframe thead th {\n",
       "        text-align: right;\n",
       "    }\n",
       "</style>\n",
       "<table border=\"1\" class=\"dataframe\">\n",
       "  <thead>\n",
       "    <tr style=\"text-align: right;\">\n",
       "      <th></th>\n",
       "      <th>Dinosour_Name</th>\n",
       "      <th>Content</th>\n",
       "      <th>cleaned</th>\n",
       "      <th>tfidf_rank</th>\n",
       "    </tr>\n",
       "  </thead>\n",
       "  <tbody>\n",
       "    <tr>\n",
       "      <th>0</th>\n",
       "      <td>Jiutaisaurus</td>\n",
       "      <td>Jiutaisaurus is a genus of sauropod dinosaur f...</td>\n",
       "      <td>jiutaisaurus is a genus of sauropod dinosaur f...</td>\n",
       "      <td>[li, sauropod, china, entry, mailing, dinosaur...</td>\n",
       "    </tr>\n",
       "    <tr>\n",
       "      <th>1</th>\n",
       "      <td>Acrocanthosaurus</td>\n",
       "      <td>Acrocanthosaurus ( ak-ro-KAN-thə-SAWR-əs; mean...</td>\n",
       "      <td>acrocanthosaurus ak ro kan th sawr s meaning h...</td>\n",
       "      <td>[theropod, prey, bones, footprints, rose, texa...</td>\n",
       "    </tr>\n",
       "    <tr>\n",
       "      <th>2</th>\n",
       "      <td>Gannansaurus</td>\n",
       "      <td>Gannansaurus is an extinct genus of somphospon...</td>\n",
       "      <td>gannansaurus is an extinct genus of somphospon...</td>\n",
       "      <td>[vertebra, euhelopus, mid, shares, southern, c...</td>\n",
       "    </tr>\n",
       "    <tr>\n",
       "      <th>3</th>\n",
       "      <td>Pachysaurops</td>\n",
       "      <td>Plateosaurus (probably meaning \"broad lizard\",...</td>\n",
       "      <td>plateosaurus probably meaning broad lizard oft...</td>\n",
       "      <td>[material, animals, von, limb, species, skelet...</td>\n",
       "    </tr>\n",
       "    <tr>\n",
       "      <th>4</th>\n",
       "      <td>Xiongguanlong</td>\n",
       "      <td>Xiongguanlong (\"Grand Pass dragon\") is a genus...</td>\n",
       "      <td>xiongguanlong grand pass dragon is a genus of ...</td>\n",
       "      <td>[china, tyrannosauroids, tyrannosaur, tyrannos...</td>\n",
       "    </tr>\n",
       "  </tbody>\n",
       "</table>\n",
       "</div>"
      ],
      "text/plain": [
       "      Dinosour_Name                                            Content  \\\n",
       "0      Jiutaisaurus  Jiutaisaurus is a genus of sauropod dinosaur f...   \n",
       "1  Acrocanthosaurus  Acrocanthosaurus ( ak-ro-KAN-thə-SAWR-əs; mean...   \n",
       "2      Gannansaurus  Gannansaurus is an extinct genus of somphospon...   \n",
       "3      Pachysaurops  Plateosaurus (probably meaning \"broad lizard\",...   \n",
       "4     Xiongguanlong  Xiongguanlong (\"Grand Pass dragon\") is a genus...   \n",
       "\n",
       "                                             cleaned  \\\n",
       "0  jiutaisaurus is a genus of sauropod dinosaur f...   \n",
       "1  acrocanthosaurus ak ro kan th sawr s meaning h...   \n",
       "2  gannansaurus is an extinct genus of somphospon...   \n",
       "3  plateosaurus probably meaning broad lizard oft...   \n",
       "4  xiongguanlong grand pass dragon is a genus of ...   \n",
       "\n",
       "                                          tfidf_rank  \n",
       "0  [li, sauropod, china, entry, mailing, dinosaur...  \n",
       "1  [theropod, prey, bones, footprints, rose, texa...  \n",
       "2  [vertebra, euhelopus, mid, shares, southern, c...  \n",
       "3  [material, animals, von, limb, species, skelet...  \n",
       "4  [china, tyrannosauroids, tyrannosaur, tyrannos...  "
      ]
     },
     "execution_count": 27,
     "metadata": {},
     "output_type": "execute_result"
    }
   ],
   "source": [
    "dataframe[\"tfidf_rank\"]=dataframe.apply(tfidf_rank_method, axis=1)\n",
    "dataframe.head()"
   ]
  },
  {
   "cell_type": "markdown",
   "metadata": {},
   "source": [
    "### Forecast starts"
   ]
  },
  {
   "cell_type": "code",
   "execution_count": 28,
   "metadata": {
    "collapsed": true
   },
   "outputs": [],
   "source": [
    "def calculate_dinosaur_count(x):\n",
    "    return x.count(\"dinosaur\")"
   ]
  },
  {
   "cell_type": "code",
   "execution_count": 29,
   "metadata": {},
   "outputs": [
    {
     "data": {
      "text/html": [
       "<div>\n",
       "<style scoped>\n",
       "    .dataframe tbody tr th:only-of-type {\n",
       "        vertical-align: middle;\n",
       "    }\n",
       "\n",
       "    .dataframe tbody tr th {\n",
       "        vertical-align: top;\n",
       "    }\n",
       "\n",
       "    .dataframe thead th {\n",
       "        text-align: right;\n",
       "    }\n",
       "</style>\n",
       "<table border=\"1\" class=\"dataframe\">\n",
       "  <thead>\n",
       "    <tr style=\"text-align: right;\">\n",
       "      <th></th>\n",
       "      <th>Dinosour_Name</th>\n",
       "      <th>Content</th>\n",
       "      <th>cleaned</th>\n",
       "      <th>tfidf_rank</th>\n",
       "      <th>target</th>\n",
       "    </tr>\n",
       "  </thead>\n",
       "  <tbody>\n",
       "    <tr>\n",
       "      <th>0</th>\n",
       "      <td>Jiutaisaurus</td>\n",
       "      <td>Jiutaisaurus is a genus of sauropod dinosaur f...</td>\n",
       "      <td>jiutaisaurus is a genus of sauropod dinosaur f...</td>\n",
       "      <td>[li, sauropod, china, entry, mailing, dinosaur...</td>\n",
       "      <td>3</td>\n",
       "    </tr>\n",
       "    <tr>\n",
       "      <th>1</th>\n",
       "      <td>Acrocanthosaurus</td>\n",
       "      <td>Acrocanthosaurus ( ak-ro-KAN-thə-SAWR-əs; mean...</td>\n",
       "      <td>acrocanthosaurus ak ro kan th sawr s meaning h...</td>\n",
       "      <td>[theropod, prey, bones, footprints, rose, texa...</td>\n",
       "      <td>9</td>\n",
       "    </tr>\n",
       "    <tr>\n",
       "      <th>2</th>\n",
       "      <td>Gannansaurus</td>\n",
       "      <td>Gannansaurus is an extinct genus of somphospon...</td>\n",
       "      <td>gannansaurus is an extinct genus of somphospon...</td>\n",
       "      <td>[vertebra, euhelopus, mid, shares, southern, c...</td>\n",
       "      <td>1</td>\n",
       "    </tr>\n",
       "    <tr>\n",
       "      <th>3</th>\n",
       "      <td>Pachysaurops</td>\n",
       "      <td>Plateosaurus (probably meaning \"broad lizard\",...</td>\n",
       "      <td>plateosaurus probably meaning broad lizard oft...</td>\n",
       "      <td>[material, animals, von, limb, species, skelet...</td>\n",
       "      <td>21</td>\n",
       "    </tr>\n",
       "    <tr>\n",
       "      <th>4</th>\n",
       "      <td>Xiongguanlong</td>\n",
       "      <td>Xiongguanlong (\"Grand Pass dragon\") is a genus...</td>\n",
       "      <td>xiongguanlong grand pass dragon is a genus of ...</td>\n",
       "      <td>[china, tyrannosauroids, tyrannosaur, tyrannos...</td>\n",
       "      <td>1</td>\n",
       "    </tr>\n",
       "  </tbody>\n",
       "</table>\n",
       "</div>"
      ],
      "text/plain": [
       "      Dinosour_Name                                            Content  \\\n",
       "0      Jiutaisaurus  Jiutaisaurus is a genus of sauropod dinosaur f...   \n",
       "1  Acrocanthosaurus  Acrocanthosaurus ( ak-ro-KAN-thə-SAWR-əs; mean...   \n",
       "2      Gannansaurus  Gannansaurus is an extinct genus of somphospon...   \n",
       "3      Pachysaurops  Plateosaurus (probably meaning \"broad lizard\",...   \n",
       "4     Xiongguanlong  Xiongguanlong (\"Grand Pass dragon\") is a genus...   \n",
       "\n",
       "                                             cleaned  \\\n",
       "0  jiutaisaurus is a genus of sauropod dinosaur f...   \n",
       "1  acrocanthosaurus ak ro kan th sawr s meaning h...   \n",
       "2  gannansaurus is an extinct genus of somphospon...   \n",
       "3  plateosaurus probably meaning broad lizard oft...   \n",
       "4  xiongguanlong grand pass dragon is a genus of ...   \n",
       "\n",
       "                                          tfidf_rank  target  \n",
       "0  [li, sauropod, china, entry, mailing, dinosaur...       3  \n",
       "1  [theropod, prey, bones, footprints, rose, texa...       9  \n",
       "2  [vertebra, euhelopus, mid, shares, southern, c...       1  \n",
       "3  [material, animals, von, limb, species, skelet...      21  \n",
       "4  [china, tyrannosauroids, tyrannosaur, tyrannos...       1  "
      ]
     },
     "execution_count": 29,
     "metadata": {},
     "output_type": "execute_result"
    }
   ],
   "source": [
    "dataframe[\"target\"]=dataframe[\"cleaned\"].map(calculate_dinosaur_count)\n",
    "dataframe.columns = [ 'Dinosour_Name', 'Content', 'cleaned', \"tfidf_rank\",\"target\"]\n",
    "dataframe.head()"
   ]
  },
  {
   "cell_type": "code",
   "execution_count": 30,
   "metadata": {},
   "outputs": [
    {
     "data": {
      "text/html": [
       "<div>\n",
       "<style scoped>\n",
       "    .dataframe tbody tr th:only-of-type {\n",
       "        vertical-align: middle;\n",
       "    }\n",
       "\n",
       "    .dataframe tbody tr th {\n",
       "        vertical-align: top;\n",
       "    }\n",
       "\n",
       "    .dataframe thead th {\n",
       "        text-align: right;\n",
       "    }\n",
       "</style>\n",
       "<table border=\"1\" class=\"dataframe\">\n",
       "  <thead>\n",
       "    <tr style=\"text-align: right;\">\n",
       "      <th></th>\n",
       "      <th>Dinosour_Name</th>\n",
       "      <th>tfidf_rank</th>\n",
       "      <th>target</th>\n",
       "    </tr>\n",
       "  </thead>\n",
       "  <tbody>\n",
       "    <tr>\n",
       "      <th>0</th>\n",
       "      <td>Jiutaisaurus</td>\n",
       "      <td>[li, sauropod, china, entry, mailing, dinosaur...</td>\n",
       "      <td>3</td>\n",
       "    </tr>\n",
       "    <tr>\n",
       "      <th>1</th>\n",
       "      <td>Acrocanthosaurus</td>\n",
       "      <td>[theropod, prey, bones, footprints, rose, texa...</td>\n",
       "      <td>9</td>\n",
       "    </tr>\n",
       "    <tr>\n",
       "      <th>2</th>\n",
       "      <td>Gannansaurus</td>\n",
       "      <td>[vertebra, euhelopus, mid, shares, southern, c...</td>\n",
       "      <td>1</td>\n",
       "    </tr>\n",
       "    <tr>\n",
       "      <th>3</th>\n",
       "      <td>Pachysaurops</td>\n",
       "      <td>[material, animals, von, limb, species, skelet...</td>\n",
       "      <td>21</td>\n",
       "    </tr>\n",
       "    <tr>\n",
       "      <th>4</th>\n",
       "      <td>Xiongguanlong</td>\n",
       "      <td>[china, tyrannosauroids, tyrannosaur, tyrannos...</td>\n",
       "      <td>1</td>\n",
       "    </tr>\n",
       "  </tbody>\n",
       "</table>\n",
       "</div>"
      ],
      "text/plain": [
       "      Dinosour_Name                                         tfidf_rank  target\n",
       "0      Jiutaisaurus  [li, sauropod, china, entry, mailing, dinosaur...       3\n",
       "1  Acrocanthosaurus  [theropod, prey, bones, footprints, rose, texa...       9\n",
       "2      Gannansaurus  [vertebra, euhelopus, mid, shares, southern, c...       1\n",
       "3      Pachysaurops  [material, animals, von, limb, species, skelet...      21\n",
       "4     Xiongguanlong  [china, tyrannosauroids, tyrannosaur, tyrannos...       1"
      ]
     },
     "execution_count": 30,
     "metadata": {},
     "output_type": "execute_result"
    }
   ],
   "source": [
    "df_short = dataframe.copy()\n",
    "df_short = df_short.drop(columns=[\"Content\",\"cleaned\"])\n",
    "df_short.head()"
   ]
  },
  {
   "cell_type": "code",
   "execution_count": 31,
   "metadata": {
    "collapsed": true
   },
   "outputs": [],
   "source": [
    "ip_cols =[]\n",
    "for i in range(1, num_of_top_terms+1):\n",
    "    col = \"t\" + str(i)\n",
    "    ip_cols.append(col)"
   ]
  },
  {
   "cell_type": "code",
   "execution_count": 44,
   "metadata": {},
   "outputs": [
    {
     "data": {
      "text/plain": [
       "(50, 10)"
      ]
     },
     "execution_count": 44,
     "metadata": {},
     "output_type": "execute_result"
    }
   ],
   "source": [
    "df3 = pd.DataFrame(df_short['tfidf_rank'].values.tolist(), columns=ip_cols)\n",
    "df3.shape"
   ]
  },
  {
   "cell_type": "code",
   "execution_count": 33,
   "metadata": {},
   "outputs": [
    {
     "data": {
      "text/html": [
       "<div>\n",
       "<style scoped>\n",
       "    .dataframe tbody tr th:only-of-type {\n",
       "        vertical-align: middle;\n",
       "    }\n",
       "\n",
       "    .dataframe tbody tr th {\n",
       "        vertical-align: top;\n",
       "    }\n",
       "\n",
       "    .dataframe thead th {\n",
       "        text-align: right;\n",
       "    }\n",
       "</style>\n",
       "<table border=\"1\" class=\"dataframe\">\n",
       "  <thead>\n",
       "    <tr style=\"text-align: right;\">\n",
       "      <th></th>\n",
       "      <th>Dinosour_Name</th>\n",
       "      <th>tfidf_rank</th>\n",
       "      <th>target</th>\n",
       "      <th>t1</th>\n",
       "      <th>t2</th>\n",
       "      <th>t3</th>\n",
       "      <th>t4</th>\n",
       "      <th>t5</th>\n",
       "      <th>t6</th>\n",
       "      <th>t7</th>\n",
       "      <th>t8</th>\n",
       "      <th>t9</th>\n",
       "      <th>t10</th>\n",
       "    </tr>\n",
       "  </thead>\n",
       "  <tbody>\n",
       "    <tr>\n",
       "      <th>0</th>\n",
       "      <td>Jiutaisaurus</td>\n",
       "      <td>[li, sauropod, china, entry, mailing, dinosaur...</td>\n",
       "      <td>3</td>\n",
       "      <td>li</td>\n",
       "      <td>sauropod</td>\n",
       "      <td>china</td>\n",
       "      <td>entry</td>\n",
       "      <td>mailing</td>\n",
       "      <td>dinosaur</td>\n",
       "      <td>geology</td>\n",
       "      <td>eighteen</td>\n",
       "      <td>list</td>\n",
       "      <td>cretaceous</td>\n",
       "    </tr>\n",
       "    <tr>\n",
       "      <th>1</th>\n",
       "      <td>Acrocanthosaurus</td>\n",
       "      <td>[theropod, prey, bones, footprints, rose, texa...</td>\n",
       "      <td>9</td>\n",
       "      <td>theropod</td>\n",
       "      <td>prey</td>\n",
       "      <td>bones</td>\n",
       "      <td>footprints</td>\n",
       "      <td>rose</td>\n",
       "      <td>texas</td>\n",
       "      <td>large</td>\n",
       "      <td>theropods</td>\n",
       "      <td>spines</td>\n",
       "      <td>formation</td>\n",
       "    </tr>\n",
       "    <tr>\n",
       "      <th>2</th>\n",
       "      <td>Gannansaurus</td>\n",
       "      <td>[vertebra, euhelopus, mid, shares, southern, c...</td>\n",
       "      <td>1</td>\n",
       "      <td>vertebra</td>\n",
       "      <td>euhelopus</td>\n",
       "      <td>mid</td>\n",
       "      <td>shares</td>\n",
       "      <td>southern</td>\n",
       "      <td>characters</td>\n",
       "      <td>late</td>\n",
       "      <td>known</td>\n",
       "      <td>basin</td>\n",
       "      <td>indicating</td>\n",
       "    </tr>\n",
       "    <tr>\n",
       "      <th>3</th>\n",
       "      <td>Pachysaurops</td>\n",
       "      <td>[material, animals, von, limb, species, skelet...</td>\n",
       "      <td>21</td>\n",
       "      <td>material</td>\n",
       "      <td>animals</td>\n",
       "      <td>von</td>\n",
       "      <td>limb</td>\n",
       "      <td>species</td>\n",
       "      <td>skeletons</td>\n",
       "      <td>germany</td>\n",
       "      <td>posture</td>\n",
       "      <td>growth</td>\n",
       "      <td>individuals</td>\n",
       "    </tr>\n",
       "    <tr>\n",
       "      <th>4</th>\n",
       "      <td>Xiongguanlong</td>\n",
       "      <td>[china, tyrannosauroids, tyrannosaur, tyrannos...</td>\n",
       "      <td>1</td>\n",
       "      <td>china</td>\n",
       "      <td>tyrannosauroids</td>\n",
       "      <td>tyrannosaur</td>\n",
       "      <td>tyrannosauroid</td>\n",
       "      <td>city</td>\n",
       "      <td>skull</td>\n",
       "      <td>right</td>\n",
       "      <td>cretaceous</td>\n",
       "      <td>fossil</td>\n",
       "      <td>rex</td>\n",
       "    </tr>\n",
       "  </tbody>\n",
       "</table>\n",
       "</div>"
      ],
      "text/plain": [
       "      Dinosour_Name                                         tfidf_rank  \\\n",
       "0      Jiutaisaurus  [li, sauropod, china, entry, mailing, dinosaur...   \n",
       "1  Acrocanthosaurus  [theropod, prey, bones, footprints, rose, texa...   \n",
       "2      Gannansaurus  [vertebra, euhelopus, mid, shares, southern, c...   \n",
       "3      Pachysaurops  [material, animals, von, limb, species, skelet...   \n",
       "4     Xiongguanlong  [china, tyrannosauroids, tyrannosaur, tyrannos...   \n",
       "\n",
       "   target        t1               t2           t3              t4        t5  \\\n",
       "0       3        li         sauropod        china           entry   mailing   \n",
       "1       9  theropod             prey        bones      footprints      rose   \n",
       "2       1  vertebra        euhelopus          mid          shares  southern   \n",
       "3      21  material          animals          von            limb   species   \n",
       "4       1     china  tyrannosauroids  tyrannosaur  tyrannosauroid      city   \n",
       "\n",
       "           t6       t7          t8      t9          t10  \n",
       "0    dinosaur  geology    eighteen    list   cretaceous  \n",
       "1       texas    large   theropods  spines    formation  \n",
       "2  characters     late       known   basin   indicating  \n",
       "3   skeletons  germany     posture  growth  individuals  \n",
       "4       skull    right  cretaceous  fossil          rex  "
      ]
     },
     "execution_count": 33,
     "metadata": {},
     "output_type": "execute_result"
    }
   ],
   "source": [
    "df_long = df_short.merge(df3, left_index=True, right_index=True)\n",
    "df_long.head()"
   ]
  },
  {
   "cell_type": "markdown",
   "metadata": {},
   "source": [
    "#### Below two cells calculate word vector for each word"
   ]
  },
  {
   "cell_type": "code",
   "execution_count": 34,
   "metadata": {
    "collapsed": true
   },
   "outputs": [],
   "source": [
    "def get_word_vec(x):\n",
    "    return model.wv[x]"
   ]
  },
  {
   "cell_type": "code",
   "execution_count": 35,
   "metadata": {},
   "outputs": [
    {
     "data": {
      "text/html": [
       "<div>\n",
       "<style scoped>\n",
       "    .dataframe tbody tr th:only-of-type {\n",
       "        vertical-align: middle;\n",
       "    }\n",
       "\n",
       "    .dataframe tbody tr th {\n",
       "        vertical-align: top;\n",
       "    }\n",
       "\n",
       "    .dataframe thead th {\n",
       "        text-align: right;\n",
       "    }\n",
       "</style>\n",
       "<table border=\"1\" class=\"dataframe\">\n",
       "  <thead>\n",
       "    <tr style=\"text-align: right;\">\n",
       "      <th></th>\n",
       "      <th>Dinosour_Name</th>\n",
       "      <th>tfidf_rank</th>\n",
       "      <th>target</th>\n",
       "      <th>t1</th>\n",
       "      <th>t2</th>\n",
       "      <th>t3</th>\n",
       "      <th>t4</th>\n",
       "      <th>t5</th>\n",
       "      <th>t6</th>\n",
       "      <th>t7</th>\n",
       "      <th>t8</th>\n",
       "      <th>t9</th>\n",
       "      <th>t10</th>\n",
       "    </tr>\n",
       "  </thead>\n",
       "  <tbody>\n",
       "    <tr>\n",
       "      <th>0</th>\n",
       "      <td>Jiutaisaurus</td>\n",
       "      <td>[li, sauropod, china, entry, mailing, dinosaur...</td>\n",
       "      <td>3</td>\n",
       "      <td>[-0.008703152, -0.0001660559, 0.0020076404, -0...</td>\n",
       "      <td>[-0.0014460513, -0.007113537, 0.011040891, 0.0...</td>\n",
       "      <td>[0.0020031822, 0.0067751287, -0.0010514023, -0...</td>\n",
       "      <td>[-0.006622589, -0.0013424736, 0.00828771, -0.0...</td>\n",
       "      <td>[-0.0034199744, 0.0010439792, 0.004772311, 0.0...</td>\n",
       "      <td>[-0.0054585026, 0.0053561227, 0.010639078, 0.0...</td>\n",
       "      <td>[0.0015393439, 0.009300169, -0.009908707, -0.0...</td>\n",
       "      <td>[-0.003369663, -0.0012790837, -0.0010941069, -...</td>\n",
       "      <td>[0.0010499741, 0.0037522588, 0.0043581454, 0.0...</td>\n",
       "      <td>[0.008062972, -0.009854394, -0.006828905, -0.0...</td>\n",
       "    </tr>\n",
       "    <tr>\n",
       "      <th>1</th>\n",
       "      <td>Acrocanthosaurus</td>\n",
       "      <td>[theropod, prey, bones, footprints, rose, texa...</td>\n",
       "      <td>9</td>\n",
       "      <td>[0.0033310354, 0.008749673, 0.0062799826, 0.00...</td>\n",
       "      <td>[-0.005493202, -0.010383192, 0.004714991, 0.00...</td>\n",
       "      <td>[-9.6452764e-05, 0.0017368955, -0.008461526, -...</td>\n",
       "      <td>[0.0042897193, 0.0065922267, 0.010245321, -0.0...</td>\n",
       "      <td>[-0.00037471237, 0.0024529952, 0.0014172881, 0...</td>\n",
       "      <td>[0.00061023154, 0.00268959, -0.005486665, 0.00...</td>\n",
       "      <td>[0.005841105, 0.008258192, -0.0012092775, -0.0...</td>\n",
       "      <td>[0.0038866969, 0.0072074174, -0.0045671887, 0....</td>\n",
       "      <td>[0.008793088, -0.0017526482, 0.006015234, -0.0...</td>\n",
       "      <td>[0.0061031375, 0.0035557991, 0.00874045, 0.005...</td>\n",
       "    </tr>\n",
       "    <tr>\n",
       "      <th>2</th>\n",
       "      <td>Gannansaurus</td>\n",
       "      <td>[vertebra, euhelopus, mid, shares, southern, c...</td>\n",
       "      <td>1</td>\n",
       "      <td>[-0.00873571, 0.009275186, -0.0037997076, -0.0...</td>\n",
       "      <td>[0.0062745106, -0.00594248, 0.008685108, 0.001...</td>\n",
       "      <td>[-0.0005643376, 0.0067243045, -0.0060712346, 0...</td>\n",
       "      <td>[-0.004861653, 0.0008823294, 0.0017011497, -0....</td>\n",
       "      <td>[0.009852141, -0.004580853, 0.0044415337, 0.00...</td>\n",
       "      <td>[-0.0005642553, 0.0070317206, 0.0037736846, 0....</td>\n",
       "      <td>[-0.0007822251, -0.0015254677, 0.008783886, 0....</td>\n",
       "      <td>[-0.0006488418, -0.007947108, 0.00975566, -0.0...</td>\n",
       "      <td>[-0.0037810877, 0.0048288195, -0.008331582, -0...</td>\n",
       "      <td>[0.0091765905, -0.0040588705, -0.0078060175, -...</td>\n",
       "    </tr>\n",
       "    <tr>\n",
       "      <th>3</th>\n",
       "      <td>Pachysaurops</td>\n",
       "      <td>[material, animals, von, limb, species, skelet...</td>\n",
       "      <td>21</td>\n",
       "      <td>[0.0071044504, -0.009191907, 0.000433386, 0.00...</td>\n",
       "      <td>[-0.0002303709, -0.0048747147, 0.00562177, -0....</td>\n",
       "      <td>[0.008674698, -0.0034388176, 0.001694855, 0.00...</td>\n",
       "      <td>[-0.003685667, 0.007436367, 0.0074198795, -0.0...</td>\n",
       "      <td>[0.011263338, -0.0034976806, 0.00031262735, -0...</td>\n",
       "      <td>[-0.005053603, 0.0007246767, -0.0015069584, 0....</td>\n",
       "      <td>[-0.00866919, -0.005430887, 7.4599106e-05, -0....</td>\n",
       "      <td>[-0.0075323666, 0.001843284, -0.0048758085, -0...</td>\n",
       "      <td>[-0.009223508, 0.0023607998, 0.0036196194, 0.0...</td>\n",
       "      <td>[-0.008864173, -0.007065329, -0.0076381424, 0....</td>\n",
       "    </tr>\n",
       "    <tr>\n",
       "      <th>4</th>\n",
       "      <td>Xiongguanlong</td>\n",
       "      <td>[china, tyrannosauroids, tyrannosaur, tyrannos...</td>\n",
       "      <td>1</td>\n",
       "      <td>[0.0020031822, 0.0067751287, -0.0010514023, -0...</td>\n",
       "      <td>[-0.000801846, -0.0008947225, -0.0057692425, 0...</td>\n",
       "      <td>[0.0029446832, -0.0045438446, -0.0009876201, 0...</td>\n",
       "      <td>[0.00031460484, 0.0016246911, 0.009568301, 0.0...</td>\n",
       "      <td>[0.0022986007, 0.00966127, 0.007996967, 0.0032...</td>\n",
       "      <td>[-0.0071080658, 0.0044984845, -0.0006328861, -...</td>\n",
       "      <td>[0.0018523005, -0.0037206654, -0.0067740777, 0...</td>\n",
       "      <td>[0.008062972, -0.009854394, -0.006828905, -0.0...</td>\n",
       "      <td>[-0.0016524506, -0.0051935217, 0.0043878173, -...</td>\n",
       "      <td>[-0.009546558, -0.008270859, -0.008349231, 0.0...</td>\n",
       "    </tr>\n",
       "  </tbody>\n",
       "</table>\n",
       "</div>"
      ],
      "text/plain": [
       "      Dinosour_Name                                         tfidf_rank  \\\n",
       "0      Jiutaisaurus  [li, sauropod, china, entry, mailing, dinosaur...   \n",
       "1  Acrocanthosaurus  [theropod, prey, bones, footprints, rose, texa...   \n",
       "2      Gannansaurus  [vertebra, euhelopus, mid, shares, southern, c...   \n",
       "3      Pachysaurops  [material, animals, von, limb, species, skelet...   \n",
       "4     Xiongguanlong  [china, tyrannosauroids, tyrannosaur, tyrannos...   \n",
       "\n",
       "   target                                                 t1  \\\n",
       "0       3  [-0.008703152, -0.0001660559, 0.0020076404, -0...   \n",
       "1       9  [0.0033310354, 0.008749673, 0.0062799826, 0.00...   \n",
       "2       1  [-0.00873571, 0.009275186, -0.0037997076, -0.0...   \n",
       "3      21  [0.0071044504, -0.009191907, 0.000433386, 0.00...   \n",
       "4       1  [0.0020031822, 0.0067751287, -0.0010514023, -0...   \n",
       "\n",
       "                                                  t2  \\\n",
       "0  [-0.0014460513, -0.007113537, 0.011040891, 0.0...   \n",
       "1  [-0.005493202, -0.010383192, 0.004714991, 0.00...   \n",
       "2  [0.0062745106, -0.00594248, 0.008685108, 0.001...   \n",
       "3  [-0.0002303709, -0.0048747147, 0.00562177, -0....   \n",
       "4  [-0.000801846, -0.0008947225, -0.0057692425, 0...   \n",
       "\n",
       "                                                  t3  \\\n",
       "0  [0.0020031822, 0.0067751287, -0.0010514023, -0...   \n",
       "1  [-9.6452764e-05, 0.0017368955, -0.008461526, -...   \n",
       "2  [-0.0005643376, 0.0067243045, -0.0060712346, 0...   \n",
       "3  [0.008674698, -0.0034388176, 0.001694855, 0.00...   \n",
       "4  [0.0029446832, -0.0045438446, -0.0009876201, 0...   \n",
       "\n",
       "                                                  t4  \\\n",
       "0  [-0.006622589, -0.0013424736, 0.00828771, -0.0...   \n",
       "1  [0.0042897193, 0.0065922267, 0.010245321, -0.0...   \n",
       "2  [-0.004861653, 0.0008823294, 0.0017011497, -0....   \n",
       "3  [-0.003685667, 0.007436367, 0.0074198795, -0.0...   \n",
       "4  [0.00031460484, 0.0016246911, 0.009568301, 0.0...   \n",
       "\n",
       "                                                  t5  \\\n",
       "0  [-0.0034199744, 0.0010439792, 0.004772311, 0.0...   \n",
       "1  [-0.00037471237, 0.0024529952, 0.0014172881, 0...   \n",
       "2  [0.009852141, -0.004580853, 0.0044415337, 0.00...   \n",
       "3  [0.011263338, -0.0034976806, 0.00031262735, -0...   \n",
       "4  [0.0022986007, 0.00966127, 0.007996967, 0.0032...   \n",
       "\n",
       "                                                  t6  \\\n",
       "0  [-0.0054585026, 0.0053561227, 0.010639078, 0.0...   \n",
       "1  [0.00061023154, 0.00268959, -0.005486665, 0.00...   \n",
       "2  [-0.0005642553, 0.0070317206, 0.0037736846, 0....   \n",
       "3  [-0.005053603, 0.0007246767, -0.0015069584, 0....   \n",
       "4  [-0.0071080658, 0.0044984845, -0.0006328861, -...   \n",
       "\n",
       "                                                  t7  \\\n",
       "0  [0.0015393439, 0.009300169, -0.009908707, -0.0...   \n",
       "1  [0.005841105, 0.008258192, -0.0012092775, -0.0...   \n",
       "2  [-0.0007822251, -0.0015254677, 0.008783886, 0....   \n",
       "3  [-0.00866919, -0.005430887, 7.4599106e-05, -0....   \n",
       "4  [0.0018523005, -0.0037206654, -0.0067740777, 0...   \n",
       "\n",
       "                                                  t8  \\\n",
       "0  [-0.003369663, -0.0012790837, -0.0010941069, -...   \n",
       "1  [0.0038866969, 0.0072074174, -0.0045671887, 0....   \n",
       "2  [-0.0006488418, -0.007947108, 0.00975566, -0.0...   \n",
       "3  [-0.0075323666, 0.001843284, -0.0048758085, -0...   \n",
       "4  [0.008062972, -0.009854394, -0.006828905, -0.0...   \n",
       "\n",
       "                                                  t9  \\\n",
       "0  [0.0010499741, 0.0037522588, 0.0043581454, 0.0...   \n",
       "1  [0.008793088, -0.0017526482, 0.006015234, -0.0...   \n",
       "2  [-0.0037810877, 0.0048288195, -0.008331582, -0...   \n",
       "3  [-0.009223508, 0.0023607998, 0.0036196194, 0.0...   \n",
       "4  [-0.0016524506, -0.0051935217, 0.0043878173, -...   \n",
       "\n",
       "                                                 t10  \n",
       "0  [0.008062972, -0.009854394, -0.006828905, -0.0...  \n",
       "1  [0.0061031375, 0.0035557991, 0.00874045, 0.005...  \n",
       "2  [0.0091765905, -0.0040588705, -0.0078060175, -...  \n",
       "3  [-0.008864173, -0.007065329, -0.0076381424, 0....  \n",
       "4  [-0.009546558, -0.008270859, -0.008349231, 0.0...  "
      ]
     },
     "execution_count": 35,
     "metadata": {},
     "output_type": "execute_result"
    }
   ],
   "source": [
    "ip_cols =[]\n",
    "for i in range(1, num_of_top_terms+1):\n",
    "    col = \"t\" + str(i)\n",
    "    ip_cols.append(col)\n",
    "    df_long[col] = df_long[col].map(get_word_vec)\n",
    "df_long.head()"
   ]
  },
  {
   "cell_type": "markdown",
   "metadata": {},
   "source": [
    "#### Now splitting/mapping each list of vector values to seperate columns"
   ]
  },
  {
   "cell_type": "code",
   "execution_count": 36,
   "metadata": {},
   "outputs": [
    {
     "data": {
      "text/html": [
       "<div>\n",
       "<style scoped>\n",
       "    .dataframe tbody tr th:only-of-type {\n",
       "        vertical-align: middle;\n",
       "    }\n",
       "\n",
       "    .dataframe tbody tr th {\n",
       "        vertical-align: top;\n",
       "    }\n",
       "\n",
       "    .dataframe thead th {\n",
       "        text-align: right;\n",
       "    }\n",
       "</style>\n",
       "<table border=\"1\" class=\"dataframe\">\n",
       "  <thead>\n",
       "    <tr style=\"text-align: right;\">\n",
       "      <th></th>\n",
       "      <th>t1_1</th>\n",
       "      <th>t1_2</th>\n",
       "      <th>t1_3</th>\n",
       "      <th>t1_4</th>\n",
       "      <th>t1_5</th>\n",
       "      <th>t1_6</th>\n",
       "      <th>t1_7</th>\n",
       "      <th>t1_8</th>\n",
       "      <th>t1_9</th>\n",
       "      <th>t1_10</th>\n",
       "      <th>...</th>\n",
       "      <th>t10_41</th>\n",
       "      <th>t10_42</th>\n",
       "      <th>t10_43</th>\n",
       "      <th>t10_44</th>\n",
       "      <th>t10_45</th>\n",
       "      <th>t10_46</th>\n",
       "      <th>t10_47</th>\n",
       "      <th>t10_48</th>\n",
       "      <th>t10_49</th>\n",
       "      <th>t10_50</th>\n",
       "    </tr>\n",
       "  </thead>\n",
       "  <tbody>\n",
       "    <tr>\n",
       "      <th>0</th>\n",
       "      <td>-0.008703</td>\n",
       "      <td>-0.000166</td>\n",
       "      <td>0.002008</td>\n",
       "      <td>-0.006755</td>\n",
       "      <td>0.003963</td>\n",
       "      <td>-0.002143</td>\n",
       "      <td>0.003032</td>\n",
       "      <td>0.009123</td>\n",
       "      <td>-0.001173</td>\n",
       "      <td>-0.003588</td>\n",
       "      <td>...</td>\n",
       "      <td>-0.004983</td>\n",
       "      <td>0.001222</td>\n",
       "      <td>0.004389</td>\n",
       "      <td>-0.004061</td>\n",
       "      <td>0.006285</td>\n",
       "      <td>0.005099</td>\n",
       "      <td>-0.009933</td>\n",
       "      <td>0.006327</td>\n",
       "      <td>-0.008698</td>\n",
       "      <td>-0.001760</td>\n",
       "    </tr>\n",
       "    <tr>\n",
       "      <th>1</th>\n",
       "      <td>0.003331</td>\n",
       "      <td>0.008750</td>\n",
       "      <td>0.006280</td>\n",
       "      <td>0.004833</td>\n",
       "      <td>-0.003235</td>\n",
       "      <td>-0.003018</td>\n",
       "      <td>0.007442</td>\n",
       "      <td>0.008552</td>\n",
       "      <td>-0.009889</td>\n",
       "      <td>-0.006838</td>\n",
       "      <td>...</td>\n",
       "      <td>-0.003832</td>\n",
       "      <td>0.001065</td>\n",
       "      <td>-0.005445</td>\n",
       "      <td>-0.003076</td>\n",
       "      <td>-0.007170</td>\n",
       "      <td>-0.000224</td>\n",
       "      <td>-0.002739</td>\n",
       "      <td>-0.002719</td>\n",
       "      <td>0.005719</td>\n",
       "      <td>0.007731</td>\n",
       "    </tr>\n",
       "    <tr>\n",
       "      <th>2</th>\n",
       "      <td>-0.008736</td>\n",
       "      <td>0.009275</td>\n",
       "      <td>-0.003800</td>\n",
       "      <td>-0.009390</td>\n",
       "      <td>-0.005893</td>\n",
       "      <td>0.003903</td>\n",
       "      <td>0.003581</td>\n",
       "      <td>-0.000585</td>\n",
       "      <td>-0.005245</td>\n",
       "      <td>-0.010037</td>\n",
       "      <td>...</td>\n",
       "      <td>0.001198</td>\n",
       "      <td>-0.001291</td>\n",
       "      <td>0.000281</td>\n",
       "      <td>0.000109</td>\n",
       "      <td>-0.007237</td>\n",
       "      <td>-0.008872</td>\n",
       "      <td>-0.008238</td>\n",
       "      <td>0.001097</td>\n",
       "      <td>0.000521</td>\n",
       "      <td>0.009116</td>\n",
       "    </tr>\n",
       "    <tr>\n",
       "      <th>3</th>\n",
       "      <td>0.007104</td>\n",
       "      <td>-0.009192</td>\n",
       "      <td>0.000433</td>\n",
       "      <td>0.006982</td>\n",
       "      <td>-0.001122</td>\n",
       "      <td>-0.009042</td>\n",
       "      <td>0.007791</td>\n",
       "      <td>-0.006370</td>\n",
       "      <td>0.002291</td>\n",
       "      <td>-0.005849</td>\n",
       "      <td>...</td>\n",
       "      <td>-0.000153</td>\n",
       "      <td>0.007777</td>\n",
       "      <td>-0.005909</td>\n",
       "      <td>0.003201</td>\n",
       "      <td>0.005702</td>\n",
       "      <td>0.001017</td>\n",
       "      <td>0.001614</td>\n",
       "      <td>0.000928</td>\n",
       "      <td>0.006446</td>\n",
       "      <td>0.000143</td>\n",
       "    </tr>\n",
       "    <tr>\n",
       "      <th>4</th>\n",
       "      <td>0.002003</td>\n",
       "      <td>0.006775</td>\n",
       "      <td>-0.001051</td>\n",
       "      <td>-0.006629</td>\n",
       "      <td>-0.003277</td>\n",
       "      <td>0.002399</td>\n",
       "      <td>0.005618</td>\n",
       "      <td>0.007632</td>\n",
       "      <td>0.001566</td>\n",
       "      <td>0.000476</td>\n",
       "      <td>...</td>\n",
       "      <td>0.001671</td>\n",
       "      <td>0.009109</td>\n",
       "      <td>-0.007238</td>\n",
       "      <td>-0.008904</td>\n",
       "      <td>-0.000514</td>\n",
       "      <td>0.007569</td>\n",
       "      <td>-0.000668</td>\n",
       "      <td>0.008565</td>\n",
       "      <td>0.002510</td>\n",
       "      <td>0.002103</td>\n",
       "    </tr>\n",
       "  </tbody>\n",
       "</table>\n",
       "<p>5 rows × 500 columns</p>\n",
       "</div>"
      ],
      "text/plain": [
       "       t1_1      t1_2      t1_3      t1_4      t1_5      t1_6      t1_7  \\\n",
       "0 -0.008703 -0.000166  0.002008 -0.006755  0.003963 -0.002143  0.003032   \n",
       "1  0.003331  0.008750  0.006280  0.004833 -0.003235 -0.003018  0.007442   \n",
       "2 -0.008736  0.009275 -0.003800 -0.009390 -0.005893  0.003903  0.003581   \n",
       "3  0.007104 -0.009192  0.000433  0.006982 -0.001122 -0.009042  0.007791   \n",
       "4  0.002003  0.006775 -0.001051 -0.006629 -0.003277  0.002399  0.005618   \n",
       "\n",
       "       t1_8      t1_9     t1_10    ...       t10_41    t10_42    t10_43  \\\n",
       "0  0.009123 -0.001173 -0.003588    ...    -0.004983  0.001222  0.004389   \n",
       "1  0.008552 -0.009889 -0.006838    ...    -0.003832  0.001065 -0.005445   \n",
       "2 -0.000585 -0.005245 -0.010037    ...     0.001198 -0.001291  0.000281   \n",
       "3 -0.006370  0.002291 -0.005849    ...    -0.000153  0.007777 -0.005909   \n",
       "4  0.007632  0.001566  0.000476    ...     0.001671  0.009109 -0.007238   \n",
       "\n",
       "     t10_44    t10_45    t10_46    t10_47    t10_48    t10_49    t10_50  \n",
       "0 -0.004061  0.006285  0.005099 -0.009933  0.006327 -0.008698 -0.001760  \n",
       "1 -0.003076 -0.007170 -0.000224 -0.002739 -0.002719  0.005719  0.007731  \n",
       "2  0.000109 -0.007237 -0.008872 -0.008238  0.001097  0.000521  0.009116  \n",
       "3  0.003201  0.005702  0.001017  0.001614  0.000928  0.006446  0.000143  \n",
       "4 -0.008904 -0.000514  0.007569 -0.000668  0.008565  0.002510  0.002103  \n",
       "\n",
       "[5 rows x 500 columns]"
      ]
     },
     "execution_count": 36,
     "metadata": {},
     "output_type": "execute_result"
    }
   ],
   "source": [
    "cols_df = pd.DataFrame()\n",
    "for i in ip_cols:\n",
    "    colnames =[]\n",
    "    for j in range(1,num_features+1):\n",
    "        col = i + \"_\" + str(j)\n",
    "        colnames.append(col)\n",
    "    temp_df = pd.DataFrame(df_long[i].values.tolist(),columns=colnames)\n",
    "    cols_df = pd.concat([cols_df, temp_df], axis=1)\n",
    "cols_df.head()"
   ]
  },
  {
   "cell_type": "code",
   "execution_count": 37,
   "metadata": {
    "collapsed": true
   },
   "outputs": [],
   "source": [
    "temp_df = df_long[[\"Dinosour_Name\", \"target\"]]\n",
    "final_df = pd.concat([temp_df, cols_df], axis=1)"
   ]
  },
  {
   "cell_type": "code",
   "execution_count": 38,
   "metadata": {
    "collapsed": true
   },
   "outputs": [],
   "source": [
    "final_df.set_index(\"Dinosour_Name\", inplace=True)"
   ]
  },
  {
   "cell_type": "markdown",
   "metadata": {},
   "source": [
    "### Do Predictions"
   ]
  },
  {
   "cell_type": "code",
   "execution_count": 39,
   "metadata": {
    "collapsed": true
   },
   "outputs": [],
   "source": [
    "X = final_df.iloc[:, 1:]\n",
    "Y = final_df[\"target\"]"
   ]
  },
  {
   "cell_type": "code",
   "execution_count": 40,
   "metadata": {},
   "outputs": [
    {
     "name": "stdout",
     "output_type": "stream",
     "text": [
      "Accuracy Score: 0.26666666666666666\n",
      "             precision    recall  f1-score   support\n",
      "\n",
      "          0       0.00      0.00      0.00         2\n",
      "          1       0.38      0.60      0.46         5\n",
      "          2       0.25      0.50      0.33         2\n",
      "          3       0.00      0.00      0.00         3\n",
      "          4       0.00      0.00      0.00         1\n",
      "          6       0.00      0.00      0.00         1\n",
      "          8       0.00      0.00      0.00         1\n",
      "         14       0.00      0.00      0.00         0\n",
      "         40       0.00      0.00      0.00         0\n",
      "\n",
      "avg / total       0.16      0.27      0.20        15\n",
      "\n"
     ]
    },
    {
     "name": "stderr",
     "output_type": "stream",
     "text": [
      "C:\\Users\\pnkjs\\Anaconda3\\lib\\site-packages\\sklearn\\metrics\\classification.py:1135: UndefinedMetricWarning: Precision and F-score are ill-defined and being set to 0.0 in labels with no predicted samples.\n",
      "  'precision', 'predicted', average, warn_for)\n",
      "C:\\Users\\pnkjs\\Anaconda3\\lib\\site-packages\\sklearn\\metrics\\classification.py:1137: UndefinedMetricWarning: Recall and F-score are ill-defined and being set to 0.0 in labels with no true samples.\n",
      "  'recall', 'true', average, warn_for)\n"
     ]
    }
   ],
   "source": [
    "from sklearn import metrics\n",
    "\n",
    "X_train, X_test, Y_train, Y_test = train_test_split(X, Y, random_state=0, train_size=0.7, test_size=0.3)\n",
    "\n",
    "# Using Decision Tree Classifier and calling fit function\n",
    "decisionTree = tree.DecisionTreeClassifier()\n",
    "decisionTree.fit(X_train, Y_train)\n",
    "\n",
    "Y_predict = decisionTree.predict(X_test)\n",
    "\n",
    "# Print performance details\n",
    "accuracy = metrics.accuracy_score(Y_test, Y_predict)\n",
    "print(\"Accuracy Score: \" + str(accuracy))\n",
    "print(metrics.classification_report(Y_test, Y_predict))\n",
    "\n"
   ]
  },
  {
   "cell_type": "code",
   "execution_count": 41,
   "metadata": {},
   "outputs": [
    {
     "name": "stdout",
     "output_type": "stream",
     "text": [
      "Accuracy Score: 0.3333333333333333\n",
      "             precision    recall  f1-score   support\n",
      "\n",
      "          0       0.00      0.00      0.00         2\n",
      "          1       0.33      1.00      0.50         5\n",
      "          2       0.00      0.00      0.00         2\n",
      "          3       0.00      0.00      0.00         3\n",
      "          4       0.00      0.00      0.00         1\n",
      "          6       0.00      0.00      0.00         1\n",
      "          8       0.00      0.00      0.00         1\n",
      "\n",
      "avg / total       0.11      0.33      0.17        15\n",
      "\n"
     ]
    },
    {
     "name": "stderr",
     "output_type": "stream",
     "text": [
      "C:\\Users\\pnkjs\\Anaconda3\\lib\\site-packages\\sklearn\\metrics\\classification.py:1135: UndefinedMetricWarning: Precision and F-score are ill-defined and being set to 0.0 in labels with no predicted samples.\n",
      "  'precision', 'predicted', average, warn_for)\n"
     ]
    }
   ],
   "source": [
    "log_reg = linear_model.LogisticRegression()\n",
    "\n",
    "log_reg.fit(X_train,Y_train)\n",
    "\n",
    "Y_predict = log_reg.predict(X_test)\n",
    "\n",
    "accuracy = metrics.accuracy_score(Y_test, Y_predict)\n",
    "print(\"Accuracy Score: \" + str(accuracy))\n",
    "print(metrics.classification_report(Y_test, Y_predict))"
   ]
  },
  {
   "cell_type": "code",
   "execution_count": null,
   "metadata": {
    "collapsed": true
   },
   "outputs": [],
   "source": []
  },
  {
   "cell_type": "markdown",
   "metadata": {},
   "source": []
  }
 ],
 "metadata": {
  "kernelspec": {
   "display_name": "Python 3",
   "language": "python",
   "name": "python3"
  },
  "language_info": {
   "codemirror_mode": {
    "name": "ipython",
    "version": 3
   },
   "file_extension": ".py",
   "mimetype": "text/x-python",
   "name": "python",
   "nbconvert_exporter": "python",
   "pygments_lexer": "ipython3",
   "version": "3.6.6"
  }
 },
 "nbformat": 4,
 "nbformat_minor": 2
}
